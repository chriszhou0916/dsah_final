{
 "cells": [
  {
   "cell_type": "markdown",
   "metadata": {},
   "source": [
    "### Goal: create feature table that includes\n",
    "- abnormal lab values\n",
    "- min max mean of select lab values\n",
    "- min max mean of select chart events\n",
    "- sum of urine output\n",
    "- demographic data"
   ]
  },
  {
   "cell_type": "code",
   "execution_count": 1,
   "metadata": {},
   "outputs": [],
   "source": [
    "import pandas as pd\n",
    "import numpy as np\n",
    "import seaborn as sns\n",
    "%matplotlib inline\n",
    "import statistics\n",
    "import matplotlib.pyplot as plt"
   ]
  },
  {
   "cell_type": "code",
   "execution_count": 2,
   "metadata": {},
   "outputs": [
    {
     "name": "stderr",
     "output_type": "stream",
     "text": [
      "/Users/chriszhou/anaconda/envs/py37/lib/python3.7/site-packages/IPython/core/interactiveshell.py:3049: DtypeWarning: Columns (11,14,15) have mixed types. Specify dtype option on import or set low_memory=False.\n",
      "  interactivity=interactivity, compiler=compiler, result=result)\n"
     ]
    }
   ],
   "source": [
    "labevents_subset = pd.read_csv('./subsets_tables_collection/labevents_subset.csv')\n",
    "labevents_subset['HADM_ID'] = labevents_subset['HADM_ID'].astype(np.int64)\n",
    "labevents_subset['CHARTTIME'] = pd.to_datetime(labevents_subset['CHARTTIME'])\n",
    "labevents_subset['ROW_ID'] = 'lab' + labevents_subset['ROW_ID'].astype(str)\n",
    "\n",
    "\n",
    "chartevents_subset = pd.read_csv('./subsets_tables_collection/chartevents_subset.csv')\n",
    "chartevents_subset['HADM_ID'] = chartevents_subset['HADM_ID'].astype(np.int64)\n",
    "chartevents_subset['CHARTTIME'] = pd.to_datetime(chartevents_subset['CHARTTIME'])\n",
    "chartevents_subset['ROW_ID'] = 'chart' + chartevents_subset['ROW_ID'].astype(str)\n",
    "\n",
    "outputevents_subset = pd.read_csv('./subsets_tables_collection/outputevents_subset.csv')\n",
    "outputevents_subset['HADM_ID'] = outputevents_subset['HADM_ID'].astype(np.int64)\n",
    "outputevents_subset['CHARTTIME'] = pd.to_datetime(outputevents_subset['CHARTTIME'])\n",
    "outputevents_subset['ROW_ID'] = 'output' + outputevents_subset['ROW_ID'].astype(str)\n",
    "\n",
    "lab_times = labevents_subset[['ROW_ID','CHARTTIME','HADM_ID']]\n",
    "chart_times = chartevents_subset[['ROW_ID','CHARTTIME','HADM_ID']]\n",
    "out_times = outputevents_subset[['ROW_ID','CHARTTIME','HADM_ID']]\n",
    "lab_chart_out_times = pd.concat([lab_times, chart_times, out_times], sort=False)\n",
    "grouped = lab_chart_out_times.groupby(['HADM_ID', pd.Grouper(freq='48H', key='CHARTTIME')])\n",
    "count = 0\n",
    "past_hadm = ''\n",
    "def counter(x):\n",
    "    global count, past_hadm\n",
    "    curr_hadm = x.iloc[0]\n",
    "    if past_hadm != curr_hadm:\n",
    "        count = 0\n",
    "        past_hadm = curr_hadm\n",
    "    y = count\n",
    "    count += 1\n",
    "    return str(curr_hadm) + \"_\" + str(count)\n",
    "lab_chart_out_times['HADM_datebin_num'] = grouped['HADM_ID'].transform(counter)"
   ]
  },
  {
   "cell_type": "code",
   "execution_count": 3,
   "metadata": {},
   "outputs": [],
   "source": [
    "# labevents_subset_binned = labevents_subset.merge(lab_chart_times, on=['ROW_ID', 'HADM_ID', 'CHARTTIME'])\n",
    "# chartevents_subset_binned = chartevents_subset.merge(lab_chart_times, on=['ROW_ID', 'HADM_ID', 'CHARTTIME'])\n",
    "labevents_subset_binned = labevents_subset.merge(lab_chart_out_times, on='ROW_ID')\n",
    "chartevents_subset_binned = chartevents_subset.merge(lab_chart_out_times, on='ROW_ID')\n",
    "outputevents_subset_binned = outputevents_subset.merge(lab_chart_out_times, on='ROW_ID')"
   ]
  },
  {
   "cell_type": "code",
   "execution_count": 4,
   "metadata": {},
   "outputs": [],
   "source": [
    "import sqlite3 # library for working with sqlite database\n",
    "conn = sqlite3.connect(\"./data/MIMIC.db\") # Create a connection to the on-disk database\n",
    "labitems = pd.read_sql(\"SELECT * FROM d_labitems\", conn)\n",
    "cols_to_use = ['ITEMID']\n",
    "labevents_subset_binned = labevents_subset_binned.merge(labitems, on=cols_to_use)\n",
    "labevents_subset_binned = labevents_subset_binned.drop(columns=['ROW_ID_y', 'index_y'])"
   ]
  },
  {
   "cell_type": "markdown",
   "metadata": {},
   "source": [
    "### Make features out of abnormal lab values"
   ]
  },
  {
   "cell_type": "code",
   "execution_count": 5,
   "metadata": {},
   "outputs": [],
   "source": [
    "labevents_subset_abnormal = labevents_subset_binned[labevents_subset_binned['FLAG'] == 'abnormal']\n",
    "labevents_subset_normal = labevents_subset_binned[labevents_subset_binned['FLAG'] != 'abnormal']"
   ]
  },
  {
   "cell_type": "code",
   "execution_count": 6,
   "metadata": {},
   "outputs": [
    {
     "data": {
      "text/plain": [
       "Index(['Glucose', 'Hematocrit', 'Hemoglobin', 'Red Blood Cells',\n",
       "       'Urea Nitrogen', 'Creatinine', 'PT', 'RDW', 'Calcium, Total',\n",
       "       'Chloride', 'pO2', 'PTT', 'Bicarbonate', 'Phosphate', 'MCH', 'Sodium',\n",
       "       'Platelet Count', 'pCO2', 'White Blood Cells', 'INR(PT)', 'pH', 'MCHC',\n",
       "       'MCV', 'Lactate', 'Troponin T', 'Free Calcium', 'Creatine Kinase (CK)',\n",
       "       'Calculated Total CO2', 'Lymphocytes', 'Neutrophils', 'Potassium',\n",
       "       'Albumin', 'Anion Gap', 'Magnesium', 'Bilirubin, Total',\n",
       "       'Alkaline Phosphatase', 'Osmolality, Measured',\n",
       "       'Asparate Aminotransferase (AST)', 'Creatine Kinase, MB Isoenzyme',\n",
       "       'Lactate Dehydrogenase (LD)', 'Potassium, Whole Blood', 'RBC',\n",
       "       'Alanine Aminotransferase (ALT)', 'CK-MB Index', 'Vancomycin',\n",
       "       'Fibrinogen, Functional', 'Hyaline Casts', 'Sodium, Whole Blood',\n",
       "       'Cortisol', 'WBC', 'Bands', 'Chloride, Whole Blood', 'Eosinophils',\n",
       "       'Iron', 'Bilirubin, Direct', 'Gentamicin',\n",
       "       'Calculated Bicarbonate, Whole Blood', 'Metamyelocytes', 'Transferrin',\n",
       "       'Iron Binding Capacity, Total', 'Monocytes', 'Thyroxine (T4), Free',\n",
       "       'D-Dimer', 'Troponin I', 'Urobilinogen', 'Phenytoin'],\n",
       "      dtype='object')"
      ]
     },
     "execution_count": 6,
     "metadata": {},
     "output_type": "execute_result"
    }
   ],
   "source": [
    "# dropping lab categories detected abnormal less than 5 times\n",
    "num_abnormal_labels = labevents_subset_abnormal.LABEL.value_counts()\n",
    "abnormal_labels = num_abnormal_labels[num_abnormal_labels > 5].index\n",
    "abnormal_labels"
   ]
  },
  {
   "cell_type": "code",
   "execution_count": 7,
   "metadata": {},
   "outputs": [],
   "source": [
    "labevents_subset_abnormal = labevents_subset_abnormal[labevents_subset_abnormal['LABEL'].isin(abnormal_labels)]"
   ]
  },
  {
   "cell_type": "code",
   "execution_count": 8,
   "metadata": {},
   "outputs": [],
   "source": [
    "labevents_subset_abnormal = pd.get_dummies(labevents_subset_abnormal, prefix='abnormal_lab', columns=['LABEL'])"
   ]
  },
  {
   "cell_type": "code",
   "execution_count": 9,
   "metadata": {},
   "outputs": [],
   "source": [
    "labevents_subset_features = pd.concat([labevents_subset_abnormal, labevents_subset_normal], sort=False)"
   ]
  },
  {
   "cell_type": "code",
   "execution_count": 10,
   "metadata": {},
   "outputs": [],
   "source": [
    "labevents_subset_features = labevents_subset_features.drop('LABEL', axis=1)"
   ]
  },
  {
   "cell_type": "code",
   "execution_count": 11,
   "metadata": {},
   "outputs": [],
   "source": [
    "filter_col = [col for col in labevents_subset_features if col.startswith('abnormal')]\n",
    "filter_col.append('HADM_datebin_num')\n",
    "labevents_subset_abnormal_features = labevents_subset_features[filter_col].groupby('HADM_datebin_num').sum()"
   ]
  },
  {
   "cell_type": "markdown",
   "metadata": {},
   "source": [
    "### Extract numeric features out of chartevents"
   ]
  },
  {
   "cell_type": "code",
   "execution_count": 12,
   "metadata": {},
   "outputs": [],
   "source": [
    "# What ITEMID from chartevents do we care about?\n",
    "chart_ids_we_care = {\n",
    "    'heart_rate': [211, 220045],\n",
    "    'oxygen': [646, 220277, 834],\n",
    "    'respiratory rate': [618,220210,3603,224689],\n",
    "    'systolic blood pressure': [51, 455, 220179, 220050, 3313, 225309],\n",
    "    'diastolic blood pressure': [8368, 8441, 220180, 220051, 8502, 225310],\n",
    "    'mean blood pressure': [52, 456, 220181, 220052, 3312, 225312],\n",
    "    'Glascow': [184, 723, 454, 220739, 223900, 223901],\n",
    "    'temp F': [678, 223761, 679, ]\n",
    "}\n",
    "outputevents_ids_we_care = {\n",
    "    'urine': [40055, 226559, 43175, 40069, 40094, 40065, 40061, 40715, 226627, 40473]\n",
    "}\n",
    "lab_ids_we_care = {\n",
    "    'Hematocrit': [51221],\n",
    "    'potassium': [50971],\n",
    "    'sodium': [50983],\n",
    "    'creatinine': [50912],\n",
    "    'chloride': [50902],\n",
    "    'platelets': [51265],\n",
    "    'white blood cell': [51301],\n",
    "    'hemoglobin': [51222],\n",
    "    'glucose': [50931],\n",
    "    'RBC count': [51279]\n",
    "}"
   ]
  },
  {
   "cell_type": "code",
   "execution_count": 13,
   "metadata": {},
   "outputs": [],
   "source": [
    "l = list(chart_ids_we_care.values())\n",
    "flat_list = [item for sublist in l for item in sublist]\n",
    "chartevents_subset_selected = chartevents_subset_binned[chartevents_subset_binned['ITEMID'].isin(flat_list)]\n",
    "itemid_to_var_df = pd.read_csv('./resources/itemid_to_variable_map.csv')\n",
    "chartevents_subset_selected = chartevents_subset_selected.merge(itemid_to_var_df, on='ITEMID')\n",
    "cols_to_keep = ['SUBJECT_ID', 'HADM_ID_x', 'ITEMID', 'CHARTTIME_x', 'VALUE', 'VALUENUM', 'VALUEUOM', 'LEVEL2', 'HADM_datebin_num']\n",
    "chartevents_subset_selected = chartevents_subset_selected[cols_to_keep]"
   ]
  },
  {
   "cell_type": "code",
   "execution_count": 14,
   "metadata": {},
   "outputs": [],
   "source": [
    "chartevents_subset_selected = chartevents_subset_selected[chartevents_subset_selected['VALUENUM'].notnull()]"
   ]
  },
  {
   "cell_type": "code",
   "execution_count": 15,
   "metadata": {},
   "outputs": [],
   "source": [
    "chartevents_features_max = chartevents_subset_selected.groupby(['HADM_datebin_num','LEVEL2'])['VALUENUM'].max().unstack()\n",
    "chartevents_features_min = chartevents_subset_selected.groupby(['HADM_datebin_num','LEVEL2'])['VALUENUM'].min().unstack()\n",
    "chartevents_features_mean = chartevents_subset_selected.groupby(['HADM_datebin_num','LEVEL2'])['VALUENUM'].mean().unstack()"
   ]
  },
  {
   "cell_type": "code",
   "execution_count": 16,
   "metadata": {},
   "outputs": [],
   "source": [
    "chartevents_features_max = chartevents_features_max.add_suffix('_max')\n",
    "chartevents_features_min = chartevents_features_min.add_suffix('_min')\n",
    "chartevents_features_mean = chartevents_features_mean.add_suffix('_mean')\n",
    "chartevents_features = pd.concat([chartevents_features_max, chartevents_features_min, chartevents_features_mean], axis=1)\n",
    "# chartevents_features.reset_index(inplace=True)\n",
    "chartevents_features.fillna(chartevents_features.mean(), inplace=True)"
   ]
  },
  {
   "cell_type": "markdown",
   "metadata": {},
   "source": [
    "### Extract numeric features from lab events"
   ]
  },
  {
   "cell_type": "code",
   "execution_count": 17,
   "metadata": {},
   "outputs": [],
   "source": [
    "l = list(lab_ids_we_care.values())\n",
    "flat_list = [item for sublist in l for item in sublist]\n",
    "labevents_subset_selected = labevents_subset_binned[labevents_subset_binned['ITEMID'].isin(flat_list)]\n",
    "labevents_subset_selected = labevents_subset_selected.merge(itemid_to_var_df, on='ITEMID')\n",
    "cols_to_keep = ['SUBJECT_ID', 'HADM_ID_x', 'ITEMID', 'CHARTTIME_x', 'VALUE', 'VALUENUM', 'VALUEUOM', 'LEVEL2', 'HADM_datebin_num']\n",
    "labevents_subset_selected = labevents_subset_selected[cols_to_keep]\n",
    "labevents_subset_selected = labevents_subset_selected[labevents_subset_selected['VALUENUM'].notnull()]\n",
    "labevents_features_max = labevents_subset_selected.groupby(['HADM_datebin_num','LEVEL2'])['VALUENUM'].max().unstack()\n",
    "labevents_features_min = labevents_subset_selected.groupby(['HADM_datebin_num','LEVEL2'])['VALUENUM'].min().unstack()\n",
    "labevents_features_mean = labevents_subset_selected.groupby(['HADM_datebin_num','LEVEL2'])['VALUENUM'].mean().unstack()\n",
    "labevents_features_max = labevents_features_max.add_suffix('_max')\n",
    "labevents_features_min = labevents_features_min.add_suffix('_min')\n",
    "labevents_features_mean = labevents_features_mean.add_suffix('_mean')\n",
    "labevents_features = pd.concat([labevents_features_max, labevents_features_min, labevents_features_mean], axis=1)\n",
    "# labevents_features.reset_index(inplace=True)\n",
    "labevents_features.fillna(labevents_features.mean(),inplace=True)"
   ]
  },
  {
   "cell_type": "markdown",
   "metadata": {},
   "source": [
    "### Extract numeric features from outevents"
   ]
  },
  {
   "cell_type": "code",
   "execution_count": 18,
   "metadata": {},
   "outputs": [],
   "source": [
    "l = list(outputevents_ids_we_care.values())\n",
    "flat_list = [item for sublist in l for item in sublist]\n",
    "outputevents_subset_selected = outputevents_subset_binned[outputevents_subset_binned['ITEMID'].isin(flat_list)]\n",
    "outputevents_subset_selected = outputevents_subset_selected.merge(itemid_to_var_df, on='ITEMID')\n",
    "cols_to_keep = ['SUBJECT_ID', 'HADM_ID_x', 'ITEMID', 'CHARTTIME_x', 'VALUE', 'VALUEUOM', 'LEVEL2', 'HADM_datebin_num']\n",
    "outputevents_subset_selected = outputevents_subset_selected[cols_to_keep]\n",
    "outputevents_subset_selected = outputevents_subset_selected[outputevents_subset_selected['VALUE'].notnull()]\n",
    "outputevents_features_sum = outputevents_subset_selected.groupby(['HADM_datebin_num','LEVEL2'])['VALUE'].sum().unstack()\n",
    "\n",
    "outputevents_features_sum = outputevents_features_sum.add_suffix('_sum')\n",
    "# labevents_features.reset_index(inplace=True)\n",
    "outputevents_features_sum.fillna(outputevents_features_sum.mean(),inplace=True)"
   ]
  },
  {
   "cell_type": "code",
   "execution_count": 19,
   "metadata": {},
   "outputs": [
    {
     "data": {
      "text/html": [
       "<div>\n",
       "<style scoped>\n",
       "    .dataframe tbody tr th:only-of-type {\n",
       "        vertical-align: middle;\n",
       "    }\n",
       "\n",
       "    .dataframe tbody tr th {\n",
       "        vertical-align: top;\n",
       "    }\n",
       "\n",
       "    .dataframe thead th {\n",
       "        text-align: right;\n",
       "    }\n",
       "</style>\n",
       "<table border=\"1\" class=\"dataframe\">\n",
       "  <thead>\n",
       "    <tr style=\"text-align: right;\">\n",
       "      <th>LEVEL2</th>\n",
       "      <th>Urine output_sum</th>\n",
       "    </tr>\n",
       "    <tr>\n",
       "      <th>HADM_datebin_num</th>\n",
       "      <th></th>\n",
       "    </tr>\n",
       "  </thead>\n",
       "  <tbody>\n",
       "    <tr>\n",
       "      <th>102390_2</th>\n",
       "      <td>5390.0</td>\n",
       "    </tr>\n",
       "    <tr>\n",
       "      <th>102390_3</th>\n",
       "      <td>4775.0</td>\n",
       "    </tr>\n",
       "    <tr>\n",
       "      <th>102390_4</th>\n",
       "      <td>3350.0</td>\n",
       "    </tr>\n",
       "    <tr>\n",
       "      <th>105348_1</th>\n",
       "      <td>1870.0</td>\n",
       "    </tr>\n",
       "    <tr>\n",
       "      <th>105348_2</th>\n",
       "      <td>1600.0</td>\n",
       "    </tr>\n",
       "    <tr>\n",
       "      <th>116543_1</th>\n",
       "      <td>205.0</td>\n",
       "    </tr>\n",
       "    <tr>\n",
       "      <th>116543_2</th>\n",
       "      <td>95.0</td>\n",
       "    </tr>\n",
       "    <tr>\n",
       "      <th>117382_1</th>\n",
       "      <td>980.0</td>\n",
       "    </tr>\n",
       "    <tr>\n",
       "      <th>117382_2</th>\n",
       "      <td>2160.0</td>\n",
       "    </tr>\n",
       "    <tr>\n",
       "      <th>117382_3</th>\n",
       "      <td>2640.0</td>\n",
       "    </tr>\n",
       "    <tr>\n",
       "      <th>118776_1</th>\n",
       "      <td>1597.0</td>\n",
       "    </tr>\n",
       "    <tr>\n",
       "      <th>122406_4</th>\n",
       "      <td>473.0</td>\n",
       "    </tr>\n",
       "    <tr>\n",
       "      <th>122406_5</th>\n",
       "      <td>896.0</td>\n",
       "    </tr>\n",
       "    <tr>\n",
       "      <th>122406_6</th>\n",
       "      <td>195.0</td>\n",
       "    </tr>\n",
       "    <tr>\n",
       "      <th>124326_1</th>\n",
       "      <td>137.0</td>\n",
       "    </tr>\n",
       "    <tr>\n",
       "      <th>124326_2</th>\n",
       "      <td>1542.0</td>\n",
       "    </tr>\n",
       "    <tr>\n",
       "      <th>124326_3</th>\n",
       "      <td>770.0</td>\n",
       "    </tr>\n",
       "    <tr>\n",
       "      <th>128770_2</th>\n",
       "      <td>2700.0</td>\n",
       "    </tr>\n",
       "    <tr>\n",
       "      <th>128770_3</th>\n",
       "      <td>6430.0</td>\n",
       "    </tr>\n",
       "    <tr>\n",
       "      <th>128770_4</th>\n",
       "      <td>3720.0</td>\n",
       "    </tr>\n",
       "    <tr>\n",
       "      <th>129210_1</th>\n",
       "      <td>355.0</td>\n",
       "    </tr>\n",
       "    <tr>\n",
       "      <th>129210_2</th>\n",
       "      <td>560.0</td>\n",
       "    </tr>\n",
       "    <tr>\n",
       "      <th>129210_4</th>\n",
       "      <td>91.0</td>\n",
       "    </tr>\n",
       "    <tr>\n",
       "      <th>133081_1</th>\n",
       "      <td>280.0</td>\n",
       "    </tr>\n",
       "    <tr>\n",
       "      <th>133081_2</th>\n",
       "      <td>990.0</td>\n",
       "    </tr>\n",
       "    <tr>\n",
       "      <th>133081_3</th>\n",
       "      <td>487.0</td>\n",
       "    </tr>\n",
       "    <tr>\n",
       "      <th>133081_4</th>\n",
       "      <td>2775.0</td>\n",
       "    </tr>\n",
       "    <tr>\n",
       "      <th>133081_5</th>\n",
       "      <td>2737.0</td>\n",
       "    </tr>\n",
       "    <tr>\n",
       "      <th>133081_6</th>\n",
       "      <td>50.0</td>\n",
       "    </tr>\n",
       "    <tr>\n",
       "      <th>133162_3</th>\n",
       "      <td>335.0</td>\n",
       "    </tr>\n",
       "    <tr>\n",
       "      <th>...</th>\n",
       "      <td>...</td>\n",
       "    </tr>\n",
       "    <tr>\n",
       "      <th>182705_3</th>\n",
       "      <td>1159.0</td>\n",
       "    </tr>\n",
       "    <tr>\n",
       "      <th>182705_4</th>\n",
       "      <td>3779.0</td>\n",
       "    </tr>\n",
       "    <tr>\n",
       "      <th>183200_1</th>\n",
       "      <td>508.0</td>\n",
       "    </tr>\n",
       "    <tr>\n",
       "      <th>183200_2</th>\n",
       "      <td>4565.0</td>\n",
       "    </tr>\n",
       "    <tr>\n",
       "      <th>183200_3</th>\n",
       "      <td>3010.0</td>\n",
       "    </tr>\n",
       "    <tr>\n",
       "      <th>183200_4</th>\n",
       "      <td>1714.0</td>\n",
       "    </tr>\n",
       "    <tr>\n",
       "      <th>183330_4</th>\n",
       "      <td>1575.0</td>\n",
       "    </tr>\n",
       "    <tr>\n",
       "      <th>183330_5</th>\n",
       "      <td>7525.0</td>\n",
       "    </tr>\n",
       "    <tr>\n",
       "      <th>183330_6</th>\n",
       "      <td>3875.0</td>\n",
       "    </tr>\n",
       "    <tr>\n",
       "      <th>184273_1</th>\n",
       "      <td>5.0</td>\n",
       "    </tr>\n",
       "    <tr>\n",
       "      <th>184273_2</th>\n",
       "      <td>1127.0</td>\n",
       "    </tr>\n",
       "    <tr>\n",
       "      <th>184273_3</th>\n",
       "      <td>1140.0</td>\n",
       "    </tr>\n",
       "    <tr>\n",
       "      <th>184273_4</th>\n",
       "      <td>3.0</td>\n",
       "    </tr>\n",
       "    <tr>\n",
       "      <th>186199_4</th>\n",
       "      <td>0.0</td>\n",
       "    </tr>\n",
       "    <tr>\n",
       "      <th>186199_5</th>\n",
       "      <td>35.0</td>\n",
       "    </tr>\n",
       "    <tr>\n",
       "      <th>186278_1</th>\n",
       "      <td>3705.0</td>\n",
       "    </tr>\n",
       "    <tr>\n",
       "      <th>186278_2</th>\n",
       "      <td>710.0</td>\n",
       "    </tr>\n",
       "    <tr>\n",
       "      <th>190494_1</th>\n",
       "      <td>170.0</td>\n",
       "    </tr>\n",
       "    <tr>\n",
       "      <th>190494_2</th>\n",
       "      <td>1732.0</td>\n",
       "    </tr>\n",
       "    <tr>\n",
       "      <th>190494_3</th>\n",
       "      <td>3530.0</td>\n",
       "    </tr>\n",
       "    <tr>\n",
       "      <th>190494_4</th>\n",
       "      <td>4025.0</td>\n",
       "    </tr>\n",
       "    <tr>\n",
       "      <th>190494_5</th>\n",
       "      <td>6590.0</td>\n",
       "    </tr>\n",
       "    <tr>\n",
       "      <th>190494_6</th>\n",
       "      <td>1735.0</td>\n",
       "    </tr>\n",
       "    <tr>\n",
       "      <th>192441_3</th>\n",
       "      <td>4133.0</td>\n",
       "    </tr>\n",
       "    <tr>\n",
       "      <th>192441_4</th>\n",
       "      <td>5079.0</td>\n",
       "    </tr>\n",
       "    <tr>\n",
       "      <th>192441_5</th>\n",
       "      <td>4553.0</td>\n",
       "    </tr>\n",
       "    <tr>\n",
       "      <th>194592_1</th>\n",
       "      <td>1010.0</td>\n",
       "    </tr>\n",
       "    <tr>\n",
       "      <th>194592_2</th>\n",
       "      <td>1241.0</td>\n",
       "    </tr>\n",
       "    <tr>\n",
       "      <th>196076_1</th>\n",
       "      <td>917.0</td>\n",
       "    </tr>\n",
       "    <tr>\n",
       "      <th>196076_2</th>\n",
       "      <td>449.0</td>\n",
       "    </tr>\n",
       "  </tbody>\n",
       "</table>\n",
       "<p>114 rows × 1 columns</p>\n",
       "</div>"
      ],
      "text/plain": [
       "LEVEL2            Urine output_sum\n",
       "HADM_datebin_num                  \n",
       "102390_2                    5390.0\n",
       "102390_3                    4775.0\n",
       "102390_4                    3350.0\n",
       "105348_1                    1870.0\n",
       "105348_2                    1600.0\n",
       "116543_1                     205.0\n",
       "116543_2                      95.0\n",
       "117382_1                     980.0\n",
       "117382_2                    2160.0\n",
       "117382_3                    2640.0\n",
       "118776_1                    1597.0\n",
       "122406_4                     473.0\n",
       "122406_5                     896.0\n",
       "122406_6                     195.0\n",
       "124326_1                     137.0\n",
       "124326_2                    1542.0\n",
       "124326_3                     770.0\n",
       "128770_2                    2700.0\n",
       "128770_3                    6430.0\n",
       "128770_4                    3720.0\n",
       "129210_1                     355.0\n",
       "129210_2                     560.0\n",
       "129210_4                      91.0\n",
       "133081_1                     280.0\n",
       "133081_2                     990.0\n",
       "133081_3                     487.0\n",
       "133081_4                    2775.0\n",
       "133081_5                    2737.0\n",
       "133081_6                      50.0\n",
       "133162_3                     335.0\n",
       "...                            ...\n",
       "182705_3                    1159.0\n",
       "182705_4                    3779.0\n",
       "183200_1                     508.0\n",
       "183200_2                    4565.0\n",
       "183200_3                    3010.0\n",
       "183200_4                    1714.0\n",
       "183330_4                    1575.0\n",
       "183330_5                    7525.0\n",
       "183330_6                    3875.0\n",
       "184273_1                       5.0\n",
       "184273_2                    1127.0\n",
       "184273_3                    1140.0\n",
       "184273_4                       3.0\n",
       "186199_4                       0.0\n",
       "186199_5                      35.0\n",
       "186278_1                    3705.0\n",
       "186278_2                     710.0\n",
       "190494_1                     170.0\n",
       "190494_2                    1732.0\n",
       "190494_3                    3530.0\n",
       "190494_4                    4025.0\n",
       "190494_5                    6590.0\n",
       "190494_6                    1735.0\n",
       "192441_3                    4133.0\n",
       "192441_4                    5079.0\n",
       "192441_5                    4553.0\n",
       "194592_1                    1010.0\n",
       "194592_2                    1241.0\n",
       "196076_1                     917.0\n",
       "196076_2                     449.0\n",
       "\n",
       "[114 rows x 1 columns]"
      ]
     },
     "execution_count": 19,
     "metadata": {},
     "output_type": "execute_result"
    }
   ],
   "source": [
    "outputevents_features_sum"
   ]
  },
  {
   "cell_type": "markdown",
   "metadata": {},
   "source": [
    "### Merge Everything"
   ]
  },
  {
   "cell_type": "code",
   "execution_count": 20,
   "metadata": {},
   "outputs": [],
   "source": [
    "feature_table = labevents_features.merge(chartevents_features, left_index=True, right_index=True, how='outer')\n",
    "feature_table = feature_table.merge(labevents_subset_abnormal_features, left_index=True, right_index=True, how='outer')\n",
    "feature_table = feature_table.merge(outputevents_features_sum, left_index=True, right_index=True, how='outer')\n"
   ]
  },
  {
   "cell_type": "markdown",
   "metadata": {},
   "source": [
    "### Add HADM_ID back into the feature table, also create bin_num to mark which bin it is for that patient. these will be useful for assigning death labels"
   ]
  },
  {
   "cell_type": "code",
   "execution_count": 21,
   "metadata": {},
   "outputs": [],
   "source": [
    "feature_table['HADM_ID'] = feature_table.index\n",
    "feature_table[['HADM_ID', 'bin_num']] = feature_table['HADM_ID'].str.split('_', expand=True)\n",
    "feature_table['HADM_ID'] = pd.to_numeric(feature_table['HADM_ID'])\n",
    "feature_table['bin_num'] = pd.to_numeric(feature_table['bin_num'])"
   ]
  },
  {
   "cell_type": "markdown",
   "metadata": {},
   "source": [
    "### Obtain number of diagnoses for each patient"
   ]
  },
  {
   "cell_type": "code",
   "execution_count": 22,
   "metadata": {},
   "outputs": [],
   "source": [
    "diagnoses_subset = pd.read_csv('./subsets_tables_collection/diagnoses_icd_subset.csv')"
   ]
  },
  {
   "cell_type": "code",
   "execution_count": 23,
   "metadata": {},
   "outputs": [],
   "source": [
    "diagnoses_count = diagnoses_subset.groupby('HADM_ID')['ICD9_CODE'].count()"
   ]
  },
  {
   "cell_type": "markdown",
   "metadata": {},
   "source": [
    "### Obtain number of medications for each patient"
   ]
  },
  {
   "cell_type": "code",
   "execution_count": 24,
   "metadata": {},
   "outputs": [],
   "source": [
    "prescriptions_subset = pd.read_csv('./subsets_tables_collection/prescriptions_subset.csv')\n",
    "prescriptions_count = prescriptions_subset.groupby(['HADM_ID', 'DRUG_TYPE'])['DRUG'].count().unstack()\n",
    "prescriptions_count.fillna(0, inplace=True)\n",
    "prescriptions_count = prescriptions_count.add_suffix('_drug')"
   ]
  },
  {
   "cell_type": "markdown",
   "metadata": {},
   "source": [
    "Merge diagnoses and medications"
   ]
  },
  {
   "cell_type": "code",
   "execution_count": 25,
   "metadata": {},
   "outputs": [],
   "source": [
    "prescriptions_count.merge(diagnoses_count, left_index=True, right_index=True, how='outer')\n",
    "prescriptions_count = prescriptions_count.add_suffix('_count')"
   ]
  },
  {
   "cell_type": "markdown",
   "metadata": {},
   "source": [
    "### Incorporate demographics info"
   ]
  },
  {
   "cell_type": "code",
   "execution_count": 26,
   "metadata": {},
   "outputs": [],
   "source": [
    "admissions_subset = pd.read_csv('./subsets_tables_collection/admissions_subset.csv')\n",
    "patients = pd.read_sql(\"\"\"SELECT subject_id, gender\n",
    "                            FROM patients\n",
    "                            \"\"\", conn)\n",
    "patients.replace(['M','F'], [0,1], inplace=True)\n",
    "patients.rename(columns={'GENDER': 'is_female'}, inplace=True)\n",
    "admissions_with_gender = admissions_subset.merge(patients,on='SUBJECT_ID')\n",
    "admissions_with_gender = admissions_with_gender[['HADM_ID', 'INSURANCE', 'ETHNICITY', 'is_female']]\n",
    "admissions_features = pd.get_dummies(admissions_with_gender, prefix=['insurance','ethnicity'], columns=['INSURANCE', 'ETHNICITY'])\n",
    "patient_features = admissions_features.merge(prescriptions_count, on='HADM_ID')"
   ]
  },
  {
   "cell_type": "code",
   "execution_count": 27,
   "metadata": {},
   "outputs": [],
   "source": [
    "feature_table = feature_table.merge(patient_features, on='HADM_ID')"
   ]
  },
  {
   "cell_type": "code",
   "execution_count": 28,
   "metadata": {},
   "outputs": [
    {
     "data": {
      "text/plain": [
       "Chloride_max                            float64\n",
       "Creatinine_max                          float64\n",
       "Glucose_max                             float64\n",
       "Hematocrit_max                          float64\n",
       "Hemoglobin_max                          float64\n",
       "Platelets_max                           float64\n",
       "Potassium_max                           float64\n",
       "Red blood cell count_max                float64\n",
       "Sodium_max                              float64\n",
       "White blood cell count_max              float64\n",
       "Chloride_min                            float64\n",
       "Creatinine_min                          float64\n",
       "Glucose_min                             float64\n",
       "Hematocrit_min                          float64\n",
       "Hemoglobin_min                          float64\n",
       "Platelets_min                           float64\n",
       "Potassium_min                           float64\n",
       "Red blood cell count_min                float64\n",
       "Sodium_min                              float64\n",
       "White blood cell count_min              float64\n",
       "Chloride_mean                           float64\n",
       "Creatinine_mean                         float64\n",
       "Glucose_mean                            float64\n",
       "Hematocrit_mean                         float64\n",
       "Hemoglobin_mean                         float64\n",
       "Platelets_mean                          float64\n",
       "Potassium_mean                          float64\n",
       "Red blood cell count_mean               float64\n",
       "Sodium_mean                             float64\n",
       "White blood cell count_mean             float64\n",
       "                                         ...   \n",
       "abnormal_lab_Thyroxine (T4), Free       float64\n",
       "abnormal_lab_Transferrin                float64\n",
       "abnormal_lab_Troponin I                 float64\n",
       "abnormal_lab_Troponin T                 float64\n",
       "abnormal_lab_Urea Nitrogen              float64\n",
       "abnormal_lab_Urobilinogen               float64\n",
       "abnormal_lab_Vancomycin                 float64\n",
       "abnormal_lab_WBC                        float64\n",
       "abnormal_lab_White Blood Cells          float64\n",
       "abnormal_lab_pCO2                       float64\n",
       "abnormal_lab_pH                         float64\n",
       "abnormal_lab_pO2                        float64\n",
       "Urine output_sum                        float64\n",
       "HADM_ID                                   int64\n",
       "bin_num                                   int64\n",
       "is_female                                 int64\n",
       "insurance_Medicaid                        uint8\n",
       "insurance_Medicare                        uint8\n",
       "insurance_Private                         uint8\n",
       "ethnicity_ASIAN                           uint8\n",
       "ethnicity_ASIAN - CHINESE                 uint8\n",
       "ethnicity_BLACK/AFRICAN AMERICAN          uint8\n",
       "ethnicity_MULTI RACE ETHNICITY            uint8\n",
       "ethnicity_PATIENT DECLINED TO ANSWER      uint8\n",
       "ethnicity_UNABLE TO OBTAIN                uint8\n",
       "ethnicity_UNKNOWN/NOT SPECIFIED           uint8\n",
       "ethnicity_WHITE                           uint8\n",
       "ADDITIVE_drug_count                     float64\n",
       "BASE_drug_count                         float64\n",
       "MAIN_drug_count                         float64\n",
       "Length: 144, dtype: object"
      ]
     },
     "execution_count": 28,
     "metadata": {},
     "output_type": "execute_result"
    }
   ],
   "source": [
    "feature_table.dtypes"
   ]
  },
  {
   "cell_type": "code",
   "execution_count": null,
   "metadata": {},
   "outputs": [],
   "source": []
  },
  {
   "cell_type": "code",
   "execution_count": null,
   "metadata": {},
   "outputs": [],
   "source": []
  },
  {
   "cell_type": "code",
   "execution_count": null,
   "metadata": {},
   "outputs": [],
   "source": []
  },
  {
   "cell_type": "code",
   "execution_count": null,
   "metadata": {},
   "outputs": [],
   "source": []
  }
 ],
 "metadata": {
  "kernelspec": {
   "display_name": "Python 3",
   "language": "python",
   "name": "python3"
  },
  "language_info": {
   "codemirror_mode": {
    "name": "ipython",
    "version": 3
   },
   "file_extension": ".py",
   "mimetype": "text/x-python",
   "name": "python",
   "nbconvert_exporter": "python",
   "pygments_lexer": "ipython3",
   "version": "3.7.3"
  }
 },
 "nbformat": 4,
 "nbformat_minor": 2
}
