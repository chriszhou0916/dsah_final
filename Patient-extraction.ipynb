{
 "cells": [
  {
   "cell_type": "code",
   "execution_count": 1,
   "metadata": {},
   "outputs": [],
   "source": [
    "import numpy as np\n",
    "import pandas as pd\n",
    "import matplotlib.pyplot as plt\n",
    "import seaborn as sns\n",
    "%matplotlib inline"
   ]
  },
  {
   "cell_type": "code",
   "execution_count": 2,
   "metadata": {},
   "outputs": [],
   "source": [
    "import sqlite3\n",
    "conn = sqlite3.connect('/Users/arnoldtao/Documents/HoffmanLab/ClassWork/2019S_BME590_DataScience/dsah_final/Data/MIMIC.db')"
   ]
  },
  {
   "cell_type": "code",
   "execution_count": 3,
   "metadata": {},
   "outputs": [],
   "source": [
    "admissions_df=pd.read_sql(\"\"\"\n",
    "    SELECT * FROM admissions\n",
    "\"\"\",conn)"
   ]
  },
  {
   "cell_type": "code",
   "execution_count": 4,
   "metadata": {},
   "outputs": [],
   "source": [
    "admissions_df['DISCHTIME'] = pd.to_datetime(admissions_df['DISCHTIME'])\n",
    "admissions_df['ADMITTIME'] = pd.to_datetime(admissions_df['ADMITTIME'])\n",
    "admissions_df['length_stay'] = (admissions_df['DISCHTIME'] - admissions_df['ADMITTIME']).dt.days\n",
    "admissions_length = admissions_df[['SUBJECT_ID','HADM_ID','ADMITTIME','DISCHTIME','length_stay','HOSPITAL_EXPIRE_FLAG']]\n",
    "patient_dead = admissions_length[(admissions_length.length_stay > 4) & (admissions_length.length_stay < 20) & (admissions_length.HOSPITAL_EXPIRE_FLAG ==1)]\n",
    "patient_alive = admissions_length[(admissions_length.length_stay > 4) & (admissions_length.length_stay < 20) & (admissions_length.HOSPITAL_EXPIRE_FLAG ==0)]"
   ]
  },
  {
   "cell_type": "code",
   "execution_count": 5,
   "metadata": {},
   "outputs": [
    {
     "data": {
      "text/plain": [
       "(27310, 6)"
      ]
     },
     "execution_count": 5,
     "metadata": {},
     "output_type": "execute_result"
    }
   ],
   "source": [
    "patient_alive.shape\n",
    "#patient_alive.shape"
   ]
  },
  {
   "cell_type": "code",
   "execution_count": 8,
   "metadata": {},
   "outputs": [],
   "source": [
    "patient_alive_list=patient_alive.sample(500)['HADM_ID']\n",
    "patient_alive_list = [str(x) for x in patient_alive_list]\n",
    "patient_alive_str= \",\".join(patient_alive_list)\n",
    "patient_alive_str = \"(\"+patient_alive_str+\")\"\n",
    "#patient_dead_str"
   ]
  },
  {
   "cell_type": "code",
   "execution_count": 10,
   "metadata": {},
   "outputs": [],
   "source": [
    "query_string=\"SELECT * FROM chartevents WHERE HADM_ID IN\" + patient_alive_str\n",
    "pd.read_sql(query_string,conn).to_csv(\"/Users/arnoldtao/Documents/HoffmanLab/ClassWork/2019S_BME590_DataScience/dsah_final/Data/alive_patient_500.csv\",index=None, header=True)"
   ]
  },
  {
   "cell_type": "code",
   "execution_count": null,
   "metadata": {},
   "outputs": [],
   "source": []
  }
 ],
 "metadata": {
  "kernelspec": {
   "display_name": "Python 3",
   "language": "python",
   "name": "python3"
  },
  "language_info": {
   "codemirror_mode": {
    "name": "ipython",
    "version": 3
   },
   "file_extension": ".py",
   "mimetype": "text/x-python",
   "name": "python",
   "nbconvert_exporter": "python",
   "pygments_lexer": "ipython3",
   "version": "3.7.1"
  }
 },
 "nbformat": 4,
 "nbformat_minor": 2
}
