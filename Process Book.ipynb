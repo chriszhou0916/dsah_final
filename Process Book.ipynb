{
 "cells": [
  {
   "cell_type": "markdown",
   "metadata": {},
   "source": [
    "### Overview and Background"
   ]
  },
  {
   "cell_type": "markdown",
   "metadata": {},
   "source": [
    "The intensive care unit (ICU) of a hospital interacts directly with severely ill patients and accordingly, has the highest mortality rate of any other hospital unit with about 500,000 deaths annually or 8-19% of admitted patients. Further, the high risk nature and complexity of cases amongst ICU patients have also made it the most likely hospital site for medical errors to occur. Thus, the ability to accurately predict patient mortality in these high-risk environments is especially crucial in ICUs where the value of repeated treatments, new interventions, and devoted medical resources is weighed against the likelihood of death. This foresight would allow hospitals to effectively triage patient treatments and distribute health resources accordingly to maximize the number of lives that can be saved. "
   ]
  },
  {
   "cell_type": "markdown",
   "metadata": {},
   "source": [
    "To that end, many researchers have turned towards machine learning based approaches that are able to harness the data-rich ICU environment to generate clinical risk scores and predictive models that make data-driven decisions for quantifying patient health and predicting future clinical outcomes. Widely used approaches have involved the generation of metrics like SAPS and APACHE, which are generally overestimated, or logistic regression models that rely on linear and additive relationships between predictor and outcome. More recent attempts to tackle this problem have involved the use of nonparametric algorithms that do not assume underlying distributions between predictor and outcome, or tree-based algorithms that are more adept at processing non-linear relationships. "
   ]
  },
  {
   "cell_type": "markdown",
   "metadata": {},
   "source": [
    "Despite key progress in the machine learning field, the development of new, more accurate machine learning models for predicting ICU mortality remain held back by scalability and number of available features. It is widely held in the machine learning field that 80% of the effort in model generation is devoted towards preparing the datasets before any analysis is even performed, which severely limits the number of custom datasets that can be used to generate predicted outcomes. In addition, the shear amount of data generated from a single ICU visit may result in hundreds or thousands of potential predictive variables which must be sorted through. We attempt to address these problems through..."
   ]
  },
  {
   "cell_type": "markdown",
   "metadata": {},
   "source": [
    "### Data"
   ]
  },
  {
   "cell_type": "code",
   "execution_count": null,
   "metadata": {},
   "outputs": [],
   "source": []
  },
  {
   "cell_type": "markdown",
   "metadata": {},
   "source": [
    "### Exploratory Data Analysis"
   ]
  },
  {
   "cell_type": "code",
   "execution_count": null,
   "metadata": {},
   "outputs": [],
   "source": []
  },
  {
   "cell_type": "markdown",
   "metadata": {},
   "source": [
    "### Modeling"
   ]
  },
  {
   "cell_type": "code",
   "execution_count": null,
   "metadata": {},
   "outputs": [],
   "source": []
  },
  {
   "cell_type": "markdown",
   "metadata": {},
   "source": [
    "### References"
   ]
  },
  {
   "cell_type": "markdown",
   "metadata": {},
   "source": [
    "1. https://healthpolicy.ucsf.edu/icu-outcomes\n",
    "2. Wu AW, Pronovost P, Morlock L. ICU incident reporting systems. J Crit Care. Jun 2002;17(2):86-94.\n",
    "3. Cullen DJ, Sweitzer BJ, Bates DW, Burdick E, Edmondson A, Leape LL. Preventable adverse drug events in hospitalized patients: a comparative study of intensive care and general care units. Crit Care Med. Aug 1997;25(8):1289-1297\n",
    "4. Pirracchio, R. Mortality Prediction in the ICU Based on MIMIC-II Results from the Super ICU Learner Algorithm (SICULA) Project BT  - Secondary Analysis of Electronic Health Records. in (ed. Data, M. I. T. C.) 295–313 (Springer International Publishing, 2016). doi:10.1007/978-3-319-43742-2_20\n",
    "5. Rajkomar, A. et al. Scalable and accurate deep learning with electronic health records. npj Digit. Med. 1–10 (2018). doi:10.1038/s41746-018-0029-1"
   ]
  },
  {
   "cell_type": "code",
   "execution_count": null,
   "metadata": {},
   "outputs": [],
   "source": []
  }
 ],
 "metadata": {
  "kernelspec": {
   "display_name": "Python 3",
   "language": "python",
   "name": "python3"
  },
  "language_info": {
   "codemirror_mode": {
    "name": "ipython",
    "version": 3
   },
   "file_extension": ".py",
   "mimetype": "text/x-python",
   "name": "python",
   "nbconvert_exporter": "python",
   "pygments_lexer": "ipython3",
   "version": "3.7.1"
  }
 },
 "nbformat": 4,
 "nbformat_minor": 2
}
