{
 "cells": [
  {
   "cell_type": "code",
   "execution_count": 1,
   "metadata": {
    "collapsed": true
   },
   "outputs": [],
   "source": [
    "import pandas as pd\n",
    "import numpy as np\n",
    "import seaborn as sns\n",
    "import statistics\n",
    "import matplotlib.pyplot as plt\n",
    "%matplotlib inline\n",
    "import sklearn\n",
    "from sklearn.neighbors import KNeighborsClassifier"
   ]
  },
  {
   "cell_type": "code",
   "execution_count": 2,
   "metadata": {
    "collapsed": true
   },
   "outputs": [],
   "source": [
    "import sqlite3\n",
    "conn = sqlite3.connect(\"/Users/ergangwang/Downloads/DSAH_Final/data_MIMIC/MIMIC.db\")\n",
    "admissions_df=pd.read_sql(\"\"\"\n",
    "    SELECT * FROM admissions\n",
    "\"\"\",conn)"
   ]
  },
  {
   "cell_type": "code",
   "execution_count": 3,
   "metadata": {
    "collapsed": true
   },
   "outputs": [],
   "source": [
    "admissions_df['DISCHTIME'] = pd.to_datetime(admissions_df['DISCHTIME'])\n",
    "admissions_df['ADMITTIME'] = pd.to_datetime(admissions_df['ADMITTIME'])\n",
    "admissions_df['length_stay'] = (admissions_df['DISCHTIME'] - admissions_df['ADMITTIME']).dt.days\n",
    "admissions_length = admissions_df[['SUBJECT_ID','HADM_ID','ADMITTIME','DISCHTIME','length_stay','HOSPITAL_EXPIRE_FLAG']]\n",
    "patient_dead = admissions_length[(admissions_length.length_stay > 4) & (admissions_length.length_stay < 20) & (admissions_length.HOSPITAL_EXPIRE_FLAG ==1)]"
   ]
  },
  {
   "cell_type": "code",
   "execution_count": 4,
   "metadata": {
    "collapsed": true
   },
   "outputs": [],
   "source": [
    "# #HADM_ID_dead=patient_dead['HADM_ID'].to_list()\n",
    "HADM_ID_dead_all = admissions_length[admissions_length.HOSPITAL_EXPIRE_FLAG==1]['HADM_ID'].to_list()\n",
    "# len(HADM_ID_dead_all)"
   ]
  },
  {
   "cell_type": "code",
   "execution_count": 6,
   "metadata": {
    "collapsed": true
   },
   "outputs": [],
   "source": [
    "feature_table = pd.read_csv('/Users/ergangwang/Downloads/DSAH_Final/feature_with_label_all_48H.csv')\n",
    "#HADM_ID_all = feature_table.HADM_ID.unique().tolist()\n",
    "#len(HADM_ID_all)\n",
    "#len(list(set(HADM_ID_dead)&set(HADM_ID_all)))"
   ]
  },
  {
   "cell_type": "code",
   "execution_count": 6,
   "metadata": {
    "collapsed": true
   },
   "outputs": [],
   "source": [
    "# idx=feature_table.groupby(['HADM_ID'],sort=False)['bin_num'].transform(max)==feature_table['bin_num']\n",
    "# feature_table=feature_table[-idx]"
   ]
  },
  {
   "cell_type": "code",
   "execution_count": 7,
   "metadata": {
    "collapsed": true
   },
   "outputs": [],
   "source": [
    "# bool_max=feature_table.groupby(['HADM_ID'],sort=False)['bin_num'].transform(max)\n",
    "# feature_table['label']=np.where((bool_max==feature_table['bin_num']) & (feature_table['HADM_ID'].isin(HADM_ID_dead_all)),1,0)\n",
    "# feature_table.head(n=30)\n",
    "# sum(feature_table['label'])"
   ]
  },
  {
   "cell_type": "code",
   "execution_count": 6,
   "metadata": {},
   "outputs": [
    {
     "name": "stdout",
     "output_type": "stream",
     "text": [
      "number of unique values of HADM_ID 54609\n",
      "number of HADM_ID that is dead\n"
     ]
    },
    {
     "data": {
      "text/plain": [
       "5033"
      ]
     },
     "execution_count": 6,
     "metadata": {},
     "output_type": "execute_result"
    }
   ],
   "source": [
    "print(\"number of unique values of HADM_ID\",feature_table['HADM_ID'].nunique())\n",
    "unique_HAMD_ID=feature_table['HADM_ID'].unique()\n",
    "print(\"number of HADM_ID that is dead\")\n",
    "L1=feature_table['HADM_ID'].unique().tolist()\n",
    "len([i for i in L1 if i in HADM_ID_dead_all])"
   ]
  },
  {
   "cell_type": "code",
   "execution_count": 7,
   "metadata": {
    "scrolled": true
   },
   "outputs": [
    {
     "data": {
      "text/plain": [
       "335"
      ]
     },
     "execution_count": 7,
     "metadata": {},
     "output_type": "execute_result"
    }
   ],
   "source": [
    "feature_table_df=feature_table.loc[:,feature_table.columns !=\"HADM_ID\"]\n",
    "feature_table_df=feature_table_df.loc[:,feature_table_df.columns !='bin_num']\n",
    "feature_table_df=feature_table_df.loc[:,feature_table_df.columns !='label']\n",
    "feature_label=feature_table_df.columns[0:,]\n",
    "len(feature_label)\n",
    "len(list(set(feature_label)))"
   ]
  },
  {
   "cell_type": "code",
   "execution_count": 10,
   "metadata": {
    "collapsed": true
   },
   "outputs": [],
   "source": [
    "# filter_col = [col for col in feature_table if col.startswith('abnormal')]\n",
    "# filter_col\n",
    "# abnormal_feature_table = feature_table[filter_col]\n",
    "# abnormal_feature_table"
   ]
  },
  {
   "cell_type": "markdown",
   "metadata": {},
   "source": [
    "### Logistic regression"
   ]
  },
  {
   "cell_type": "code",
   "execution_count": 20,
   "metadata": {
    "collapsed": true,
    "scrolled": true
   },
   "outputs": [],
   "source": [
    "from sklearn.linear_model import LogisticRegressionCV\n",
    "#from sklearn.preprocessing import Imputer\n",
    "from sklearn.impute import SimpleImputer\n",
    "model_matrix=feature_table.loc[:,feature_table.columns !=\"HADM_ID\"]\n",
    "model_matrix=model_matrix.loc[:,model_matrix.columns != \"bin_num\"]\n",
    "model_matrix=model_matrix.loc[:,model_matrix.columns != \"label\"]\n",
    "imr = SimpleImputer(missing_values = np.nan, strategy = 'mean')\n",
    "imr = imr.fit(model_matrix.values)\n",
    "model_matrix = imr.transform(model_matrix.values)\n",
    "outcome=feature_table['label']\n"
   ]
  },
  {
   "cell_type": "code",
   "execution_count": 68,
   "metadata": {},
   "outputs": [
    {
     "name": "stdout",
     "output_type": "stream",
     "text": [
      "[[101.    0.6 526.  ...   0.    0.    0. ]\n",
      " [118.    0.8 185.  ...   0.    5.   64. ]\n",
      " [108.    1.  122.  ...   0.   34.  107. ]\n",
      " ...\n",
      " [107.    0.8 117.  ...   0.    4.   29. ]\n",
      " [103.    0.7 141.  ...   0.    8.   31. ]\n",
      " [103.    0.7  95.  ...   0.   14.   59. ]] xtest [[110.           0.7        118.         ...   0.           0.\n",
      "    0.        ]\n",
      " [ 95.           5.8         81.         ...   0.          97.\n",
      "  356.        ]\n",
      " [102.           1.5        150.84391767 ...   0.          10.\n",
      "   27.        ]\n",
      " ...\n",
      " [107.           0.5        171.         ...   0.           0.\n",
      "    0.        ]\n",
      " [112.           1.3        109.         ...   0.           3.\n",
      "   26.        ]\n",
      " [124.           2.5        143.         ...   0.          38.\n",
      "   37.        ]] y_train 211293    0\n",
      "185428    0\n",
      "111858    0\n",
      "205099    0\n",
      "218375    0\n",
      "244998    0\n",
      "142308    0\n",
      "104104    0\n",
      "272534    0\n",
      "170019    0\n",
      "263241    0\n",
      "143654    0\n",
      "80092     0\n",
      "226619    0\n",
      "186009    0\n",
      "220931    0\n",
      "182809    0\n",
      "258025    0\n",
      "243230    0\n",
      "202033    0\n",
      "231879    0\n",
      "66560     0\n",
      "217701    0\n",
      "257463    0\n",
      "261515    0\n",
      "81522     0\n",
      "264720    0\n",
      "104043    0\n",
      "24837     0\n",
      "55515     0\n",
      "         ..\n",
      "16686     0\n",
      "104669    0\n",
      "42186     0\n",
      "138043    0\n",
      "160358    0\n",
      "134614    0\n",
      "22788     0\n",
      "268551    0\n",
      "46608     0\n",
      "212744    0\n",
      "1113      1\n",
      "135072    0\n",
      "125873    0\n",
      "151693    0\n",
      "272685    0\n",
      "231327    0\n",
      "58659     0\n",
      "64690     0\n",
      "148958    0\n",
      "192863    0\n",
      "188727    0\n",
      "150378    0\n",
      "40253     0\n",
      "9833      0\n",
      "35017     0\n",
      "227436    0\n",
      "43645     0\n",
      "81585     0\n",
      "149475    0\n",
      "79223     0\n",
      "Name: label, Length: 222228, dtype: int64 y_test 162222    0\n",
      "268363    0\n",
      "201990    0\n",
      "114513    0\n",
      "181152    0\n",
      "37513     0\n",
      "32072     0\n",
      "87179     0\n",
      "212332    0\n",
      "122487    0\n",
      "57287     0\n",
      "97270     0\n",
      "100652    0\n",
      "265035    0\n",
      "173047    0\n",
      "205233    0\n",
      "171466    0\n",
      "158108    0\n",
      "66654     0\n",
      "137555    0\n",
      "277273    0\n",
      "205787    0\n",
      "97592     0\n",
      "202060    0\n",
      "54166     0\n",
      "260530    0\n",
      "124280    0\n",
      "134411    0\n",
      "78469     0\n",
      "143574    0\n",
      "         ..\n",
      "93970     0\n",
      "204585    0\n",
      "140624    0\n",
      "198092    0\n",
      "8845      0\n",
      "250675    0\n",
      "244303    0\n",
      "51644     0\n",
      "147457    0\n",
      "13173     0\n",
      "211452    0\n",
      "48229     0\n",
      "235169    0\n",
      "187618    0\n",
      "255131    0\n",
      "87028     0\n",
      "152295    0\n",
      "59935     0\n",
      "232648    0\n",
      "57429     0\n",
      "33593     0\n",
      "181685    0\n",
      "274468    0\n",
      "65029     0\n",
      "223316    0\n",
      "23526     0\n",
      "143055    0\n",
      "94560     0\n",
      "114985    0\n",
      "227453    0\n",
      "Name: label, Length: 55558, dtype: int64\n"
     ]
    }
   ],
   "source": [
    "from sklearn.model_selection import train_test_split\n",
    "X_train, X_test,y_train,y_test= train_test_split(\n",
    "    model_matrix,outcome, test_size=0.2, random_state=42,stratify=outcome)\n",
    "print(X_train,\"xtest\",X_test,\"y_train\",y_train,\"y_test\",y_test)"
   ]
  },
  {
   "cell_type": "code",
   "execution_count": 73,
   "metadata": {},
   "outputs": [
    {
     "name": "stdout",
     "output_type": "stream",
     "text": [
      "222228 222228\n"
     ]
    }
   ],
   "source": [
    "print(len(X_train),len(y_train))"
   ]
  },
  {
   "cell_type": "code",
   "execution_count": 10,
   "metadata": {
    "collapsed": true
   },
   "outputs": [],
   "source": [
    "#feature normalization [scale from 0-1]\n",
    "from sklearn.preprocessing import MinMaxScaler\n",
    "mms = MinMaxScaler()\n",
    "X_train_norm = mms.fit_transform(X_train)\n",
    "X_test_norm = mms.transform(X_test)"
   ]
  },
  {
   "cell_type": "code",
   "execution_count": 70,
   "metadata": {
    "collapsed": true
   },
   "outputs": [],
   "source": [
    "#feature normalization, using standard scaler, centered at 0\n",
    "from sklearn.preprocessing import StandardScaler\n",
    "stdsc = StandardScaler()\n",
    "X_train_std = stdsc.fit_transform(X_train)\n",
    "X_test_std = stdsc.transform(X_test)"
   ]
  },
  {
   "cell_type": "markdown",
   "metadata": {},
   "source": [
    "### L1 regularization to get sparse solutions"
   ]
  },
  {
   "cell_type": "code",
   "execution_count": null,
   "metadata": {},
   "outputs": [
    {
     "name": "stderr",
     "output_type": "stream",
     "text": [
      "/Users/ergangwang/anaconda/envs/py36/lib/python3.6/site-packages/sklearn/linear_model/logistic.py:433: FutureWarning: Default solver will be changed to 'lbfgs' in 0.22. Specify a solver to silence this warning.\n",
      "  FutureWarning)\n"
     ]
    }
   ],
   "source": [
    "#L1 regularization to get sparse solutions\n",
    "from sklearn.linear_model import LogisticRegression\n",
    "lr = LogisticRegression(penalty='l1',C=1)\n",
    "lr.fit(X_train_std, y_train)\n",
    "print(\"training accuracy:\",lr.score(X_train_std,y_train))\n",
    "print('test accuracy:',lr.score(X_test_std,y_test))"
   ]
  },
  {
   "cell_type": "code",
   "execution_count": null,
   "metadata": {
    "collapsed": true,
    "scrolled": true
   },
   "outputs": [],
   "source": [
    "lr.intercept_\n",
    "lr.coef_\n"
   ]
  },
  {
   "cell_type": "code",
   "execution_count": null,
   "metadata": {
    "collapsed": true
   },
   "outputs": [],
   "source": [
    "np.nonzero(lr.coef_)"
   ]
  },
  {
   "cell_type": "markdown",
   "metadata": {},
   "source": [
    "### Sequential backward selection SBS"
   ]
  },
  {
   "cell_type": "code",
   "execution_count": null,
   "metadata": {
    "collapsed": true
   },
   "outputs": [],
   "source": [
    "#sequential backward selection SBS -> reduce the dimensionality of the initial feature subspace \n",
    "from sklearn.base import clone\n",
    "from itertools import combinations\n",
    "import numpy as np\n",
    "from sklearn.metrics import accuracy_score\n",
    "from sklearn.model_selection import train_test_split\n",
    "class SBS():\n",
    "    def __init__(self, estimator, k_features,scoring=accuracy_score,test_size=0.25, random_state=1):\n",
    "        self.scoring = scoring\n",
    "        self.estimator = clone(estimator)\n",
    "        self.k_features = k_features\n",
    "        self.test_size = test_size\n",
    "        self.random_state = random_state\n",
    "    def fit(self, X,y):\n",
    "        X_train,X_test, y_train, y_test = \\\n",
    "                   train_test_split(X, y, test_size=self.test_size,\n",
    "                                    random_state=self.random_state)\n",
    "        dim=X_train.shape[1]\n",
    "        self.indices_ = tuple(range(dim))\n",
    "        self.subsets_ = [self.indices_]\n",
    "        score = self._calc_score(X_train, y_train,X_test, y_test, self.indices_)\n",
    "        self.scores_ = [score]\n",
    "        while dim > self.k_features:\n",
    "            scores = []\n",
    "            subsets = []\n",
    "            for p in combinations(self.indices_, r=dim - 1):\n",
    "                score = self._calc_score(X_train, y_train,X_test, y_test, p)\n",
    "                scores.append(score)\n",
    "                subsets.append(p)\n",
    "            best = np.argmax(scores)\n",
    "            self.indices_ = subsets[best]\n",
    "            self.subsets_.append(self.indices_)\n",
    "            dim -= 1\n",
    "            self.scores_.append(scores[best])\n",
    "        self.k_score_ = self.scores_[-1]\n",
    "        return self\n",
    "    def transform(self, X):\n",
    "        return X[:, self.indices_]\n",
    "    def _calc_score(self, X_train, y_train, X_test, y_test,indices):\n",
    "        self.estimator.fit(X_train[:, indices], y_train)\n",
    "        y_pred = self.estimator.predict(X_test[:, indices])\n",
    "        score = self.scoring(y_test, y_pred)\n",
    "        return score"
   ]
  },
  {
   "cell_type": "code",
   "execution_count": null,
   "metadata": {
    "collapsed": true
   },
   "outputs": [],
   "source": [
    "#try the SBS implementation using the KNN classifier\n",
    "knn = KNeighborsClassifier(n_neighbors=10)\n",
    "sbs=SBS(knn,k_features=1)\n",
    "sbs.fit(X_train_std,y_train)\n"
   ]
  },
  {
   "cell_type": "code",
   "execution_count": null,
   "metadata": {
    "collapsed": true
   },
   "outputs": [],
   "source": [
    "sbs.subsets_[10]"
   ]
  },
  {
   "cell_type": "code",
   "execution_count": null,
   "metadata": {
    "collapsed": true,
    "scrolled": true
   },
   "outputs": [],
   "source": [
    "k_feat = [len(k) for k in sbs.subsets_]\n",
    "plt.plot(k_feat, sbs.scores_, marker='o')\n",
    "plt.ylim([0.7, 1.02])\n",
    "plt.ylabel('Accuracy')\n",
    "plt.xlabel('Number of features')\n",
    "plt.grid()\n",
    "plt.show()"
   ]
  },
  {
   "cell_type": "code",
   "execution_count": null,
   "metadata": {
    "collapsed": true
   },
   "outputs": [],
   "source": [
    "#train the model with knn\n",
    "knn.fit(X_train_std, y_train)\n",
    "print(\"Training accuracy:\", knn.score(X_train_std,y_train),'Test accuracy:',knn.score(X_test_std,y_test))"
   ]
  },
  {
   "cell_type": "markdown",
   "metadata": {},
   "source": [
    "### assessing feature improtance with random forests\n"
   ]
  },
  {
   "cell_type": "code",
   "execution_count": 12,
   "metadata": {
    "scrolled": true
   },
   "outputs": [
    {
     "name": "stdout",
     "output_type": "stream",
     "text": [
      "length of importances: 335 length of feature label 335 length of indices 335\n",
      " 1) MAIN_drug                      0.025871\n",
      " 2) Oxygen saturation_mean         0.017192\n",
      " 3) Systolic blood pressure_mean   0.016081\n",
      " 4) BASE_drug                      0.014719\n",
      " 5) Platelets_mean                 0.014565\n",
      " 6) White blood cell count_mean    0.014545\n",
      " 7) White blood cell count_min     0.014357\n",
      " 8) White blood cell count_max     0.014339\n",
      " 9) Glascow coma scale motor response_mean 0.014151\n",
      "10) Platelets_max                  0.014088\n",
      "11) Mean blood pressure_mean       0.013882\n",
      "12) Glucose_min                    0.013750\n",
      "13) Platelets_min                  0.013731\n",
      "14) Glucose_mean                   0.013697\n",
      "15) Glascow coma scale eye opening_mean 0.013389\n",
      "16) Oxygen saturation_min          0.013288\n",
      "17) Glucose_max                    0.013275\n",
      "18) Sodium_mean                    0.013002\n",
      "19) Heart Rate_mean                0.012946\n",
      "20) diag_count                     0.012938\n",
      "21) Respiratory rate_mean          0.012877\n",
      "22) Chloride_mean                  0.012753\n",
      "23) Potassium_mean                 0.012676\n",
      "24) Heart Rate_max                 0.012582\n",
      "25) Temperature_mean               0.012428\n",
      "26) Diastolic blood pressure_mean  0.012156\n",
      "27) Temperature_max                0.012050\n",
      "28) Creatinine_mean                0.012039\n",
      "29) Red blood cell count_mean      0.011954\n",
      "30) Red blood cell count_max       0.011891\n",
      "31) Urine output_sum               0.011794\n",
      "32) Hematocrit_mean                0.011634\n",
      "33) Systolic blood pressure_min    0.011546\n",
      "34) Systolic blood pressure_max    0.011476\n",
      "35) Hematocrit_min                 0.011405\n",
      "36) Potassium_min                  0.011304\n",
      "37) Mean blood pressure_min        0.011261\n",
      "38) Heart Rate_min                 0.011243\n",
      "39) Mean blood pressure_max        0.011229\n",
      "40) Hematocrit_max                 0.011220\n",
      "41) Red blood cell count_min       0.011199\n",
      "42) Sodium_max                     0.011143\n",
      "43) Temperature_min                0.011126\n",
      "44) Chloride_max                   0.011080\n",
      "45) Sodium_min                     0.010992\n",
      "46) Chloride_min                   0.010946\n",
      "47) Potassium_max                  0.010751\n",
      "48) Hemoglobin_mean                0.010692\n",
      "49) Creatinine_max                 0.010664\n",
      "50) Hemoglobin_max                 0.010570\n",
      "51) Diastolic blood pressure_max   0.010430\n",
      "52) Hemoglobin_min                 0.010293\n",
      "53) Creatinine_min                 0.010156\n",
      "54) Respiratory rate_max           0.010069\n",
      "55) Diastolic blood pressure_min   0.009643\n",
      "56) Glascow coma scale motor response_max 0.009459\n",
      "57) Respiratory rate_min           0.008488\n",
      "58) Glascow coma scale eye opening_max 0.006718\n",
      "59) abnormal_lab_Glucose           0.006472\n",
      "60) abnormal_lab_Lactate           0.006269\n",
      "61) Glascow coma scale verbal response_mean 0.006205\n",
      "62) abnormal_lab_pO2               0.006205\n",
      "63) Glascow coma scale motor response_min 0.005909\n",
      "64) abnormal_lab_pH                0.005856\n",
      "65) abnormal_lab_Hemoglobin        0.005752\n",
      "66) abnormal_lab_Urea Nitrogen     0.005535\n",
      "67) abnormal_lab_Hematocrit        0.005522\n",
      "68) abnormal_lab_pCO2              0.005507\n",
      "69) Glascow coma scale eye opening_min 0.005383\n",
      "70) abnormal_lab_Bicarbonate       0.005375\n",
      "71) abnormal_lab_PTT               0.005312\n",
      "72) abnormal_lab_Anion Gap         0.005263\n",
      "73) abnormal_lab_Calculated Total CO2 0.005132\n",
      "74) abnormal_lab_Phosphate         0.005015\n",
      "75) abnormal_lab_PT                0.004887\n",
      "76) abnormal_lab_Creatinine        0.004829\n",
      "77) abnormal_lab_Calcium, Total    0.004680\n",
      "78) abnormal_lab_White Blood Cells 0.004603\n",
      "79) abnormal_lab_RDW               0.004508\n",
      "80) abnormal_lab_Chloride          0.004423\n",
      "81) abnormal_lab_Red Blood Cells   0.004277\n",
      "82) abnormal_lab_Sodium            0.004258\n",
      "83) Glascow coma scale verbal response_max 0.004234\n",
      "84) Oxygen saturation_max          0.004230\n",
      "85) abnormal_lab_Platelet Count    0.004229\n",
      "86) abnormal_lab_INR(PT)           0.004207\n",
      "87) abnormal_lab_MCH               0.003890\n",
      "88) abnormal_lab_Free Calcium      0.003516\n",
      "89) abnormal_lab_MCV               0.003315\n",
      "90) abnormal_lab_Magnesium         0.003180\n",
      "91) abnormal_lab_Potassium         0.003148\n",
      "92) abnormal_lab_MCHC              0.003065\n",
      "93) abnormal_lab_Albumin           0.003048\n",
      "94) Glascow coma scale verbal response_min 0.003038\n",
      "95) abnormal_lab_Troponin T        0.002987\n",
      "96) abnormal_lab_Lactate Dehydrogenase (LD) 0.002950\n",
      "97) abnormal_lab_Asparate Aminotransferase (AST) 0.002899\n",
      "98) abnormal_lab_Lymphocytes       0.002848\n",
      "99) abnormal_lab_Neutrophils       0.002760\n",
      "100) abnormal_lab_Alkaline Phosphatase 0.002707\n",
      "101) abnormal_lab_Vancomycin        0.002515\n",
      "102) abnormal_lab_Bilirubin, Total  0.002432\n",
      "103) abnormal_lab_Alanine Aminotransferase (ALT) 0.002411\n",
      "104) abnormal_lab_Creatine Kinase (CK) 0.002384\n",
      "105) is_female                      0.002198\n",
      "106) abnormal_lab_RBC               0.002090\n",
      "107) insurance_Medicare             0.002061\n",
      "108) ethnicity_WHITE                0.001853\n",
      "109) abnormal_lab_Potassium, Whole Blood 0.001837\n",
      "110) abnormal_lab_Fibrinogen, Functional 0.001833\n",
      "111) abnormal_lab_Monocytes         0.001776\n",
      "112) ethnicity_UNKNOWN/NOT SPECIFIED 0.001773\n",
      "113) abnormal_lab_Osmolality, Measured 0.001746\n",
      "114) abnormal_lab_WBC               0.001659\n",
      "115) abnormal_lab_Phenytoin         0.001647\n",
      "116) abnormal_lab_Creatine Kinase, MB Isoenzyme 0.001639\n",
      "117) abnormal_lab_Bands             0.001596\n",
      "118) insurance_Private              0.001551\n",
      "119) ADDITIVE_drug                  0.001537\n",
      "120) abnormal_lab_Metamyelocytes    0.001491\n",
      "121) abnormal_lab_Nucleated Red Cells 0.001472\n",
      "122) abnormal_lab_Hyaline Casts     0.001429\n",
      "123) abnormal_lab_CK-MB Index       0.001355\n",
      "124) abnormal_lab_Lipase            0.001256\n",
      "125) abnormal_lab_Bilirubin, Direct 0.001222\n",
      "126) abnormal_lab_Chloride, Whole Blood 0.001212\n",
      "127) abnormal_lab_Amylase           0.001189\n",
      "128) abnormal_lab_Cortisol          0.001187\n",
      "129) abnormal_lab_Sodium, Whole Blood 0.001179\n",
      "130) abnormal_lab_Myelocytes        0.001107\n",
      "131) abnormal_lab_Digoxin           0.001064\n",
      "132) abnormal_lab_Atypical Lymphocytes 0.001042\n",
      "133) abnormal_lab_Urobilinogen      0.001027\n",
      "134) abnormal_lab_Fibrin Degradation Products 0.001006\n",
      "135) ethnicity_UNABLE TO OBTAIN     0.000942\n",
      "136) ethnicity_BLACK/AFRICAN AMERICAN 0.000942\n",
      "137) abnormal_lab_Protein/Creatinine Ratio 0.000878\n",
      "138) abnormal_lab_Haptoglobin       0.000876\n",
      "139) abnormal_lab_Granular Casts    0.000862\n",
      "140) abnormal_lab_Troponin I        0.000858\n",
      "141) insurance_Medicaid             0.000853\n",
      "142) abnormal_lab_D-Dimer           0.000847\n",
      "143) abnormal_lab_Uric Acid         0.000816\n",
      "144) abnormal_lab_Calculated Bicarbonate, Whole Blood 0.000810\n",
      "145) ethnicity_OTHER                0.000768\n",
      "146) abnormal_lab_NTproBNP          0.000762\n",
      "147) abnormal_lab_Eosinophils       0.000743\n",
      "148) abnormal_lab_Gentamicin        0.000737\n",
      "149) abnormal_lab_Granulocyte Count 0.000723\n",
      "150) ethnicity_ASIAN                0.000700\n",
      "151) abnormal_lab_Ammonia           0.000629\n",
      "152) abnormal_lab_Thyroid Stimulating Hormone 0.000591\n",
      "153) abnormal_lab_Polys             0.000585\n",
      "154) ethnicity_HISPANIC OR LATINO   0.000579\n",
      "155) abnormal_lab_Gamma Glutamyltransferase 0.000563\n",
      "156) abnormal_lab_Iron              0.000559\n",
      "157) abnormal_lab_Promyelocytes     0.000549\n",
      "158) abnormal_lab_Triglycerides     0.000547\n",
      "159) insurance_Self Pay             0.000542\n",
      "160) ethnicity_PATIENT DECLINED TO ANSWER 0.000529\n",
      "161) abnormal_lab_WBC, Ascites      0.000515\n",
      "162) abnormal_lab_Protein, Total    0.000510\n",
      "163) abnormal_lab_Tobramycin        0.000509\n",
      "164) abnormal_lab_Iron Binding Capacity, Total 0.000498\n",
      "165) abnormal_lab_Reticulocyte Count, Automated 0.000498\n",
      "166) insurance_Government           0.000479\n",
      "167) abnormal_lab_RBC, Ascites      0.000479\n",
      "168) abnormal_lab_Ferritin          0.000461\n",
      "169) abnormal_lab_Blasts            0.000460\n",
      "170) abnormal_lab_Transferrin       0.000455\n",
      "171) abnormal_lab_Specific Gravity  0.000432\n",
      "172) abnormal_lab_Valproic Acid     0.000394\n",
      "173) abnormal_lab_Macrophage        0.000391\n",
      "174) abnormal_lab_Mesothelial Cell  0.000383\n",
      "175) abnormal_lab_C3                0.000375\n",
      "176) abnormal_lab_Globulin          0.000370\n",
      "177) abnormal_lab_Total Protein, CSF 0.000362\n",
      "178) abnormal_lab_Phenytoin, Free   0.000349\n",
      "179) abnormal_lab_% Hemoglobin A1c  0.000343\n",
      "180) abnormal_lab_RBC, CSF          0.000337\n",
      "181) abnormal_lab_Sedimentation Rate 0.000334\n",
      "182) abnormal_lab_C-Reactive Protein 0.000325\n",
      "183) ethnicity_ASIAN - CHINESE      0.000323\n",
      "184) abnormal_lab_Amikacin          0.000316\n",
      "185) abnormal_lab_Monos             0.000316\n",
      "186) abnormal_lab_Vitamin B12       0.000312\n",
      "187) abnormal_lab_Other Cells       0.000309\n",
      "188) abnormal_lab_WBC, Pleural      0.000300\n",
      "189) abnormal_lab_Phenytoin, Percent Free 0.000298\n",
      "190) abnormal_lab_Cellular Cast     0.000289\n",
      "191) abnormal_lab_Thyroxine (T4), Free 0.000273\n",
      "192) abnormal_lab_Immunoglobulin G  0.000265\n",
      "193) abnormal_lab_Mesothelial Cells 0.000265\n",
      "194) abnormal_lab_Cholesterol, Total 0.000260\n",
      "195) abnormal_lab_Macrophages       0.000258\n",
      "196) abnormal_lab_RBC, Pleural      0.000255\n",
      "197) abnormal_lab_WBC Casts         0.000252\n",
      "198) abnormal_lab_Basophils         0.000242\n",
      "199) abnormal_lab_tacroFK           0.000238\n",
      "200) abnormal_lab_Albumin/Creatinine, Urine 0.000232\n",
      "201) abnormal_lab_Phenobarbital     0.000229\n",
      "202) abnormal_lab_Cholesterol, LDL, Calculated 0.000219\n",
      "203) abnormal_lab_Hematocrit, CSF   0.000216\n",
      "204) abnormal_lab_Hematocrit, Pleural 0.000208\n",
      "205) abnormal_lab_Other             0.000204\n",
      "206) ethnicity_HISPANIC/LATINO - PUERTO RICAN 0.000202\n",
      "207) abnormal_lab_Thyroxine (T4)    0.000202\n",
      "208) abnormal_lab_Hypersegmented Neutrophils 0.000198\n",
      "209) ethnicity_WHITE - RUSSIAN      0.000193\n",
      "210) abnormal_lab_Cyclosporin       0.000190\n",
      "211) abnormal_lab_WBC, Joint Fluid  0.000183\n",
      "212) abnormal_lab_Parathyroid Hormone 0.000181\n",
      "213) abnormal_lab_Reticulocyte Count, Manual 0.000181\n",
      "214) abnormal_lab_Ethanol           0.000178\n",
      "215) abnormal_lab_C4                0.000173\n",
      "216) abnormal_lab_Carcinoembyronic Antigen (CEA) 0.000171\n",
      "217) abnormal_lab_Thrombin          0.000171\n",
      "218) ethnicity_BLACK/CAPE VERDEAN   0.000158\n",
      "219) abnormal_lab_Creatinine Clearance 0.000152\n",
      "220) abnormal_lab_Triiodothyronine (T3) 0.000150\n",
      "221) abnormal_lab_Theophylline      0.000146\n",
      "222) abnormal_lab_Immunoglobulin M  0.000146\n",
      "223) ethnicity_BLACK/HAITIAN        0.000146\n",
      "224) abnormal_lab_Mesothelial cells 0.000139\n",
      "225) abnormal_lab_Rheumatoid Factor 0.000137\n",
      "226) ethnicity_WHITE - OTHER EUROPEAN 0.000128\n",
      "227) abnormal_lab_Factor VII        0.000126\n",
      "228) abnormal_lab_Prostate Specific Antigen 0.000120\n",
      "229) ethnicity_NATIVE HAWAIIAN OR OTHER PACIFIC ISLANDER 0.000117\n",
      "230) abnormal_lab_Factor VIII       0.000116\n",
      "231) abnormal_lab_Immunoglobulin A  0.000116\n",
      "232) abnormal_lab_Other Cell        0.000113\n",
      "233) abnormal_lab_WBC, Other Fluid  0.000113\n",
      "234) abnormal_lab_Alpha-Fetoprotein 0.000108\n",
      "235) abnormal_lab_CA-125            0.000107\n",
      "236) abnormal_lab_RBC, Joint Fluid  0.000105\n",
      "237) abnormal_lab_NRBC              0.000098\n",
      "238) abnormal_lab_Serum Viscosity   0.000096\n",
      "239) abnormal_lab_Urine Casts, Other 0.000093\n",
      "240) abnormal_lab_Plasma Cells      0.000092\n",
      "241) abnormal_lab_Calculated Thyroxine (T4) Index 0.000092\n",
      "242) abnormal_lab_Heparin           0.000081\n",
      "243) abnormal_lab_Rapamycin         0.000079\n",
      "244) abnormal_lab_Cancer Antigen 27.29 0.000078\n",
      "245) abnormal_lab_Acetaminophen     0.000077\n",
      "246) abnormal_lab_Plasma            0.000076\n",
      "247) ethnicity_WHITE - EASTERN EUROPEAN 0.000075\n",
      "248) abnormal_lab_Hematocrit, Ascites 0.000073\n",
      "249) abnormal_lab_RBC, Other Fluid  0.000073\n",
      "250) ethnicity_ASIAN - VIETNAMESE   0.000073\n",
      "251) ethnicity_BLACK/AFRICAN        0.000069\n",
      "252) abnormal_lab_Nucleated RBC     0.000069\n",
      "253) abnormal_lab_Procainamide      0.000065\n",
      "254) abnormal_lab_Hematocrit, Other Fluid 0.000063\n",
      "255) abnormal_lab_Young Cells       0.000061\n",
      "256) abnormal_lab_Absolute CD4 Count 0.000058\n",
      "257) abnormal_lab_Carbamazepine     0.000052\n",
      "258) abnormal_lab_Lymphocytes, Percent 0.000052\n",
      "259) ethnicity_MULTI RACE ETHNICITY 0.000051\n",
      "260) abnormal_lab_Methemoglobin     0.000050\n",
      "261) abnormal_lab_Factor V          0.000049\n",
      "262) abnormal_lab_WBC Count         0.000049\n",
      "263) ethnicity_PORTUGUESE           0.000049\n",
      "264) ethnicity_ASIAN - KOREAN       0.000048\n",
      "265) abnormal_lab_Factor X          0.000048\n",
      "266) abnormal_lab_Absolute CD8 Count 0.000047\n",
      "267) abnormal_lab_CD4/CD8 Ratio     0.000047\n",
      "268) abnormal_lab_Homocysteine      0.000046\n",
      "269) abnormal_lab_Absolute CD3 Count 0.000044\n",
      "270) abnormal_lab_Hematocrit, Joint Fluid 0.000044\n",
      "271) abnormal_lab_Beta-2 Microglobulin 0.000044\n",
      "272) ethnicity_ASIAN - OTHER        0.000044\n",
      "273) abnormal_lab_Factor II         0.000042\n",
      "274) ethnicity_ASIAN - CAMBODIAN    0.000038\n",
      "275) abnormal_lab_Antithrombin      0.000037\n",
      "276) abnormal_lab_Carboxyhemoglobin 0.000036\n",
      "277) ethnicity_ASIAN - ASIAN INDIAN 0.000032\n",
      "278) abnormal_lab_Cholesterol, LDL, Measured 0.000031\n",
      "279) abnormal_lab_Von Willebrand Factor Antigen 0.000030\n",
      "280) ethnicity_ASIAN - FILIPINO     0.000029\n",
      "281) abnormal_lab_Eosinophil Count  0.000026\n",
      "282) ethnicity_WHITE - BRAZILIAN    0.000026\n",
      "283) ethnicity_ASIAN - JAPANESE     0.000025\n",
      "284) abnormal_lab_Von Willebrand Factor Activity 0.000024\n",
      "285) ethnicity_MIDDLE EASTERN       0.000024\n",
      "286) ethnicity_AMERICAN INDIAN/ALASKA NATIVE 0.000023\n",
      "287) abnormal_lab_Bleeding Time     0.000022\n",
      "288) abnormal_lab_Lithium           0.000022\n",
      "289) abnormal_lab_Salicylate        0.000021\n",
      "290) abnormal_lab_Testosterone      0.000021\n",
      "291) abnormal_lab_Quinidine         0.000020\n",
      "292) abnormal_lab_Thyroglobulin     0.000019\n",
      "293) abnormal_lab_Anti-Smooth Muscle Antibody 0.000018\n",
      "294) abnormal_lab_Protein C, Antigen 0.000017\n",
      "295) abnormal_lab_Factor IX         0.000017\n",
      "296) abnormal_lab_Anti-Nuclear Antibody 0.000016\n",
      "297) abnormal_lab_Tissue Transglutaminase Ab, IgA 0.000016\n",
      "298) abnormal_lab_Protein S, Antigen 0.000016\n",
      "299) abnormal_lab_Testosterone, Free 0.000016\n",
      "300) abnormal_lab_Estimated Actual Glucose 0.000015\n",
      "301) abnormal_lab_Broad Casts       0.000015\n",
      "302) abnormal_lab_Hemoglobin F      0.000015\n",
      "303) abnormal_lab_Anti-Thyroglobulin Antibodies 0.000015\n",
      "304) abnormal_lab_Uptake Ratio      0.000015\n",
      "305) abnormal_lab_Protein S, Functional 0.000014\n",
      "306) abnormal_lab_Gastrin           0.000013\n",
      "307) ethnicity_HISPANIC/LATINO - DOMINICAN 0.000013\n",
      "308) abnormal_lab_Waxy Casts        0.000013\n",
      "309) abnormal_lab_Protein C, Functional 0.000013\n",
      "310) abnormal_lab_Hemoglobin A2     0.000013\n",
      "311) abnormal_lab_Luteinizing Hormone 0.000013\n",
      "312) abnormal_lab_Hemogloblin S     0.000012\n",
      "313) abnormal_lab_Anticardiolipin Antibody IgM 0.000011\n",
      "314) abnormal_lab_Thyroid Peroxidase Antibodies 0.000011\n",
      "315) abnormal_lab_25-OH Vitamin D   0.000010\n",
      "316) abnormal_lab_Quantitative G6PD 0.000010\n",
      "317) abnormal_lab_Leukocyte Alkaline Phosphatase 0.000010\n",
      "318) abnormal_lab_Calculated TBG    0.000010\n",
      "319) abnormal_lab_Hepatitis C Virus Antibody 0.000009\n",
      "320) abnormal_lab_RBC Casts         0.000009\n",
      "321) abnormal_lab_Factor XI         0.000008\n",
      "322) abnormal_lab_Follicle Stimulating Hormone 0.000007\n",
      "323) abnormal_lab_Anticardiolipin Antibody IgG 0.000007\n",
      "324) ethnicity_AMERICAN INDIAN/ALASKA NATIVE FEDERALLY RECOGNIZED TRIBE 0.000006\n",
      "325) abnormal_lab_Prolactin         0.000006\n",
      "326) ethnicity_HISPANIC/LATINO - GUATEMALAN 0.000001\n",
      "327) ethnicity_HISPANIC/LATINO - MEXICAN 0.000000\n",
      "328) ethnicity_HISPANIC/LATINO - SALVADORAN 0.000000\n",
      "329) ethnicity_SOUTH AMERICAN       0.000000\n",
      "330) ethnicity_HISPANIC/LATINO - CUBAN 0.000000\n",
      "331) ethnicity_CARIBBEAN ISLAND     0.000000\n",
      "332) ethnicity_ASIAN - THAI         0.000000\n",
      "333) ethnicity_HISPANIC/LATINO - CENTRAL AMERICAN (OTHER) 0.000000\n",
      "334) ethnicity_HISPANIC/LATINO - COLOMBIAN 0.000000\n",
      "335) ethnicity_HISPANIC/LATINO - HONDURAN 0.000000\n"
     ]
    },
    {
     "data": {
      "image/png": "[encoded data removed]",
      "text/plain": [
       "<matplotlib.figure.Figure at 0x1a1864ca90>"
      ]
     },
     "metadata": {},
     "output_type": "display_data"
    }
   ],
   "source": [
    "from sklearn.ensemble import RandomForestClassifier\n",
    "forest = RandomForestClassifier(n_estimators=500, random_state=1)\n",
    "forest.fit(X_train_std,y_train)\n",
    "importances = forest.feature_importances_\n",
    "indices=np.argsort(importances)[::-1]\n",
    "print(\"length of importances:\",len(importances),\"length of feature label\",len(feature_label),\"length of indices\",len(indices))\n",
    "for f in range(X_train.shape[1]):\n",
    "    print (\"%2d) %-*s %f\" % (f+1,30, feature_label[indices[f]],importances[indices[f]]))\n",
    "plt.title('Feature Importance')\n",
    "plt.bar(range(X_train.shape[1]),importances[indices],align='center')\n",
    "plt.xticks(range(X_train.shape[1]),feature_label,rotation=90)\n",
    "plt.xlim([-1,X_train_std.shape[1]])\n",
    "# plt.tight_layout()\n",
    "plt.show()"
   ]
  },
  {
   "cell_type": "code",
   "execution_count": null,
   "metadata": {
    "collapsed": true
   },
   "outputs": [],
   "source": [
    "model_matrix.shape"
   ]
  },
  {
   "cell_type": "markdown",
   "metadata": {},
   "source": [
    "### Feature Extraction using PCA"
   ]
  },
  {
   "cell_type": "code",
   "execution_count": null,
   "metadata": {
    "collapsed": true,
    "scrolled": true
   },
   "outputs": [],
   "source": [
    "cov_mat = np.cov(X_train_std.T)\n",
    "eigen_vals, eigen_vecs = np.linalg.eig(cov_mat)\n",
    "print('\\nEigenvalues \\n%s' % eigen_vals)"
   ]
  },
  {
   "cell_type": "code",
   "execution_count": null,
   "metadata": {
    "collapsed": true
   },
   "outputs": [],
   "source": [
    "tot = sum(eigen_vals)\n",
    "var_exp = [(i/tot) for i in sorted(eigen_vals, reverse=True)]\n",
    "cum_var_exp = np.cumsum(var_exp)\n",
    "plt.bar(range(0,335), var_exp, alpha=0.5, align='center', label='individual explained variance')\n",
    "plt.step(range(0,335), cum_var_exp, where='mid', label='cumulative explained variance')\n",
    "plt.ylabel('Explained variance ratio')\n",
    "plt.xlabel('Principal Component Index')\n",
    "plt.legend(loc='best')\n",
    "plt.show()"
   ]
  },
  {
   "cell_type": "code",
   "execution_count": null,
   "metadata": {
    "collapsed": true
   },
   "outputs": [],
   "source": [
    "len(cum_var_exp)"
   ]
  },
  {
   "cell_type": "code",
   "execution_count": null,
   "metadata": {
    "collapsed": true
   },
   "outputs": [],
   "source": [
    "eigen_pairs = [(np.abs(eigen_vals[i]), eigen_vecs[:,i]) for i in range(len(eigen_vals))]\n",
    "# Sort the (eigenvalue, eigenvector) tuples from high to low\n",
    "eigen_pairs.sort(key=lambda k: k[0], reverse=True)"
   ]
  },
  {
   "cell_type": "code",
   "execution_count": null,
   "metadata": {
    "collapsed": true,
    "scrolled": true
   },
   "outputs": [],
   "source": [
    "w = np.hstack((eigen_pairs[0][1][:, np.newaxis], eigen_pairs[1][1][:, np.newaxis]))\n",
    "print('Matrix W:\\n', w)"
   ]
  },
  {
   "cell_type": "code",
   "execution_count": null,
   "metadata": {
    "collapsed": true
   },
   "outputs": [],
   "source": [
    "X_train_std[0].dot(w)"
   ]
  },
  {
   "cell_type": "code",
   "execution_count": null,
   "metadata": {
    "collapsed": true
   },
   "outputs": [],
   "source": [
    "X_train_pca = X_train_std.dot(w)\n",
    "X_train_pca"
   ]
  },
  {
   "cell_type": "code",
   "execution_count": null,
   "metadata": {
    "collapsed": true
   },
   "outputs": [],
   "source": [
    "colors = ['r', 'b', 'g']\n",
    "markers = ['s', 'x', 'o']\n",
    "for l, c, m in zip(np.unique(y_train), colors, markers):\n",
    "    plt.scatter(X_train_pca[y_train==l, 0],X_train_pca[y_train==l, 1],c=c, label=l, marker=m)\n",
    "plt.xlabel('PC 1')\n",
    "plt.ylabel('PC 2')\n",
    "plt.legend(loc='lower left')\n",
    "plt.show()\n"
   ]
  },
  {
   "cell_type": "markdown",
   "metadata": {},
   "source": [
    "PCA does not yield anything meaningful"
   ]
  },
  {
   "cell_type": "markdown",
   "metadata": {
    "collapsed": true
   },
   "source": [
    "### PCA with scikit-learn"
   ]
  },
  {
   "cell_type": "code",
   "execution_count": null,
   "metadata": {
    "collapsed": true
   },
   "outputs": [],
   "source": [
    "from matplotlib.colors import ListedColormap"
   ]
  },
  {
   "cell_type": "code",
   "execution_count": null,
   "metadata": {
    "collapsed": true
   },
   "outputs": [],
   "source": [
    "def plot_decision_regions(X,y,classifier,resolution=0.02):\n",
    "    markers=('s','x','o','^','v')\n",
    "    colors=('red','blue','lightgreen','gray','cyan')\n",
    "    cmap=ListedColormap(colors[:len(np.unique(y))])\n",
    "    x1_min, x1_max=X[:,0].min()-1,X[:,0].max()+1\n",
    "    x2_min, x2_max=X[:,1].min()-1,X[:,1].max()+1\n",
    "    xx1,xx2=np.meshgrid(np.arange(x1_min,x1_max,resolution),\n",
    "                       np.arange(x2_min,x2_max,resolution))\n",
    "    Z=classifier.predict(np.array([xx1.ravel(),xx2.ravel()]).T)\n",
    "    Z=Z.reshape(xx1.shape)\n",
    "    plt.contourf(xx1,xx2,Z,alpha=0.4,cmap=cmap)\n",
    "    plt.xlim(xx1.min(),xx1.max())\n",
    "    plt.ylim(xx2.min(),xx2.max())\n",
    "    for idx, cl in enumerate(np.unique(y)):\n",
    "        plt.scatter(x=X[y==cl,0],\n",
    "                   y=X[y==cl,1],\n",
    "                   alpha=0.6,c=cmap(idx),edgecolor='black',marker=markers[idx],label=cl)\n"
   ]
  },
  {
   "cell_type": "code",
   "execution_count": null,
   "metadata": {
    "collapsed": true
   },
   "outputs": [],
   "source": [
    "from sklearn.linear_model import LogisticRegression\n",
    "from sklearn.decomposition import PCA\n",
    "pca=PCA(n_components=2)\n",
    "lr=LogisticRegression()\n",
    "X_train_pca=pca.fit_transform(X_train_std)\n",
    "X_test_pca=pca.transform(X_test_std)\n",
    "lr.fit(X_train_pca, y_train)\n",
    "plot_decision_regions(X_train_pca,y_train,classifier=lr)\n",
    "plt.xlabel('PC 1')\n",
    "plt.ylabel('PC 2')\n",
    "plt.legend(loc='lower left')\n",
    "plt.show()"
   ]
  },
  {
   "cell_type": "markdown",
   "metadata": {},
   "source": [
    "### Kernel PCA"
   ]
  },
  {
   "cell_type": "code",
   "execution_count": null,
   "metadata": {
    "collapsed": true
   },
   "outputs": [],
   "source": [
    "# from sklearn.decomposition import KernelPCA\n",
    "# kpca = KernelPCA(kernel=\"rbf\",fit_inverse_transform=True, gamma=10)\n",
    "# X_kpca=kpca.fit_transform(X_train_std)\n",
    "# X_back= kpca.inverse_transform(X_kpca)\n",
    "\n",
    "# reds = y ==0\n",
    "# blues = y ==1\n",
    "# plt.scatter(X_kpca[reds,0],X_kpca[reds,1],c=\"red\",s=20,edgecolor='k')\n",
    "# plt.scatter(X_kpca[blues,0],X_kpca[blues,1],c=\"blue\",s=20,edgecolor='k')"
   ]
  },
  {
   "cell_type": "code",
   "execution_count": null,
   "metadata": {
    "collapsed": true,
    "scrolled": true
   },
   "outputs": [],
   "source": [
    "y_train"
   ]
  },
  {
   "cell_type": "markdown",
   "metadata": {},
   "source": [
    "### reshaping the feature table"
   ]
  },
  {
   "cell_type": "markdown",
   "metadata": {},
   "source": [
    "### Combining transformers and estimators in a pipeline"
   ]
  },
  {
   "cell_type": "code",
   "execution_count": 2,
   "metadata": {},
   "outputs": [
    {
     "ename": "NameError",
     "evalue": "name 'X_train_std' is not defined",
     "output_type": "error",
     "traceback": [
      "\u001b[0;31m---------------------------------------------------------------------------\u001b[0m",
      "\u001b[0;31mNameError\u001b[0m                                 Traceback (most recent call last)",
      "\u001b[0;32m<ipython-input-2-ee74e0f4feeb>\u001b[0m in \u001b[0;36m<module>\u001b[0;34m()\u001b[0m\n\u001b[1;32m      4\u001b[0m \u001b[0;32mfrom\u001b[0m \u001b[0msklearn\u001b[0m\u001b[0;34m.\u001b[0m\u001b[0mpipeline\u001b[0m \u001b[0;32mimport\u001b[0m \u001b[0mmake_pipeline\u001b[0m\u001b[0;34m\u001b[0m\u001b[0;34m\u001b[0m\u001b[0m\n\u001b[1;32m      5\u001b[0m \u001b[0mpipe_lr\u001b[0m\u001b[0;34m=\u001b[0m\u001b[0mmake_pipeline\u001b[0m\u001b[0;34m(\u001b[0m\u001b[0mStandardScaler\u001b[0m\u001b[0;34m(\u001b[0m\u001b[0;34m)\u001b[0m\u001b[0;34m,\u001b[0m\u001b[0mPCA\u001b[0m\u001b[0;34m(\u001b[0m\u001b[0mn_components\u001b[0m\u001b[0;34m=\u001b[0m\u001b[0;36m2\u001b[0m\u001b[0;34m)\u001b[0m\u001b[0;34m,\u001b[0m\u001b[0mLogisticRegression\u001b[0m\u001b[0;34m(\u001b[0m\u001b[0mrandom_state\u001b[0m\u001b[0;34m=\u001b[0m\u001b[0;36m1\u001b[0m\u001b[0;34m)\u001b[0m\u001b[0;34m)\u001b[0m\u001b[0;34m\u001b[0m\u001b[0;34m\u001b[0m\u001b[0m\n\u001b[0;32m----> 6\u001b[0;31m \u001b[0mpipe_lr\u001b[0m\u001b[0;34m.\u001b[0m\u001b[0mfit\u001b[0m\u001b[0;34m(\u001b[0m\u001b[0mX_train_std\u001b[0m\u001b[0;34m,\u001b[0m \u001b[0my_train\u001b[0m\u001b[0;34m)\u001b[0m\u001b[0;34m\u001b[0m\u001b[0;34m\u001b[0m\u001b[0m\n\u001b[0m\u001b[1;32m      7\u001b[0m \u001b[0my_pred\u001b[0m\u001b[0;34m=\u001b[0m\u001b[0mpipe_lr\u001b[0m\u001b[0;34m.\u001b[0m\u001b[0mpredict\u001b[0m\u001b[0;34m(\u001b[0m\u001b[0mX_test\u001b[0m\u001b[0;34m)\u001b[0m\u001b[0;34m\u001b[0m\u001b[0;34m\u001b[0m\u001b[0m\n\u001b[1;32m      8\u001b[0m \u001b[0mprint\u001b[0m\u001b[0;34m(\u001b[0m\u001b[0;34m\"test accuracy: %.3f\"\u001b[0m \u001b[0;34m%\u001b[0m \u001b[0mpipe_lr\u001b[0m\u001b[0;34m.\u001b[0m\u001b[0mscore\u001b[0m\u001b[0;34m(\u001b[0m\u001b[0mX_test_std\u001b[0m\u001b[0;34m,\u001b[0m\u001b[0my_test\u001b[0m\u001b[0;34m)\u001b[0m\u001b[0;34m)\u001b[0m\u001b[0;34m\u001b[0m\u001b[0;34m\u001b[0m\u001b[0m\n",
      "\u001b[0;31mNameError\u001b[0m: name 'X_train_std' is not defined"
     ]
    }
   ],
   "source": [
    "from sklearn.preprocessing import StandardScaler\n",
    "from sklearn.decomposition import PCA\n",
    "from sklearn.linear_model import LogisticRegression \n",
    "from sklearn.pipeline import make_pipeline\n",
    "pipe_lr=make_pipeline(StandardScaler(),PCA(n_components=2),LogisticRegression(random_state=1))\n",
    "pipe_lr.fit(X_train_std, y_train)\n",
    "y_pred=pipe_lr.predict(X_test)\n",
    "print(\"test accuracy: %.3f\" % pipe_lr.score(X_test_std,y_test))"
   ]
  },
  {
   "cell_type": "markdown",
   "metadata": {},
   "source": [
    "### K-fold cross validation"
   ]
  },
  {
   "cell_type": "code",
   "execution_count": 3,
   "metadata": {},
   "outputs": [],
   "source": [
    "from sklearn.linear_model import LogisticRegressionCV\n",
    "#from sklearn.preprocessing import Imputer\n",
    "from sklearn.impute import SimpleImputer\n",
    "from sklearn.model_selection import train_test_split\n",
    "feature_table = pd.read_csv('/Users/ergangwang/Downloads/DSAH_Final/feature_with_label_all_48H.csv')\n",
    "model_matrix=feature_table.loc[:,feature_table.columns !=\"HADM_ID\"]\n",
    "model_matrix=model_matrix.loc[:,model_matrix.columns != \"bin_num\"]\n",
    "model_matrix=model_matrix.loc[:,model_matrix.columns != \"label\"]\n",
    "imr = SimpleImputer(missing_values = np.nan, strategy = 'mean')\n",
    "imr = imr.fit(model_matrix.values)\n",
    "model_matrix = imr.transform(model_matrix.values)\n",
    "outcome=np.asarray(feature_table['label'])"
   ]
  },
  {
   "cell_type": "code",
   "execution_count": 4,
   "metadata": {
    "collapsed": true
   },
   "outputs": [],
   "source": [
    "X_train, X_test, y_train, y_test=train_test_split(model_matrix,outcome,stratify=outcome,  test_size=0.2, random_state=0)"
   ]
  },
  {
   "cell_type": "code",
   "execution_count": 20,
   "metadata": {},
   "outputs": [
    {
     "data": {
      "text/plain": [
       "array([0, 0, 0, ..., 1, 0, 1])"
      ]
     },
     "execution_count": 20,
     "metadata": {},
     "output_type": "execute_result"
    }
   ],
   "source": [
    "y_train"
   ]
  },
  {
   "cell_type": "code",
   "execution_count": 24,
   "metadata": {
    "scrolled": true
   },
   "outputs": [
    {
     "name": "stdout",
     "output_type": "stream",
     "text": [
      "Fold: 10, Class dist.: [405   5], Acc: 0.981\n",
      "Fold: 10, Class dist.: [405   5], Acc: 0.981\n",
      "Fold: 10, Class dist.: [405   5], Acc: 0.981\n",
      "Fold: 10, Class dist.: [405   5], Acc: 0.981\n",
      "Fold: 10, Class dist.: [405   5], Acc: 0.981\n",
      "Fold: 10, Class dist.: [405   5], Acc: 0.981\n",
      "Fold: 10, Class dist.: [405   5], Acc: 0.982\n",
      "Fold: 10, Class dist.: [405   5], Acc: 0.982\n",
      "Fold: 10, Class dist.: [405   5], Acc: 0.982\n",
      "Fold: 10, Class dist.: [405   5], Acc: 0.981\n"
     ]
    }
   ],
   "source": [
    "from sklearn.model_selection import StratifiedKFold\n",
    "from sklearn.preprocessing import StandardScaler\n",
    "stdsc = StandardScaler()\n",
    "scores=[]\n",
    "skf = StratifiedKFold(n_splits=10)\n",
    "skf.get_n_splits(model_matrix,outcome)\n",
    "pipe_lr = make_pipeline(StandardScaler(),PCA(n_components=2),LogisticRegression(solver='liblinear',random_state=1))\n",
    "for train_index, test_index in skf.split(X_train,y_train):\n",
    "    #print(\"TRAIN:\", train_index, \"TEST:\", test_index)\n",
    "    X_train_cv, X_test_cv = X_train[train_index], X_train[test_index]\n",
    "    y_train_cv, y_test_cv = y_train[train_index], y_train[test_index]\n",
    "    X_train_cv_std = stdsc.fit_transform(X_train_cv)\n",
    "    X_test_cv_std = stdsc.transform(X_test_cv)\n",
    "    pipe_lr.fit(X_train_cv_std,y_train_cv)\n",
    "    score=pipe_lr.score(X_test_cv_std,y_test_cv)\n",
    "    scores.append(score)\n",
    "    print('Fold: %2d, Class dist.: %s, Acc: %.3f' % (k+1,np.bincount(y_train[train]), score))\n",
    "print('\\nCV accuracy: %.3f +/- %.3f' %(np.mean(scores), np.std(scores)))"
   ]
  },
  {
   "cell_type": "code",
   "execution_count": 25,
   "metadata": {},
   "outputs": [
    {
     "name": "stdout",
     "output_type": "stream",
     "text": [
      "CV accuracy scores: [0.98132649 0.9812815  0.98137065 0.98146065 0.98119066 0.98123566\n",
      " 0.98159482 0.98159482 0.98168482 0.98123481]\n"
     ]
    }
   ],
   "source": [
    "#use the scikit-learn k-fold cross-validation scorer\n",
    "from sklearn.model_selection import cross_val_score\n",
    "scores=cross_val_score(estimator=pipe_lr,X=X_train,y=y_train,cv=10,n_jobs=-1)\n",
    "print('CV accuracy scores: %s' % scores)"
   ]
  },
  {
   "cell_type": "code",
   "execution_count": 29,
   "metadata": {
    "scrolled": true
   },
   "outputs": [
    {
     "data": {
      "image/png": "[encoded data removed]",
      "text/plain": [
       "<matplotlib.figure.Figure at 0x1a258d5128>"
      ]
     },
     "metadata": {},
     "output_type": "display_data"
    }
   ],
   "source": [
    "#diagnosing bias and variance problems with learning curves\n",
    "from sklearn.model_selection import learning_curve\n",
    "pipe_lr = make_pipeline(StandardScaler(),LogisticRegression(solver='lbfgs',penalty='l2', random_state=1))\n",
    "train_sizes, train_scores, test_scores =learning_curve(estimator=pipe_lr,X=X_train,y=y_train,\n",
    "                                                       train_sizes=np.linspace(0.1, 1.0, 10),cv=5, n_jobs=-1)\n",
    "train_mean = np.mean(train_scores, axis=1)\n",
    "train_std = np.std(train_scores, axis=1)\n",
    "test_mean = np.mean(test_scores, axis=1)\n",
    "test_std = np.std(test_scores, axis=1)\n",
    "plt.plot(train_sizes, train_mean,color='blue', marker='o',markersize=5, label='training accuracy')\n",
    "plt.fill_between(train_sizes,train_mean + train_std,train_mean - train_std,alpha=0.15, color='blue')\n",
    "plt.plot(train_sizes, test_mean,color='green', linestyle='--',marker='s', markersize=5,label='validation accuracy')\n",
    "plt.fill_between(train_sizes,test_mean + test_std,test_mean - test_std,alpha=0.15, color='green')\n",
    "plt.grid()\n",
    "plt.xlabel('Number of training samples')\n",
    "plt.ylabel('Accuracy')\n",
    "plt.legend(loc='lower right')\n",
    "plt.ylim([0.8, 1.0])\n",
    "plt.show()"
   ]
  },
  {
   "cell_type": "code",
   "execution_count": null,
   "metadata": {
    "collapsed": true
   },
   "outputs": [],
   "source": [
    "from sklearn.model_selection import validation_curve\n",
    "param_range = [0.001, 0.01, 0.1, 1.0, 10.0, 100.0]\n",
    "train_scores, test_scores = validation_curve(estimator=pipe_lr,X=X_train,y=y_train,param_name='logisticregression__C',\n",
    "                param_range=param_range,cv=10)\n",
    "train_mean = np.mean(train_scores, axis=1)\n",
    "train_std = np.std(train_scores, axis=1)\n",
    "test_mean = np.mean(test_scores, axis=1)\n",
    "test_std = np.std(test_scores, axis=1)\n",
    "plt.plot(param_range, train_mean,color='blue', marker='o',markersize=5, label='training accuracy')\n",
    "plt.fill_between(param_range, train_mean + train_std,train_mean - train_std, alpha=0.15,color='blue')\n",
    "plt.plot(param_range, test_mean,color='green', linestyle='--',marker='s', markersize=5,label='validation accuracy')\n",
    "plt.fill_between(param_range,test_mean + test_std,test_mean - test_std,alpha=0.15, color='green')\n",
    "plt.grid()\n",
    "plt.xscale('log')\n",
    "plt.legend(loc='lower right')\n",
    "plt.xlabel('Parameter C')\n",
    "plt.ylabel('Accuracy')\n",
    "plt.ylim([0.8, 1.03])\n",
    "plt.show()"
   ]
  },
  {
   "cell_type": "code",
   "execution_count": 38,
   "metadata": {
    "collapsed": true
   },
   "outputs": [
    {
     "ename": "KeyboardInterrupt",
     "evalue": "",
     "output_type": "error",
     "traceback": [
      "\u001b[0;31m---------------------------------------------------------------------------\u001b[0m",
      "\u001b[0;31mKeyboardInterrupt\u001b[0m                         Traceback (most recent call last)",
      "\u001b[0;32m<ipython-input-38-05efe53e66c6>\u001b[0m in \u001b[0;36m<module>\u001b[0;34m()\u001b[0m\n\u001b[1;32m      8\u001b[0m gs = GridSearchCV(estimator=pipe_svc,param_grid=param_grid,scoring='accuracy',\n\u001b[1;32m      9\u001b[0m                  cv=10,n_jobs=-1)\n\u001b[0;32m---> 10\u001b[0;31m \u001b[0mgs\u001b[0m\u001b[0;34m=\u001b[0m\u001b[0mgs\u001b[0m\u001b[0;34m.\u001b[0m\u001b[0mfit\u001b[0m\u001b[0;34m(\u001b[0m\u001b[0mX_train\u001b[0m\u001b[0;34m,\u001b[0m\u001b[0my_train\u001b[0m\u001b[0;34m)\u001b[0m\u001b[0;34m\u001b[0m\u001b[0;34m\u001b[0m\u001b[0m\n\u001b[0m\u001b[1;32m     11\u001b[0m \u001b[0mprint\u001b[0m\u001b[0;34m(\u001b[0m\u001b[0mgs\u001b[0m\u001b[0;34m.\u001b[0m\u001b[0mbest_score_\u001b[0m\u001b[0;34m)\u001b[0m\u001b[0;34m\u001b[0m\u001b[0;34m\u001b[0m\u001b[0m\n\u001b[1;32m     12\u001b[0m \u001b[0mprint\u001b[0m\u001b[0;34m(\u001b[0m\u001b[0mgs\u001b[0m\u001b[0;34m.\u001b[0m\u001b[0mbest_params_\u001b[0m\u001b[0;34m)\u001b[0m\u001b[0;34m\u001b[0m\u001b[0;34m\u001b[0m\u001b[0m\n",
      "\u001b[0;32m~/anaconda/envs/py36/lib/python3.6/site-packages/sklearn/model_selection/_search.py\u001b[0m in \u001b[0;36mfit\u001b[0;34m(self, X, y, groups, **fit_params)\u001b[0m\n\u001b[1;32m    720\u001b[0m                 \u001b[0;32mreturn\u001b[0m \u001b[0mresults_container\u001b[0m\u001b[0;34m[\u001b[0m\u001b[0;36m0\u001b[0m\u001b[0;34m]\u001b[0m\u001b[0;34m\u001b[0m\u001b[0;34m\u001b[0m\u001b[0m\n\u001b[1;32m    721\u001b[0m \u001b[0;34m\u001b[0m\u001b[0m\n\u001b[0;32m--> 722\u001b[0;31m             \u001b[0mself\u001b[0m\u001b[0;34m.\u001b[0m\u001b[0m_run_search\u001b[0m\u001b[0;34m(\u001b[0m\u001b[0mevaluate_candidates\u001b[0m\u001b[0;34m)\u001b[0m\u001b[0;34m\u001b[0m\u001b[0;34m\u001b[0m\u001b[0m\n\u001b[0m\u001b[1;32m    723\u001b[0m \u001b[0;34m\u001b[0m\u001b[0m\n\u001b[1;32m    724\u001b[0m         \u001b[0mresults\u001b[0m \u001b[0;34m=\u001b[0m \u001b[0mresults_container\u001b[0m\u001b[0;34m[\u001b[0m\u001b[0;36m0\u001b[0m\u001b[0;34m]\u001b[0m\u001b[0;34m\u001b[0m\u001b[0;34m\u001b[0m\u001b[0m\n",
      "\u001b[0;32m~/anaconda/envs/py36/lib/python3.6/site-packages/sklearn/model_selection/_search.py\u001b[0m in \u001b[0;36m_run_search\u001b[0;34m(self, evaluate_candidates)\u001b[0m\n\u001b[1;32m   1189\u001b[0m     \u001b[0;32mdef\u001b[0m \u001b[0m_run_search\u001b[0m\u001b[0;34m(\u001b[0m\u001b[0mself\u001b[0m\u001b[0;34m,\u001b[0m \u001b[0mevaluate_candidates\u001b[0m\u001b[0;34m)\u001b[0m\u001b[0;34m:\u001b[0m\u001b[0;34m\u001b[0m\u001b[0;34m\u001b[0m\u001b[0m\n\u001b[1;32m   1190\u001b[0m         \u001b[0;34m\"\"\"Search all candidates in param_grid\"\"\"\u001b[0m\u001b[0;34m\u001b[0m\u001b[0;34m\u001b[0m\u001b[0m\n\u001b[0;32m-> 1191\u001b[0;31m         \u001b[0mevaluate_candidates\u001b[0m\u001b[0;34m(\u001b[0m\u001b[0mParameterGrid\u001b[0m\u001b[0;34m(\u001b[0m\u001b[0mself\u001b[0m\u001b[0;34m.\u001b[0m\u001b[0mparam_grid\u001b[0m\u001b[0;34m)\u001b[0m\u001b[0;34m)\u001b[0m\u001b[0;34m\u001b[0m\u001b[0;34m\u001b[0m\u001b[0m\n\u001b[0m\u001b[1;32m   1192\u001b[0m \u001b[0;34m\u001b[0m\u001b[0m\n\u001b[1;32m   1193\u001b[0m \u001b[0;34m\u001b[0m\u001b[0m\n",
      "\u001b[0;32m~/anaconda/envs/py36/lib/python3.6/site-packages/sklearn/model_selection/_search.py\u001b[0m in \u001b[0;36mevaluate_candidates\u001b[0;34m(candidate_params)\u001b[0m\n\u001b[1;32m    709\u001b[0m                                \u001b[0;32mfor\u001b[0m \u001b[0mparameters\u001b[0m\u001b[0;34m,\u001b[0m \u001b[0;34m(\u001b[0m\u001b[0mtrain\u001b[0m\u001b[0;34m,\u001b[0m \u001b[0mtest\u001b[0m\u001b[0;34m)\u001b[0m\u001b[0;34m\u001b[0m\u001b[0;34m\u001b[0m\u001b[0m\n\u001b[1;32m    710\u001b[0m                                in product(candidate_params,\n\u001b[0;32m--> 711\u001b[0;31m                                           cv.split(X, y, groups)))\n\u001b[0m\u001b[1;32m    712\u001b[0m \u001b[0;34m\u001b[0m\u001b[0m\n\u001b[1;32m    713\u001b[0m                 \u001b[0mall_candidate_params\u001b[0m\u001b[0;34m.\u001b[0m\u001b[0mextend\u001b[0m\u001b[0;34m(\u001b[0m\u001b[0mcandidate_params\u001b[0m\u001b[0;34m)\u001b[0m\u001b[0;34m\u001b[0m\u001b[0;34m\u001b[0m\u001b[0m\n",
      "\u001b[0;32m~/anaconda/envs/py36/lib/python3.6/site-packages/sklearn/externals/joblib/parallel.py\u001b[0m in \u001b[0;36m__call__\u001b[0;34m(self, iterable)\u001b[0m\n\u001b[1;32m    928\u001b[0m \u001b[0;34m\u001b[0m\u001b[0m\n\u001b[1;32m    929\u001b[0m             \u001b[0;32mwith\u001b[0m \u001b[0mself\u001b[0m\u001b[0;34m.\u001b[0m\u001b[0m_backend\u001b[0m\u001b[0;34m.\u001b[0m\u001b[0mretrieval_context\u001b[0m\u001b[0;34m(\u001b[0m\u001b[0;34m)\u001b[0m\u001b[0;34m:\u001b[0m\u001b[0;34m\u001b[0m\u001b[0;34m\u001b[0m\u001b[0m\n\u001b[0;32m--> 930\u001b[0;31m                 \u001b[0mself\u001b[0m\u001b[0;34m.\u001b[0m\u001b[0mretrieve\u001b[0m\u001b[0;34m(\u001b[0m\u001b[0;34m)\u001b[0m\u001b[0;34m\u001b[0m\u001b[0;34m\u001b[0m\u001b[0m\n\u001b[0m\u001b[1;32m    931\u001b[0m             \u001b[0;31m# Make sure that we get a last message telling us we are done\u001b[0m\u001b[0;34m\u001b[0m\u001b[0;34m\u001b[0m\u001b[0;34m\u001b[0m\u001b[0m\n\u001b[1;32m    932\u001b[0m             \u001b[0melapsed_time\u001b[0m \u001b[0;34m=\u001b[0m \u001b[0mtime\u001b[0m\u001b[0;34m.\u001b[0m\u001b[0mtime\u001b[0m\u001b[0;34m(\u001b[0m\u001b[0;34m)\u001b[0m \u001b[0;34m-\u001b[0m \u001b[0mself\u001b[0m\u001b[0;34m.\u001b[0m\u001b[0m_start_time\u001b[0m\u001b[0;34m\u001b[0m\u001b[0;34m\u001b[0m\u001b[0m\n",
      "\u001b[0;32m~/anaconda/envs/py36/lib/python3.6/site-packages/sklearn/externals/joblib/parallel.py\u001b[0m in \u001b[0;36mretrieve\u001b[0;34m(self)\u001b[0m\n\u001b[1;32m    831\u001b[0m             \u001b[0;32mtry\u001b[0m\u001b[0;34m:\u001b[0m\u001b[0;34m\u001b[0m\u001b[0;34m\u001b[0m\u001b[0m\n\u001b[1;32m    832\u001b[0m                 \u001b[0;32mif\u001b[0m \u001b[0mgetattr\u001b[0m\u001b[0;34m(\u001b[0m\u001b[0mself\u001b[0m\u001b[0;34m.\u001b[0m\u001b[0m_backend\u001b[0m\u001b[0;34m,\u001b[0m \u001b[0;34m'supports_timeout'\u001b[0m\u001b[0;34m,\u001b[0m \u001b[0;32mFalse\u001b[0m\u001b[0;34m)\u001b[0m\u001b[0;34m:\u001b[0m\u001b[0;34m\u001b[0m\u001b[0;34m\u001b[0m\u001b[0m\n\u001b[0;32m--> 833\u001b[0;31m                     \u001b[0mself\u001b[0m\u001b[0;34m.\u001b[0m\u001b[0m_output\u001b[0m\u001b[0;34m.\u001b[0m\u001b[0mextend\u001b[0m\u001b[0;34m(\u001b[0m\u001b[0mjob\u001b[0m\u001b[0;34m.\u001b[0m\u001b[0mget\u001b[0m\u001b[0;34m(\u001b[0m\u001b[0mtimeout\u001b[0m\u001b[0;34m=\u001b[0m\u001b[0mself\u001b[0m\u001b[0;34m.\u001b[0m\u001b[0mtimeout\u001b[0m\u001b[0;34m)\u001b[0m\u001b[0;34m)\u001b[0m\u001b[0;34m\u001b[0m\u001b[0;34m\u001b[0m\u001b[0m\n\u001b[0m\u001b[1;32m    834\u001b[0m                 \u001b[0;32melse\u001b[0m\u001b[0;34m:\u001b[0m\u001b[0;34m\u001b[0m\u001b[0;34m\u001b[0m\u001b[0m\n\u001b[1;32m    835\u001b[0m                     \u001b[0mself\u001b[0m\u001b[0;34m.\u001b[0m\u001b[0m_output\u001b[0m\u001b[0;34m.\u001b[0m\u001b[0mextend\u001b[0m\u001b[0;34m(\u001b[0m\u001b[0mjob\u001b[0m\u001b[0;34m.\u001b[0m\u001b[0mget\u001b[0m\u001b[0;34m(\u001b[0m\u001b[0;34m)\u001b[0m\u001b[0;34m)\u001b[0m\u001b[0;34m\u001b[0m\u001b[0;34m\u001b[0m\u001b[0m\n",
      "\u001b[0;32m~/anaconda/envs/py36/lib/python3.6/site-packages/sklearn/externals/joblib/_parallel_backends.py\u001b[0m in \u001b[0;36mwrap_future_result\u001b[0;34m(future, timeout)\u001b[0m\n\u001b[1;32m    519\u001b[0m         AsyncResults.get from multiprocessing.\"\"\"\n\u001b[1;32m    520\u001b[0m         \u001b[0;32mtry\u001b[0m\u001b[0;34m:\u001b[0m\u001b[0;34m\u001b[0m\u001b[0;34m\u001b[0m\u001b[0m\n\u001b[0;32m--> 521\u001b[0;31m             \u001b[0;32mreturn\u001b[0m \u001b[0mfuture\u001b[0m\u001b[0;34m.\u001b[0m\u001b[0mresult\u001b[0m\u001b[0;34m(\u001b[0m\u001b[0mtimeout\u001b[0m\u001b[0;34m=\u001b[0m\u001b[0mtimeout\u001b[0m\u001b[0;34m)\u001b[0m\u001b[0;34m\u001b[0m\u001b[0;34m\u001b[0m\u001b[0m\n\u001b[0m\u001b[1;32m    522\u001b[0m         \u001b[0;32mexcept\u001b[0m \u001b[0mLokyTimeoutError\u001b[0m\u001b[0;34m:\u001b[0m\u001b[0;34m\u001b[0m\u001b[0;34m\u001b[0m\u001b[0m\n\u001b[1;32m    523\u001b[0m             \u001b[0;32mraise\u001b[0m \u001b[0mTimeoutError\u001b[0m\u001b[0;34m(\u001b[0m\u001b[0;34m)\u001b[0m\u001b[0;34m\u001b[0m\u001b[0;34m\u001b[0m\u001b[0m\n",
      "\u001b[0;32m~/anaconda/envs/py36/lib/python3.6/concurrent/futures/_base.py\u001b[0m in \u001b[0;36mresult\u001b[0;34m(self, timeout)\u001b[0m\n\u001b[1;32m    425\u001b[0m                 \u001b[0;32mreturn\u001b[0m \u001b[0mself\u001b[0m\u001b[0;34m.\u001b[0m\u001b[0m__get_result\u001b[0m\u001b[0;34m(\u001b[0m\u001b[0;34m)\u001b[0m\u001b[0;34m\u001b[0m\u001b[0;34m\u001b[0m\u001b[0m\n\u001b[1;32m    426\u001b[0m \u001b[0;34m\u001b[0m\u001b[0m\n\u001b[0;32m--> 427\u001b[0;31m             \u001b[0mself\u001b[0m\u001b[0;34m.\u001b[0m\u001b[0m_condition\u001b[0m\u001b[0;34m.\u001b[0m\u001b[0mwait\u001b[0m\u001b[0;34m(\u001b[0m\u001b[0mtimeout\u001b[0m\u001b[0;34m)\u001b[0m\u001b[0;34m\u001b[0m\u001b[0;34m\u001b[0m\u001b[0m\n\u001b[0m\u001b[1;32m    428\u001b[0m \u001b[0;34m\u001b[0m\u001b[0m\n\u001b[1;32m    429\u001b[0m             \u001b[0;32mif\u001b[0m \u001b[0mself\u001b[0m\u001b[0;34m.\u001b[0m\u001b[0m_state\u001b[0m \u001b[0;32min\u001b[0m \u001b[0;34m[\u001b[0m\u001b[0mCANCELLED\u001b[0m\u001b[0;34m,\u001b[0m \u001b[0mCANCELLED_AND_NOTIFIED\u001b[0m\u001b[0;34m]\u001b[0m\u001b[0;34m:\u001b[0m\u001b[0;34m\u001b[0m\u001b[0;34m\u001b[0m\u001b[0m\n",
      "\u001b[0;32m~/anaconda/envs/py36/lib/python3.6/threading.py\u001b[0m in \u001b[0;36mwait\u001b[0;34m(self, timeout)\u001b[0m\n\u001b[1;32m    293\u001b[0m         \u001b[0;32mtry\u001b[0m\u001b[0;34m:\u001b[0m    \u001b[0;31m# restore state no matter what (e.g., KeyboardInterrupt)\u001b[0m\u001b[0;34m\u001b[0m\u001b[0;34m\u001b[0m\u001b[0m\n\u001b[1;32m    294\u001b[0m             \u001b[0;32mif\u001b[0m \u001b[0mtimeout\u001b[0m \u001b[0;32mis\u001b[0m \u001b[0;32mNone\u001b[0m\u001b[0;34m:\u001b[0m\u001b[0;34m\u001b[0m\u001b[0;34m\u001b[0m\u001b[0m\n\u001b[0;32m--> 295\u001b[0;31m                 \u001b[0mwaiter\u001b[0m\u001b[0;34m.\u001b[0m\u001b[0macquire\u001b[0m\u001b[0;34m(\u001b[0m\u001b[0;34m)\u001b[0m\u001b[0;34m\u001b[0m\u001b[0;34m\u001b[0m\u001b[0m\n\u001b[0m\u001b[1;32m    296\u001b[0m                 \u001b[0mgotit\u001b[0m \u001b[0;34m=\u001b[0m \u001b[0;32mTrue\u001b[0m\u001b[0;34m\u001b[0m\u001b[0;34m\u001b[0m\u001b[0m\n\u001b[1;32m    297\u001b[0m             \u001b[0;32melse\u001b[0m\u001b[0;34m:\u001b[0m\u001b[0;34m\u001b[0m\u001b[0;34m\u001b[0m\u001b[0m\n",
      "\u001b[0;31mKeyboardInterrupt\u001b[0m: "
     ]
    }
   ],
   "source": [
    "#tuning hyperparameters via grid search\n",
    "from sklearn.model_selection import GridSearchCV\n",
    "from sklearn.svm import SVC\n",
    "pipe_svc=make_pipeline(StandardScaler(),SVC(random_state=1))\n",
    "param_range = [0.0001,0.001,0.01,0.1,1,10,100,1000]\n",
    "param_grid=[{'svc__C':param_range,'svc__kernel':['linear']},{'svc__C':param_range,\n",
    "                        'svc__gamma':param_range,'svc__kernel':['rbf']}]\n",
    "gs = GridSearchCV(estimator=pipe_svc,param_grid=param_grid,scoring='accuracy',\n",
    "                 cv=10,n_jobs=-1)\n",
    "gs=gs.fit(X_train,y_train)\n",
    "print(gs.best_score_)\n",
    "print(gs.best_params_)"
   ]
  },
  {
   "cell_type": "code",
   "execution_count": 37,
   "metadata": {},
   "outputs": [
    {
     "data": {
      "text/plain": [
       "dict_keys(['memory', 'steps', 'standardscaler', 'svc', 'standardscaler__copy', 'standardscaler__with_mean', 'standardscaler__with_std', 'svc__C', 'svc__cache_size', 'svc__class_weight', 'svc__coef0', 'svc__decision_function_shape', 'svc__degree', 'svc__gamma', 'svc__kernel', 'svc__max_iter', 'svc__probability', 'svc__random_state', 'svc__shrinking', 'svc__tol', 'svc__verbose'])"
      ]
     },
     "execution_count": 37,
     "metadata": {},
     "output_type": "execute_result"
    }
   ],
   "source": [
    "pipe_svc.get_params().keys()"
   ]
  },
  {
   "cell_type": "code",
   "execution_count": null,
   "metadata": {
    "collapsed": true
   },
   "outputs": [],
   "source": [
    "clf=gs.best_estimator_\n",
    "clf.fit(X_train_y_train)\n",
    "print(\"Test accuracy: %.3f\" % clf.score(X_test,y_test))"
   ]
  },
  {
   "cell_type": "markdown",
   "metadata": {},
   "source": [
    "### nested cross-validation"
   ]
  },
  {
   "cell_type": "code",
   "execution_count": null,
   "metadata": {
    "collapsed": true
   },
   "outputs": [],
   "source": [
    "# compare SVM model to a simple decision tree classifier and a svm\n",
    "gs=GridSearchCV(estimator=pipe_svc,param_grid=param_grid,scoring='accuracy',cv=2)\n",
    "scores=cross_val_score(gs,X_train,y_train,scoring='accuracy',cv=5)\n",
    "print('CV accuracy: %.3f +/- %.3f' % (np.mean(scores),np.std(scores)))"
   ]
  },
  {
   "cell_type": "code",
   "execution_count": 11,
   "metadata": {},
   "outputs": [
    {
     "name": "stdout",
     "output_type": "stream",
     "text": [
      "CV accuracy: 0.982 +/- 0.000\n"
     ]
    }
   ],
   "source": [
    "from sklearn.tree import DecisionTreeClassifier\n",
    "from sklearn.model_selection import GridSearchCV\n",
    "from sklearn.model_selection import cross_val_score\n",
    "\n",
    "pipe_dtc=make_pipeline(StandardScaler(),DecisionTreeClassifier(random_state=1))\n",
    "gs=GridSearchCV(estimator=pipe_dtc,param_grid=[{'decisiontreeclassifier__max_depth':[1,2,3,4,5,6,7,None]}],scoring='accuracy',cv=2)\n",
    "scores=cross_val_score(gs,X_train,y_train,scoring='accuracy',cv=5)\n",
    "print(\"CV accuracy: %.3f +/- %.3f\" % (np.mean(scores),np.std(scores)))"
   ]
  },
  {
   "cell_type": "code",
   "execution_count": 9,
   "metadata": {},
   "outputs": [
    {
     "data": {
      "text/plain": [
       "dict_keys(['memory', 'steps', 'standardscaler', 'decisiontreeclassifier', 'standardscaler__copy', 'standardscaler__with_mean', 'standardscaler__with_std', 'decisiontreeclassifier__class_weight', 'decisiontreeclassifier__criterion', 'decisiontreeclassifier__max_depth', 'decisiontreeclassifier__max_features', 'decisiontreeclassifier__max_leaf_nodes', 'decisiontreeclassifier__min_impurity_decrease', 'decisiontreeclassifier__min_impurity_split', 'decisiontreeclassifier__min_samples_leaf', 'decisiontreeclassifier__min_samples_split', 'decisiontreeclassifier__min_weight_fraction_leaf', 'decisiontreeclassifier__presort', 'decisiontreeclassifier__random_state', 'decisiontreeclassifier__splitter'])"
      ]
     },
     "execution_count": 9,
     "metadata": {},
     "output_type": "execute_result"
    }
   ],
   "source": [
    "pipe_dtc.get_params().keys()"
   ]
  },
  {
   "cell_type": "markdown",
   "metadata": {},
   "source": [
    "### look at different performance evaluation metrics"
   ]
  },
  {
   "cell_type": "code",
   "execution_count": 13,
   "metadata": {},
   "outputs": [
    {
     "data": {
      "image/png": "[encoded data removed]",
      "text/plain": [
       "<matplotlib.figure.Figure at 0x10e6874e0>"
      ]
     },
     "metadata": {},
     "output_type": "display_data"
    }
   ],
   "source": [
    "from sklearn.metrics import confusion_matrix\n",
    "pipe_dtc.fit(X_train,y_train)\n",
    "y_pred=pipe_dtc.predict(X_test)\n",
    "confmat=confusion_matrix(y_true=y_test,y_pred=y_pred)\n",
    "fig,ax=plt.subplots(figsize=(2.5,2.5))\n",
    "ax.matshow(confmat, cmap=plt.cm.Blues,alpha=0.3)\n",
    "for i in range(confmat.shape[0]):\n",
    "    for j in range(confmat.shape[1]):\n",
    "        ax.text(x=j,y=i,s=confmat[i,j],va='center',ha='center')\n",
    "plt.xlabel('predicted label')\n",
    "plt.ylabel(\"true label\")\n",
    "plt.show()"
   ]
  },
  {
   "cell_type": "markdown",
   "metadata": {},
   "source": [
    "### supervised data compression linear discriminant analysis"
   ]
  },
  {
   "cell_type": "code",
   "execution_count": null,
   "metadata": {
    "collapsed": true
   },
   "outputs": [],
   "source": []
  },
  {
   "cell_type": "code",
   "execution_count": null,
   "metadata": {
    "collapsed": true
   },
   "outputs": [],
   "source": []
  },
  {
   "cell_type": "code",
   "execution_count": null,
   "metadata": {
    "collapsed": true
   },
   "outputs": [],
   "source": []
  },
  {
   "cell_type": "code",
   "execution_count": null,
   "metadata": {
    "collapsed": true
   },
   "outputs": [],
   "source": [
    "from sklearn.linear_model import LassoCV\n",
    "from sklearn.datasets import make_regression\n",
    "X_train, y_train = make_regression(noise=4, random_state=0)\n",
    "reg = LassoCV(cv=5, random_state=0).fit(X_train, y_train)\n",
    "reg.score(X_train, y_train) \n",
    "\n"
   ]
  },
  {
   "cell_type": "code",
   "execution_count": null,
   "metadata": {
    "collapsed": true
   },
   "outputs": [],
   "source": []
  },
  {
   "cell_type": "code",
   "execution_count": null,
   "metadata": {
    "collapsed": true
   },
   "outputs": [],
   "source": []
  },
  {
   "cell_type": "code",
   "execution_count": null,
   "metadata": {
    "collapsed": true
   },
   "outputs": [],
   "source": []
  },
  {
   "cell_type": "code",
   "execution_count": null,
   "metadata": {
    "collapsed": true
   },
   "outputs": [],
   "source": [
    "#clf = LogisticRegressionCV(cv=5, random_state=0,multi_class='multinomial').fit(X_train, y_train)"
   ]
  },
  {
   "cell_type": "code",
   "execution_count": 1,
   "metadata": {
    "collapsed": true
   },
   "outputs": [],
   "source": [
    "import pandas as pd\n",
    "df = pd.read_csv('https://archive.ics.uci.edu/ml/''machine-learning-databases''/breast-cancer-wisconsin/wdbc.data',header=None)"
   ]
  },
  {
   "cell_type": "code",
   "execution_count": 2,
   "metadata": {},
   "outputs": [
    {
     "data": {
      "text/plain": [
       "array(['B', 'M'], dtype=object)"
      ]
     },
     "execution_count": 2,
     "metadata": {},
     "output_type": "execute_result"
    }
   ],
   "source": [
    "from sklearn.preprocessing import LabelEncoder\n",
    "X = df.loc[:, 2:].values\n",
    "y = df.loc[:, 1].values\n",
    "le = LabelEncoder()\n",
    "y = le.fit_transform(y)\n",
    "le.classes_"
   ]
  },
  {
   "cell_type": "code",
   "execution_count": 3,
   "metadata": {
    "collapsed": true
   },
   "outputs": [],
   "source": [
    "from sklearn.model_selection import train_test_split\n",
    "X_train, X_test, y_train, y_test =train_test_split(X, y,test_size=0.20,stratify=y,random_state=1)"
   ]
  },
  {
   "cell_type": "code",
   "execution_count": 4,
   "metadata": {},
   "outputs": [
    {
     "name": "stdout",
     "output_type": "stream",
     "text": [
      "Test Accuracy: 0.956\n"
     ]
    },
    {
     "name": "stderr",
     "output_type": "stream",
     "text": [
      "/Users/ergangwang/anaconda/envs/py36/lib/python3.6/site-packages/sklearn/linear_model/logistic.py:433: FutureWarning: Default solver will be changed to 'lbfgs' in 0.22. Specify a solver to silence this warning.\n",
      "  FutureWarning)\n"
     ]
    }
   ],
   "source": [
    "from sklearn.preprocessing import StandardScaler\n",
    "from sklearn.decomposition import PCA\n",
    "from sklearn.linear_model import LogisticRegression\n",
    "from sklearn.pipeline import make_pipeline\n",
    "pipe_lr = make_pipeline(StandardScaler(),PCA(n_components=2),LogisticRegression(random_state=1))\n",
    "pipe_lr.fit(X_train, y_train)\n",
    "y_pred = pipe_lr.predict(X_test)\n",
    "print('Test Accuracy: %.3f' % pipe_lr.score(X_test, y_test))"
   ]
  },
  {
   "cell_type": "code",
   "execution_count": 5,
   "metadata": {},
   "outputs": [
    {
     "name": "stdout",
     "output_type": "stream",
     "text": [
      "Fold:  1, Class dist.: [256 153], Acc: 0.935\n",
      "Fold:  2, Class dist.: [256 153], Acc: 0.935\n",
      "Fold:  3, Class dist.: [256 153], Acc: 0.957\n",
      "Fold:  4, Class dist.: [256 153], Acc: 0.957\n",
      "Fold:  5, Class dist.: [256 153], Acc: 0.935\n",
      "Fold:  6, Class dist.: [257 153], Acc: 0.956\n",
      "Fold:  7, Class dist.: [257 153], Acc: 0.978\n",
      "Fold:  8, Class dist.: [257 153], Acc: 0.933\n",
      "Fold:  9, Class dist.: [257 153], Acc: 0.956\n",
      "Fold: 10, Class dist.: [257 153], Acc: 0.956\n"
     ]
    },
    {
     "name": "stderr",
     "output_type": "stream",
     "text": [
      "/Users/ergangwang/anaconda/envs/py36/lib/python3.6/site-packages/sklearn/linear_model/logistic.py:433: FutureWarning: Default solver will be changed to 'lbfgs' in 0.22. Specify a solver to silence this warning.\n",
      "  FutureWarning)\n",
      "/Users/ergangwang/anaconda/envs/py36/lib/python3.6/site-packages/sklearn/linear_model/logistic.py:433: FutureWarning: Default solver will be changed to 'lbfgs' in 0.22. Specify a solver to silence this warning.\n",
      "  FutureWarning)\n",
      "/Users/ergangwang/anaconda/envs/py36/lib/python3.6/site-packages/sklearn/linear_model/logistic.py:433: FutureWarning: Default solver will be changed to 'lbfgs' in 0.22. Specify a solver to silence this warning.\n",
      "  FutureWarning)\n",
      "/Users/ergangwang/anaconda/envs/py36/lib/python3.6/site-packages/sklearn/linear_model/logistic.py:433: FutureWarning: Default solver will be changed to 'lbfgs' in 0.22. Specify a solver to silence this warning.\n",
      "  FutureWarning)\n",
      "/Users/ergangwang/anaconda/envs/py36/lib/python3.6/site-packages/sklearn/linear_model/logistic.py:433: FutureWarning: Default solver will be changed to 'lbfgs' in 0.22. Specify a solver to silence this warning.\n",
      "  FutureWarning)\n",
      "/Users/ergangwang/anaconda/envs/py36/lib/python3.6/site-packages/sklearn/linear_model/logistic.py:433: FutureWarning: Default solver will be changed to 'lbfgs' in 0.22. Specify a solver to silence this warning.\n",
      "  FutureWarning)\n",
      "/Users/ergangwang/anaconda/envs/py36/lib/python3.6/site-packages/sklearn/linear_model/logistic.py:433: FutureWarning: Default solver will be changed to 'lbfgs' in 0.22. Specify a solver to silence this warning.\n",
      "  FutureWarning)\n",
      "/Users/ergangwang/anaconda/envs/py36/lib/python3.6/site-packages/sklearn/linear_model/logistic.py:433: FutureWarning: Default solver will be changed to 'lbfgs' in 0.22. Specify a solver to silence this warning.\n",
      "  FutureWarning)\n",
      "/Users/ergangwang/anaconda/envs/py36/lib/python3.6/site-packages/sklearn/linear_model/logistic.py:433: FutureWarning: Default solver will be changed to 'lbfgs' in 0.22. Specify a solver to silence this warning.\n",
      "  FutureWarning)\n",
      "/Users/ergangwang/anaconda/envs/py36/lib/python3.6/site-packages/sklearn/linear_model/logistic.py:433: FutureWarning: Default solver will be changed to 'lbfgs' in 0.22. Specify a solver to silence this warning.\n",
      "  FutureWarning)\n"
     ]
    }
   ],
   "source": [
    "import numpy as np\n",
    "from sklearn.model_selection import StratifiedKFold\n",
    "kfold = StratifiedKFold(n_splits=10,random_state=1).split(X_train,y_train)\n",
    "scores = []\n",
    "for k, (train, test) in enumerate(kfold):\n",
    "    pipe_lr.fit(X_train[train], y_train[train])\n",
    "    score = pipe_lr.score(X_train[test], y_train[test])\n",
    "    scores.append(score)\n",
    "    print('Fold: %2d, Class dist.: %s, Acc: %.3f' % (k+1,np.bincount(y_train[train]), score))"
   ]
  },
  {
   "cell_type": "code",
   "execution_count": 6,
   "metadata": {},
   "outputs": [
    {
     "data": {
      "text/plain": [
       "array([0, 0, 0, 0, 0, 0, 0, 1, 1, 1, 0, 1, 0, 0, 0, 0, 1, 1, 0, 1, 1, 0,\n",
       "       0, 0, 1, 1, 0, 0, 1, 1, 0, 0, 0, 1, 1, 0, 0, 1, 0, 0, 1, 0, 0, 0,\n",
       "       0, 0, 0, 0, 0, 1, 0, 0, 0, 1, 1, 0, 0, 1, 0, 0, 0, 1, 0, 0, 1, 1,\n",
       "       0, 0, 1, 0, 0, 0, 0, 0, 1, 0, 0, 0, 0, 1, 0, 0, 0, 1, 0, 0, 1, 0,\n",
       "       0, 0, 0, 1, 1, 0, 0, 0, 1, 0, 0, 0, 1, 0, 0, 1, 0, 0, 1, 0, 1, 0,\n",
       "       0, 1, 0, 0, 1, 0, 0, 1, 0, 1, 0, 0, 0, 0, 1, 0, 1, 1, 0, 1, 1, 1,\n",
       "       0, 0, 0, 0, 0, 1, 1, 0, 0, 0, 1, 0, 1, 0, 1, 0, 0, 1, 0, 1, 0, 0,\n",
       "       0, 0, 0, 1, 0, 0, 1, 0, 1, 0, 0, 0, 0, 1, 0, 1, 1, 1, 0, 0, 1, 1,\n",
       "       0, 0, 0, 1, 1, 1, 0, 0, 0, 0, 1, 1, 0, 0, 1, 0, 1, 0, 0, 0, 0, 0,\n",
       "       0, 0, 0, 1, 1, 0, 0, 0, 1, 0, 1, 1, 0, 1, 1, 0, 0, 0, 1, 0, 1, 1,\n",
       "       1, 1, 0, 0, 1, 0, 1, 0, 1, 0, 0, 0, 1, 0, 0, 0, 1, 1, 1, 0, 0, 1,\n",
       "       0, 0, 1, 1, 0, 0, 1, 0, 0, 0, 0, 0, 0, 0, 1, 0, 0, 0, 1, 0, 1, 1,\n",
       "       0, 1, 0, 1, 1, 0, 0, 0, 0, 0, 0, 0, 0, 0, 1, 0, 0, 1, 1, 1, 1, 0,\n",
       "       0, 0, 1, 0, 0, 0, 1, 0, 0, 1, 0, 1, 1, 1, 0, 0, 0, 0, 0, 0, 0, 0,\n",
       "       1, 1, 0, 1, 1, 1, 0, 0, 0, 0, 0, 1, 0, 1, 0, 1, 1, 1, 0, 1, 0, 1,\n",
       "       0, 0, 0, 1, 1, 1, 0, 0, 0, 0, 1, 1, 0, 0, 0, 1, 1, 0, 1, 1, 0, 0,\n",
       "       1, 1, 1, 1, 0, 0, 0, 1, 0, 1, 0, 0, 1, 0, 0, 1, 1, 0, 0, 0, 1, 1,\n",
       "       0, 0, 1, 1, 0, 0, 0, 0, 0, 0, 0, 0, 0, 0, 1, 0, 0, 0, 0, 1, 0, 1,\n",
       "       0, 1, 0, 0, 0, 1, 1, 1, 0, 0, 1, 0, 1, 0, 1, 0, 0, 0, 0, 0, 0, 1,\n",
       "       1, 1, 0, 1, 0, 0, 0, 0, 0, 1, 1, 0, 1, 1, 1, 0, 0, 0, 1, 0, 1, 0,\n",
       "       1, 0, 0, 1, 0, 1, 0, 0, 0, 0, 0, 1, 1, 1, 0])"
      ]
     },
     "execution_count": 6,
     "metadata": {},
     "output_type": "execute_result"
    }
   ],
   "source": [
    "y_train"
   ]
  }
 ],
 "metadata": {
  "kernelspec": {
   "display_name": "Python 3",
   "language": "python",
   "name": "python3"
  },
  "language_info": {
   "codemirror_mode": {
    "name": "ipython",
    "version": 3
   },
   "file_extension": ".py",
   "mimetype": "text/x-python",
   "name": "python",
   "nbconvert_exporter": "python",
   "pygments_lexer": "ipython3",
   "version": "3.6.8"
  }
 },
 "nbformat": 4,
 "nbformat_minor": 2
}
