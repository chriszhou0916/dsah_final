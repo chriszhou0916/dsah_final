{
 "cells": [
  {
   "cell_type": "code",
   "execution_count": 1,
   "metadata": {},
   "outputs": [],
   "source": [
    "import pandas as pd\n",
    "import numpy as np\n",
    "import seaborn as sns\n",
    "%matplotlib inline\n",
    "import statistics\n",
    "import matplotlib.pyplot as plt"
   ]
  },
  {
   "cell_type": "markdown",
   "metadata": {},
   "source": [
    "# Load feature table"
   ]
  },
  {
   "cell_type": "code",
   "execution_count": 2,
   "metadata": {},
   "outputs": [],
   "source": [
    "df = pd.read_csv('./data/16_over_feature_with_label_all_48H.csv')"
   ]
  },
  {
   "cell_type": "code",
   "execution_count": 3,
   "metadata": {},
   "outputs": [
    {
     "data": {
      "text/plain": [
       "(224951, 338)"
      ]
     },
     "execution_count": 3,
     "metadata": {},
     "output_type": "execute_result"
    }
   ],
   "source": [
    "df.shape"
   ]
  },
  {
   "cell_type": "markdown",
   "metadata": {},
   "source": [
    "# Use admissions and patient tables to filter patient population"
   ]
  },
  {
   "cell_type": "code",
   "execution_count": 4,
   "metadata": {},
   "outputs": [
    {
     "data": {
      "text/plain": [
       "0    53122\n",
       "1     5854\n",
       "Name: HOSPITAL_EXPIRE_FLAG, dtype: int64"
      ]
     },
     "execution_count": 4,
     "metadata": {},
     "output_type": "execute_result"
    }
   ],
   "source": [
    "admissions_df = pd.read_csv('./data/admissions.csv')\n",
    "admissions_df['HOSPITAL_EXPIRE_FLAG'].value_counts()"
   ]
  },
  {
   "cell_type": "code",
   "execution_count": 5,
   "metadata": {},
   "outputs": [
    {
     "data": {
      "text/plain": [
       "index                            int64\n",
       "ROW_ID                           int64\n",
       "SUBJECT_ID                       int64\n",
       "HADM_ID                          int64\n",
       "ADMITTIME               datetime64[ns]\n",
       "DISCHTIME               datetime64[ns]\n",
       "DEATHTIME                       object\n",
       "ADMISSION_TYPE                  object\n",
       "ADMISSION_LOCATION              object\n",
       "DISCHARGE_LOCATION              object\n",
       "INSURANCE                       object\n",
       "LANGUAGE                        object\n",
       "RELIGION                        object\n",
       "MARITAL_STATUS                  object\n",
       "ETHNICITY                       object\n",
       "EDREGTIME                       object\n",
       "EDOUTTIME                       object\n",
       "DIAGNOSIS                       object\n",
       "HOSPITAL_EXPIRE_FLAG             int64\n",
       "HAS_CHARTEVENTS_DATA             int64\n",
       "length_of_stay                 float64\n",
       "dtype: object"
      ]
     },
     "execution_count": 5,
     "metadata": {},
     "output_type": "execute_result"
    }
   ],
   "source": [
    "admissions_df['ADMITTIME'] = pd.to_datetime(admissions_df['ADMITTIME'])\n",
    "admissions_df['DISCHTIME'] = pd.to_datetime(admissions_df['DISCHTIME'])\n",
    "admissions_df['length_of_stay'] = (admissions_df['DISCHTIME'] - admissions_df['ADMITTIME']) / np.timedelta64(1, 'h')\n",
    "admissions_df.dtypes"
   ]
  },
  {
   "cell_type": "code",
   "execution_count": 6,
   "metadata": {},
   "outputs": [
    {
     "data": {
      "text/plain": [
       "<matplotlib.axes._subplots.AxesSubplot at 0x1a22a6c0f0>"
      ]
     },
     "execution_count": 6,
     "metadata": {},
     "output_type": "execute_result"
    },
    {
     "data": {
      "image/png": "[encoded data removed]",
      "text/plain": [
       "<Figure size 432x288 with 1 Axes>"
      ]
     },
     "metadata": {
      "needs_background": "light"
     },
     "output_type": "display_data"
    }
   ],
   "source": [
    "sns.distplot(admissions_df['length_of_stay'], kde=False)"
   ]
  },
  {
   "cell_type": "code",
   "execution_count": 7,
   "metadata": {},
   "outputs": [
    {
     "data": {
      "image/png": "[encoded data removed]",
      "text/plain": [
       "<Figure size 432x288 with 1 Axes>"
      ]
     },
     "metadata": {
      "needs_background": "light"
     },
     "output_type": "display_data"
    }
   ],
   "source": [
    "g = sns.distplot(admissions_df['length_of_stay'],\n",
    "             hist_kws=dict(cumulative=True),\n",
    "             kde_kws=dict(cumulative=True))\n",
    "ax = g.axes\n",
    "ax.axhline(.9)\n",
    "plt.show()"
   ]
  },
  {
   "cell_type": "markdown",
   "metadata": {},
   "source": [
    "### Filter out stays less than 4 hours or longer than 21 days AND patient is alive"
   ]
  },
  {
   "cell_type": "code",
   "execution_count": 8,
   "metadata": {},
   "outputs": [],
   "source": [
    "time_too_short = ((admissions_df['length_of_stay'] > 24 * 21) & (admissions_df['HOSPITAL_EXPIRE_FLAG'] == 0)) | (admissions_df['length_of_stay'] < 4)"
   ]
  },
  {
   "cell_type": "code",
   "execution_count": 9,
   "metadata": {},
   "outputs": [],
   "source": [
    "admissions_filtered_time = admissions_df[~time_too_short]"
   ]
  },
  {
   "cell_type": "code",
   "execution_count": 10,
   "metadata": {},
   "outputs": [
    {
     "name": "stderr",
     "output_type": "stream",
     "text": [
      "/Users/chriszhou/anaconda/envs/py37/lib/python3.7/site-packages/pandas/core/frame.py:3940: SettingWithCopyWarning: \n",
      "A value is trying to be set on a copy of a slice from a DataFrame\n",
      "\n",
      "See the caveats in the documentation: http://pandas.pydata.org/pandas-docs/stable/indexing.html#indexing-view-versus-copy\n",
      "  errors=errors)\n"
     ]
    }
   ],
   "source": [
    "df_filtered_time = df[df['HADM_ID'].isin(admissions_filtered_time['HADM_ID'])]\n",
    "df_filtered_time.drop(columns=['HADM_ID', 'bin_num'], inplace=True)"
   ]
  },
  {
   "cell_type": "code",
   "execution_count": 11,
   "metadata": {},
   "outputs": [
    {
     "data": {
      "text/plain": [
       "(160110, 336)"
      ]
     },
     "execution_count": 11,
     "metadata": {},
     "output_type": "execute_result"
    }
   ],
   "source": [
    "df_filtered_time.shape"
   ]
  },
  {
   "cell_type": "markdown",
   "metadata": {},
   "source": [
    "### Remove Ethnicity"
   ]
  },
  {
   "cell_type": "code",
   "execution_count": 12,
   "metadata": {},
   "outputs": [],
   "source": [
    "df_filtered_time = df_filtered_time.loc[:, ~df_filtered_time.columns.str.startswith('ethnicity')]"
   ]
  },
  {
   "cell_type": "code",
   "execution_count": 13,
   "metadata": {},
   "outputs": [
    {
     "data": {
      "text/plain": [
       "0    155608\n",
       "1      4502\n",
       "Name: label, dtype: int64"
      ]
     },
     "execution_count": 13,
     "metadata": {},
     "output_type": "execute_result"
    }
   ],
   "source": [
    "df_filtered_time['label'].value_counts()"
   ]
  },
  {
   "cell_type": "markdown",
   "metadata": {},
   "source": [
    "### Add range feature from min and max"
   ]
  },
  {
   "cell_type": "code",
   "execution_count": 66,
   "metadata": {},
   "outputs": [],
   "source": [
    "feature_col=df_filtered_time.columns.values\n",
    "feature_col_mm=list(filter(lambda k: k.endswith('_max') or k.endswith('_min'), feature_col))\n",
    "feature_col_mm.sort()\n",
    "feature_col_mm\n",
    "for i,k in zip(feature_col_mm[0::2], feature_col_mm[1::2]):\n",
    "    col_name_new=i.split('_')[0]+\"_range\"\n",
    "    df_filtered_time[col_name_new] = df_filtered_time[i]-df_filtered_time[k]"
   ]
  },
  {
   "cell_type": "code",
   "execution_count": 88,
   "metadata": {},
   "outputs": [
    {
     "data": {
      "text/plain": [
       "['Chloride_max',\n",
       " 'Creatinine_max',\n",
       " 'Glucose_max',\n",
       " 'Hematocrit_max',\n",
       " 'Hemoglobin_max',\n",
       " 'Platelets_max',\n",
       " 'Potassium_max',\n",
       " 'Red blood cell count_max',\n",
       " 'Sodium_max',\n",
       " 'White blood cell count_max',\n",
       " 'Chloride_min',\n",
       " 'Creatinine_min',\n",
       " 'Glucose_min',\n",
       " 'Hematocrit_min',\n",
       " 'Hemoglobin_min',\n",
       " 'Platelets_min',\n",
       " 'Potassium_min',\n",
       " 'Red blood cell count_min',\n",
       " 'Sodium_min',\n",
       " 'White blood cell count_min',\n",
       " 'Chloride_mean',\n",
       " 'Creatinine_mean',\n",
       " 'Glucose_mean',\n",
       " 'Hematocrit_mean',\n",
       " 'Hemoglobin_mean',\n",
       " 'Platelets_mean',\n",
       " 'Potassium_mean',\n",
       " 'Red blood cell count_mean',\n",
       " 'Sodium_mean',\n",
       " 'White blood cell count_mean',\n",
       " 'Diastolic blood pressure_max',\n",
       " 'Glascow coma scale eye opening_max',\n",
       " 'Glascow coma scale motor response_max',\n",
       " 'Glascow coma scale verbal response_max',\n",
       " 'Heart Rate_max',\n",
       " 'Mean blood pressure_max',\n",
       " 'Oxygen saturation_max',\n",
       " 'Respiratory rate_max',\n",
       " 'Systolic blood pressure_max',\n",
       " 'Temperature_max',\n",
       " 'Diastolic blood pressure_min',\n",
       " 'Glascow coma scale eye opening_min',\n",
       " 'Glascow coma scale motor response_min',\n",
       " 'Glascow coma scale verbal response_min',\n",
       " 'Heart Rate_min',\n",
       " 'Mean blood pressure_min',\n",
       " 'Oxygen saturation_min',\n",
       " 'Respiratory rate_min',\n",
       " 'Systolic blood pressure_min',\n",
       " 'Temperature_min',\n",
       " 'Diastolic blood pressure_mean',\n",
       " 'Glascow coma scale eye opening_mean',\n",
       " 'Glascow coma scale motor response_mean',\n",
       " 'Glascow coma scale verbal response_mean',\n",
       " 'Heart Rate_mean',\n",
       " 'Mean blood pressure_mean',\n",
       " 'Oxygen saturation_mean',\n",
       " 'Respiratory rate_mean',\n",
       " 'Systolic blood pressure_mean',\n",
       " 'Temperature_mean',\n",
       " 'abnormal_lab_% Hemoglobin A1c',\n",
       " 'abnormal_lab_25-OH Vitamin D',\n",
       " 'abnormal_lab_Absolute CD3 Count',\n",
       " 'abnormal_lab_Absolute CD4 Count',\n",
       " 'abnormal_lab_Absolute CD8 Count',\n",
       " 'abnormal_lab_Acetaminophen',\n",
       " 'abnormal_lab_Alanine Aminotransferase (ALT)',\n",
       " 'abnormal_lab_Albumin',\n",
       " 'abnormal_lab_Albumin/Creatinine, Urine',\n",
       " 'abnormal_lab_Alkaline Phosphatase',\n",
       " 'abnormal_lab_Alpha-Fetoprotein',\n",
       " 'abnormal_lab_Amikacin',\n",
       " 'abnormal_lab_Ammonia',\n",
       " 'abnormal_lab_Amylase',\n",
       " 'abnormal_lab_Anion Gap',\n",
       " 'abnormal_lab_Anti-Nuclear Antibody',\n",
       " 'abnormal_lab_Anti-Smooth Muscle Antibody',\n",
       " 'abnormal_lab_Anti-Thyroglobulin Antibodies',\n",
       " 'abnormal_lab_Anticardiolipin Antibody IgG',\n",
       " 'abnormal_lab_Anticardiolipin Antibody IgM',\n",
       " 'abnormal_lab_Antithrombin',\n",
       " 'abnormal_lab_Asparate Aminotransferase (AST)',\n",
       " 'abnormal_lab_Atypical Lymphocytes',\n",
       " 'abnormal_lab_Bands',\n",
       " 'abnormal_lab_Basophils',\n",
       " 'abnormal_lab_Beta-2 Microglobulin',\n",
       " 'abnormal_lab_Bicarbonate',\n",
       " 'abnormal_lab_Bilirubin, Direct',\n",
       " 'abnormal_lab_Bilirubin, Total',\n",
       " 'abnormal_lab_Blasts',\n",
       " 'abnormal_lab_Bleeding Time',\n",
       " 'abnormal_lab_Broad Casts',\n",
       " 'abnormal_lab_C-Reactive Protein',\n",
       " 'abnormal_lab_C3',\n",
       " 'abnormal_lab_C4',\n",
       " 'abnormal_lab_CA-125',\n",
       " 'abnormal_lab_CD4/CD8 Ratio',\n",
       " 'abnormal_lab_CK-MB Index',\n",
       " 'abnormal_lab_Calcium, Total',\n",
       " 'abnormal_lab_Calculated Bicarbonate, Whole Blood',\n",
       " 'abnormal_lab_Calculated TBG',\n",
       " 'abnormal_lab_Calculated Thyroxine (T4) Index',\n",
       " 'abnormal_lab_Calculated Total CO2',\n",
       " 'abnormal_lab_Cancer Antigen 27.29',\n",
       " 'abnormal_lab_Carbamazepine',\n",
       " 'abnormal_lab_Carboxyhemoglobin',\n",
       " 'abnormal_lab_Carcinoembyronic Antigen (CEA)',\n",
       " 'abnormal_lab_Cellular Cast',\n",
       " 'abnormal_lab_Chloride',\n",
       " 'abnormal_lab_Chloride, Whole Blood',\n",
       " 'abnormal_lab_Cholesterol, LDL, Calculated',\n",
       " 'abnormal_lab_Cholesterol, LDL, Measured',\n",
       " 'abnormal_lab_Cholesterol, Total',\n",
       " 'abnormal_lab_Cortisol',\n",
       " 'abnormal_lab_Creatine Kinase (CK)',\n",
       " 'abnormal_lab_Creatine Kinase, MB Isoenzyme',\n",
       " 'abnormal_lab_Creatinine',\n",
       " 'abnormal_lab_Creatinine Clearance',\n",
       " 'abnormal_lab_Cyclosporin',\n",
       " 'abnormal_lab_D-Dimer',\n",
       " 'abnormal_lab_Digoxin',\n",
       " 'abnormal_lab_Eosinophil Count',\n",
       " 'abnormal_lab_Eosinophils',\n",
       " 'abnormal_lab_Estimated Actual Glucose',\n",
       " 'abnormal_lab_Ethanol',\n",
       " 'abnormal_lab_Factor II',\n",
       " 'abnormal_lab_Factor IX',\n",
       " 'abnormal_lab_Factor V',\n",
       " 'abnormal_lab_Factor VII',\n",
       " 'abnormal_lab_Factor VIII',\n",
       " 'abnormal_lab_Factor X',\n",
       " 'abnormal_lab_Factor XI',\n",
       " 'abnormal_lab_Ferritin',\n",
       " 'abnormal_lab_Fibrin Degradation Products',\n",
       " 'abnormal_lab_Fibrinogen, Functional',\n",
       " 'abnormal_lab_Follicle Stimulating Hormone',\n",
       " 'abnormal_lab_Free Calcium',\n",
       " 'abnormal_lab_Gamma Glutamyltransferase',\n",
       " 'abnormal_lab_Gastrin',\n",
       " 'abnormal_lab_Gentamicin',\n",
       " 'abnormal_lab_Globulin',\n",
       " 'abnormal_lab_Glucose',\n",
       " 'abnormal_lab_Granular Casts',\n",
       " 'abnormal_lab_Granulocyte Count',\n",
       " 'abnormal_lab_Haptoglobin',\n",
       " 'abnormal_lab_Hematocrit',\n",
       " 'abnormal_lab_Hematocrit, Ascites',\n",
       " 'abnormal_lab_Hematocrit, CSF',\n",
       " 'abnormal_lab_Hematocrit, Joint Fluid',\n",
       " 'abnormal_lab_Hematocrit, Other Fluid',\n",
       " 'abnormal_lab_Hematocrit, Pleural',\n",
       " 'abnormal_lab_Hemoglobin',\n",
       " 'abnormal_lab_Hemoglobin A2',\n",
       " 'abnormal_lab_Hemoglobin F',\n",
       " 'abnormal_lab_Hemogloblin S',\n",
       " 'abnormal_lab_Heparin',\n",
       " 'abnormal_lab_Hepatitis C Virus Antibody',\n",
       " 'abnormal_lab_Homocysteine',\n",
       " 'abnormal_lab_Hyaline Casts',\n",
       " 'abnormal_lab_Hypersegmented Neutrophils',\n",
       " 'abnormal_lab_INR(PT)',\n",
       " 'abnormal_lab_Immunoglobulin A',\n",
       " 'abnormal_lab_Immunoglobulin G',\n",
       " 'abnormal_lab_Immunoglobulin M',\n",
       " 'abnormal_lab_Iron',\n",
       " 'abnormal_lab_Iron Binding Capacity, Total',\n",
       " 'abnormal_lab_Lactate',\n",
       " 'abnormal_lab_Lactate Dehydrogenase (LD)',\n",
       " 'abnormal_lab_Leukocyte Alkaline Phosphatase',\n",
       " 'abnormal_lab_Lipase',\n",
       " 'abnormal_lab_Lithium',\n",
       " 'abnormal_lab_Luteinizing Hormone',\n",
       " 'abnormal_lab_Lymphocytes',\n",
       " 'abnormal_lab_Lymphocytes, Percent',\n",
       " 'abnormal_lab_MCH',\n",
       " 'abnormal_lab_MCHC',\n",
       " 'abnormal_lab_MCV',\n",
       " 'abnormal_lab_Macrophage',\n",
       " 'abnormal_lab_Macrophages',\n",
       " 'abnormal_lab_Magnesium',\n",
       " 'abnormal_lab_Mesothelial Cell',\n",
       " 'abnormal_lab_Mesothelial Cells',\n",
       " 'abnormal_lab_Mesothelial cells',\n",
       " 'abnormal_lab_Metamyelocytes',\n",
       " 'abnormal_lab_Methemoglobin',\n",
       " 'abnormal_lab_Monocytes',\n",
       " 'abnormal_lab_Monos',\n",
       " 'abnormal_lab_Myelocytes',\n",
       " 'abnormal_lab_NRBC',\n",
       " 'abnormal_lab_NTproBNP',\n",
       " 'abnormal_lab_Neutrophils',\n",
       " 'abnormal_lab_Nucleated RBC',\n",
       " 'abnormal_lab_Nucleated Red Cells',\n",
       " 'abnormal_lab_Osmolality, Measured',\n",
       " 'abnormal_lab_Other',\n",
       " 'abnormal_lab_Other Cell',\n",
       " 'abnormal_lab_Other Cells',\n",
       " 'abnormal_lab_PT',\n",
       " 'abnormal_lab_PTT',\n",
       " 'abnormal_lab_Parathyroid Hormone',\n",
       " 'abnormal_lab_Phenobarbital',\n",
       " 'abnormal_lab_Phenytoin',\n",
       " 'abnormal_lab_Phenytoin, Free',\n",
       " 'abnormal_lab_Phenytoin, Percent Free',\n",
       " 'abnormal_lab_Phosphate',\n",
       " 'abnormal_lab_Plasma',\n",
       " 'abnormal_lab_Plasma Cells',\n",
       " 'abnormal_lab_Platelet Count',\n",
       " 'abnormal_lab_Polys',\n",
       " 'abnormal_lab_Potassium',\n",
       " 'abnormal_lab_Potassium, Whole Blood',\n",
       " 'abnormal_lab_Procainamide',\n",
       " 'abnormal_lab_Prolactin',\n",
       " 'abnormal_lab_Promyelocytes',\n",
       " 'abnormal_lab_Prostate Specific Antigen',\n",
       " 'abnormal_lab_Protein C, Antigen',\n",
       " 'abnormal_lab_Protein C, Functional',\n",
       " 'abnormal_lab_Protein S, Antigen',\n",
       " 'abnormal_lab_Protein S, Functional',\n",
       " 'abnormal_lab_Protein, Total',\n",
       " 'abnormal_lab_Protein/Creatinine Ratio',\n",
       " 'abnormal_lab_Quantitative G6PD',\n",
       " 'abnormal_lab_Quinidine',\n",
       " 'abnormal_lab_RBC',\n",
       " 'abnormal_lab_RBC Casts',\n",
       " 'abnormal_lab_RBC, Ascites',\n",
       " 'abnormal_lab_RBC, CSF',\n",
       " 'abnormal_lab_RBC, Joint Fluid',\n",
       " 'abnormal_lab_RBC, Other Fluid',\n",
       " 'abnormal_lab_RBC, Pleural',\n",
       " 'abnormal_lab_RDW',\n",
       " 'abnormal_lab_Rapamycin',\n",
       " 'abnormal_lab_Red Blood Cells',\n",
       " 'abnormal_lab_Reticulocyte Count, Automated',\n",
       " 'abnormal_lab_Reticulocyte Count, Manual',\n",
       " 'abnormal_lab_Rheumatoid Factor',\n",
       " 'abnormal_lab_Salicylate',\n",
       " 'abnormal_lab_Sedimentation Rate',\n",
       " 'abnormal_lab_Serum Viscosity',\n",
       " 'abnormal_lab_Sodium',\n",
       " 'abnormal_lab_Sodium, Whole Blood',\n",
       " 'abnormal_lab_Specific Gravity',\n",
       " 'abnormal_lab_Testosterone',\n",
       " 'abnormal_lab_Testosterone, Free',\n",
       " 'abnormal_lab_Theophylline',\n",
       " 'abnormal_lab_Thrombin',\n",
       " 'abnormal_lab_Thyroglobulin',\n",
       " 'abnormal_lab_Thyroid Peroxidase Antibodies',\n",
       " 'abnormal_lab_Thyroid Stimulating Hormone',\n",
       " 'abnormal_lab_Thyroxine (T4)',\n",
       " 'abnormal_lab_Thyroxine (T4), Free',\n",
       " 'abnormal_lab_Tissue Transglutaminase Ab, IgA',\n",
       " 'abnormal_lab_Tobramycin',\n",
       " 'abnormal_lab_Total Protein, CSF',\n",
       " 'abnormal_lab_Transferrin',\n",
       " 'abnormal_lab_Triglycerides',\n",
       " 'abnormal_lab_Triiodothyronine (T3)',\n",
       " 'abnormal_lab_Troponin I',\n",
       " 'abnormal_lab_Troponin T',\n",
       " 'abnormal_lab_Uptake Ratio',\n",
       " 'abnormal_lab_Urea Nitrogen',\n",
       " 'abnormal_lab_Uric Acid',\n",
       " 'abnormal_lab_Urine Casts, Other',\n",
       " 'abnormal_lab_Urobilinogen',\n",
       " 'abnormal_lab_Valproic Acid',\n",
       " 'abnormal_lab_Vancomycin',\n",
       " 'abnormal_lab_Vitamin B12',\n",
       " 'abnormal_lab_Von Willebrand Factor Activity',\n",
       " 'abnormal_lab_Von Willebrand Factor Antigen',\n",
       " 'abnormal_lab_WBC',\n",
       " 'abnormal_lab_WBC Casts',\n",
       " 'abnormal_lab_WBC Count',\n",
       " 'abnormal_lab_WBC, Ascites',\n",
       " 'abnormal_lab_WBC, Joint Fluid',\n",
       " 'abnormal_lab_WBC, Other Fluid',\n",
       " 'abnormal_lab_WBC, Pleural',\n",
       " 'abnormal_lab_Waxy Casts',\n",
       " 'abnormal_lab_White Blood Cells',\n",
       " 'abnormal_lab_Young Cells',\n",
       " 'abnormal_lab_pCO2',\n",
       " 'abnormal_lab_pH',\n",
       " 'abnormal_lab_pO2',\n",
       " 'abnormal_lab_tacroFK',\n",
       " 'Urine output_sum',\n",
       " 'is_female',\n",
       " 'insurance_Government',\n",
       " 'insurance_Medicaid',\n",
       " 'insurance_Medicare',\n",
       " 'insurance_Private',\n",
       " 'insurance_Self Pay',\n",
       " 'diag_count',\n",
       " 'ADDITIVE_drug',\n",
       " 'BASE_drug',\n",
       " 'MAIN_drug',\n",
       " 'label',\n",
       " 'Chloride_range',\n",
       " 'Creatinine_range',\n",
       " 'Diastolic blood pressure_range',\n",
       " 'Glascow coma scale eye opening_range',\n",
       " 'Glascow coma scale motor response_range',\n",
       " 'Glascow coma scale verbal response_range',\n",
       " 'Glucose_range',\n",
       " 'Heart Rate_range',\n",
       " 'Hematocrit_range',\n",
       " 'Hemoglobin_range',\n",
       " 'Mean blood pressure_range',\n",
       " 'Oxygen saturation_range',\n",
       " 'Platelets_range',\n",
       " 'Potassium_range',\n",
       " 'Red blood cell count_range',\n",
       " 'Respiratory rate_range',\n",
       " 'Sodium_range',\n",
       " 'Systolic blood pressure_range',\n",
       " 'Temperature_range',\n",
       " 'White blood cell count_range']"
      ]
     },
     "execution_count": 88,
     "metadata": {},
     "output_type": "execute_result"
    }
   ],
   "source": [
    "df_filtered_time.dtypes.index.to_list()"
   ]
  },
  {
   "cell_type": "markdown",
   "metadata": {},
   "source": [
    "# We see that the classes are extremely imbalanced. Two ways of dealing with imbalanced data"
   ]
  },
  {
   "cell_type": "markdown",
   "metadata": {},
   "source": [
    "## 1. downsample majority class"
   ]
  },
  {
   "cell_type": "code",
   "execution_count": 70,
   "metadata": {},
   "outputs": [],
   "source": [
    "from sklearn.utils import resample\n",
    "df_majority = df_filtered_time[df_filtered_time.label==0]\n",
    "df_minority = df_filtered_time[df_filtered_time.label==1]\n",
    "df_majority_downsampled = resample(df_majority, \n",
    "                                 replace=False,    # sample without replacement\n",
    "                                 n_samples=5000,     # to match minority class\n",
    "                                 random_state=123)\n",
    "df_downsampled = pd.concat([df_majority_downsampled, df_minority])\n",
    "label_downsampled = df_downsampled['label'].copy()\n",
    "df_downsampled.drop(columns=['label'], inplace=True)"
   ]
  },
  {
   "cell_type": "markdown",
   "metadata": {},
   "source": [
    "## 2. upsample minority class"
   ]
  },
  {
   "cell_type": "markdown",
   "metadata": {},
   "source": [
    "I noticed that if we upsample before train-test splitting, the same examples will show up one both sides and the model to over fit. So proper way to do this is do train test split before up sampling. Then only upsample the train set."
   ]
  },
  {
   "cell_type": "markdown",
   "metadata": {},
   "source": [
    "### Use stratified sampling"
   ]
  },
  {
   "cell_type": "code",
   "execution_count": 71,
   "metadata": {},
   "outputs": [],
   "source": [
    "from sklearn.model_selection import StratifiedShuffleSplit\n",
    "split = StratifiedShuffleSplit(n_splits=1, test_size=.25, random_state=42)\n",
    "for train_index, test_index in split.split(df_filtered_time, df_filtered_time['label']):\n",
    "    train_set = df_filtered_time.iloc[train_index, :]\n",
    "    test_set = df_filtered_time.iloc[test_index, :]\n",
    "df_majority = train_set[train_set.label==0]\n",
    "df_minority = train_set[train_set.label==1]\n",
    "df_minority_upsampled = resample(df_minority, \n",
    "                                 replace=True,     # sample with replacement\n",
    "                                 n_samples=100000,    # to match majority class\n",
    "                                 random_state=123) # reproducible results\n",
    " \n",
    "# Combine majority class with upsampled minority class\n",
    "df_upsampled_train = pd.concat([df_majority, df_minority_upsampled])\n",
    "label_upsampled_train = df_upsampled_train['label'].copy()\n",
    "df_upsampled_train.drop(columns=['label'], inplace=True)\n",
    "\n",
    "label_upsampled_test = test_set['label'].copy()\n",
    "df_upsampled_test = test_set.drop(columns=['label'])"
   ]
  },
  {
   "cell_type": "code",
   "execution_count": 73,
   "metadata": {},
   "outputs": [
    {
     "data": {
      "text/plain": [
       "0    116706\n",
       "1    100000\n",
       "Name: label, dtype: int64"
      ]
     },
     "execution_count": 73,
     "metadata": {},
     "output_type": "execute_result"
    }
   ],
   "source": [
    "label_upsampled_train.value_counts()"
   ]
  },
  {
   "cell_type": "code",
   "execution_count": 74,
   "metadata": {},
   "outputs": [
    {
     "data": {
      "text/plain": [
       "0    38902\n",
       "1     1126\n",
       "Name: label, dtype: int64"
      ]
     },
     "execution_count": 74,
     "metadata": {},
     "output_type": "execute_result"
    }
   ],
   "source": [
    "label_upsampled_test.value_counts()"
   ]
  },
  {
   "cell_type": "code",
   "execution_count": 75,
   "metadata": {},
   "outputs": [],
   "source": [
    "label_og = df_filtered_time['label'].copy()\n",
    "df_og = df_filtered_time.drop(columns=['label'])"
   ]
  },
  {
   "cell_type": "markdown",
   "metadata": {},
   "source": [
    "# Now we are ready to screen some hyperparameters\n",
    "### Define methods for removing certain features"
   ]
  },
  {
   "cell_type": "code",
   "execution_count": 135,
   "metadata": {},
   "outputs": [],
   "source": [
    "from sklearn.preprocessing import FunctionTransformer\n",
    "abnormal_cols = df_downsampled.columns[df_downsampled.columns.str.startswith('abnormal')]\n",
    "abnormal_ix = [\n",
    "    list(df_downsampled.columns).index(col)\n",
    "    for col in abnormal_cols]\n",
    "urine_ix = list(df_downsampled.columns).index('Urine output_sum')\n",
    "range_cols = df_downsampled.columns[df_downsampled.columns.str.contains('range')]\n",
    "range_ix = [\n",
    "    list(df_downsampled.columns).index(col)\n",
    "    for col in range_cols]\n",
    "def range_remover(X, remove_range=False):\n",
    "    if remove_range:\n",
    "        X = np.delete(X, range_ix, axis=1)\n",
    "    return X\n",
    "def urine_remover(X, remove_urine=False):\n",
    "    if remove_urine:\n",
    "        X = np.delete(X, urine_ix, axis=1)\n",
    "    return X\n",
    "def abnormal_lab_sum(X, sum_abnormal_lab=True):\n",
    "    if sum_abnormal_lab:\n",
    "        abnormal_labs = X[:, abnormal_ix]\n",
    "        sum_abnormal = np.sum(abnormal_labs, axis=1)\n",
    "        X = np.c_[X, sum_abnormal]\n",
    "    return X\n",
    "def remove_abnormal(X, remove_abnormal_lab=False):\n",
    "    if remove_abnormal_lab:\n",
    "        X = np.delete(X, abnormal_ix, axis=1)\n",
    "    return X"
   ]
  },
  {
   "cell_type": "code",
   "execution_count": 136,
   "metadata": {},
   "outputs": [],
   "source": [
    "from sklearn.base import BaseEstimator, TransformerMixin\n",
    "class Percent_na_remover(BaseEstimator, TransformerMixin):\n",
    "    def __init__(self, percent_na=.45):\n",
    "        self.percent_na = percent_na\n",
    "    def fit(self, X, y=None):\n",
    "        return self\n",
    "    def transform(self, X, y=None):\n",
    "        nanvals = np.isnan(X)\n",
    "        nans_per_col = np.count_nonzero(nanvals, axis=0)\n",
    "        ix_to_remove = []\n",
    "        for ix, num_nans in enumerate(nans_per_col):\n",
    "            if (num_nans / X.shape[0]) > self.percent_na:\n",
    "                ix_to_remove.append(ix)\n",
    "        X = np.delete(X, ix_to_remove, axis=1)\n",
    "        return X"
   ]
  },
  {
   "cell_type": "markdown",
   "metadata": {},
   "source": [
    "### Construct pipeline for prepping data"
   ]
  },
  {
   "cell_type": "code",
   "execution_count": 171,
   "metadata": {},
   "outputs": [],
   "source": [
    "from sklearn.pipeline import Pipeline\n",
    "from sklearn.preprocessing import StandardScaler\n",
    "from sklearn.impute import SimpleImputer\n",
    "prep_pipeline = Pipeline([\n",
    "    ('range_remove', FunctionTransformer(range_remover, validate=False,\n",
    "                                         kw_args={'remove_range': False})),\n",
    "    ('urine_remove', FunctionTransformer(urine_remover, validate=False, \n",
    "                                         kw_args={'remove_urine': False})),\n",
    "    ('abnormal_sum', FunctionTransformer(abnormal_lab_sum, validate=False, \n",
    "                                         kw_args={'sum_abnormal_lab': True})),\n",
    "    ('remove_abnormal_labs', FunctionTransformer(remove_abnormal, validate=False, \n",
    "                                         kw_args={'remove_abnormal_lab': False})),\n",
    "    ('remove_na_percent', Percent_na_remover()),\n",
    "    ('imputer', SimpleImputer(strategy='median')),\n",
    "    ('std_scalar', StandardScaler())\n",
    "])"
   ]
  },
  {
   "cell_type": "markdown",
   "metadata": {},
   "source": [
    "### To screen hyperparameters, we want one pipeline to feed into gridsearchCV"
   ]
  },
  {
   "cell_type": "code",
   "execution_count": 138,
   "metadata": {},
   "outputs": [],
   "source": [
    "from sklearn.ensemble import RandomForestClassifier\n",
    "prep_and_predict = Pipeline([\n",
    "    ('prep', prep_pipeline),\n",
    "    ('rnd', RandomForestClassifier(n_estimators=10, n_jobs=-1))\n",
    "])"
   ]
  },
  {
   "cell_type": "code",
   "execution_count": 139,
   "metadata": {},
   "outputs": [],
   "source": [
    "from sklearn.model_selection import StratifiedKFold\n",
    "skf = StratifiedKFold(n_splits=3, shuffle=True, random_state=42)"
   ]
  },
  {
   "cell_type": "markdown",
   "metadata": {},
   "source": [
    "### parameter grid can be adjusted freely here"
   ]
  },
  {
   "cell_type": "code",
   "execution_count": 152,
   "metadata": {},
   "outputs": [],
   "source": [
    "from sklearn.model_selection import GridSearchCV, RandomizedSearchCV\n",
    "param_grid = [{\n",
    "    'prep__range_remove__kw_args': [{'remove_range': False}, {\"remove_range\": True}],\n",
    "    'prep__urine_remove__kw_args': [{\"remove_urine\": True}],\n",
    "    'prep__abnormal_sum__kw_args': [{\"sum_abnormal_lab\": True}],\n",
    "    'prep__remove_abnormal_labs__kw_args': [{'remove_abnormal_lab': False}],\n",
    "    'prep__remove_na_percent__percent_na': np.linspace(.3, .5, 20)\n",
    "}]\n",
    "grid_search = GridSearchCV(prep_and_predict, param_grid, cv=skf, n_jobs=-1, verbose=1, scoring='f1')"
   ]
  },
  {
   "cell_type": "markdown",
   "metadata": {},
   "source": [
    "### Tune hyperparameter with downsampled data to save time"
   ]
  },
  {
   "cell_type": "code",
   "execution_count": 153,
   "metadata": {},
   "outputs": [
    {
     "name": "stdout",
     "output_type": "stream",
     "text": [
      "Fitting 3 folds for each of 40 candidates, totalling 120 fits\n"
     ]
    },
    {
     "name": "stderr",
     "output_type": "stream",
     "text": [
      "[Parallel(n_jobs=-1)]: Using backend LokyBackend with 8 concurrent workers.\n",
      "[Parallel(n_jobs=-1)]: Done  34 tasks      | elapsed:    7.5s\n",
      "[Parallel(n_jobs=-1)]: Done 120 out of 120 | elapsed:   23.4s finished\n"
     ]
    },
    {
     "data": {
      "text/plain": [
       "GridSearchCV(cv=StratifiedKFold(n_splits=3, random_state=42, shuffle=True),\n",
       "       error_score='raise-deprecating',\n",
       "       estimator=Pipeline(memory=None,\n",
       "     steps=[('prep', Pipeline(memory=None,\n",
       "     steps=[('range_remove', FunctionTransformer(accept_sparse=False, check_inverse=True,\n",
       "          func=<function range_remover at 0x1a35ccd2f0>, inv_kw_args=None,\n",
       "          inverse_func=None, kw_args={'remove_range': True},\n",
       "          pass_y='deprecated', valid..._jobs=-1,\n",
       "            oob_score=False, random_state=None, verbose=0,\n",
       "            warm_start=False))]),\n",
       "       fit_params=None, iid='warn', n_jobs=-1,\n",
       "       param_grid=[{'prep__range_remove__kw_args': [{'remove_range': False}, {'remove_range': True}], 'prep__urine_remove__kw_args': [{'remove_urine': True}], 'prep__abnormal_sum__kw_args': [{'sum_abnormal_lab': True}], 'prep__remove_abnormal_labs__kw_args': [{'remove_abnormal_lab': False}], 'prep__remove_... 0.40526, 0.41579, 0.42632, 0.43684,\n",
       "       0.44737, 0.45789, 0.46842, 0.47895, 0.48947, 0.5    ])}],\n",
       "       pre_dispatch='2*n_jobs', refit=True, return_train_score='warn',\n",
       "       scoring='f1', verbose=1)"
      ]
     },
     "execution_count": 153,
     "metadata": {},
     "output_type": "execute_result"
    }
   ],
   "source": [
    "grid_search.fit(df_downsampled.values, label_downsampled.values)"
   ]
  },
  {
   "cell_type": "markdown",
   "metadata": {},
   "source": [
    "### After hyperparameter tuning, extract optimal model\n",
    "\n",
    "We need to resplit data for final fitting\n",
    "\n",
    "### Only run one of the 3 cells below"
   ]
  },
  {
   "cell_type": "code",
   "execution_count": 154,
   "metadata": {},
   "outputs": [
    {
     "data": {
      "text/plain": [
       "{'prep__abnormal_sum__kw_args': {'sum_abnormal_lab': True},\n",
       " 'prep__range_remove__kw_args': {'remove_range': True},\n",
       " 'prep__remove_abnormal_labs__kw_args': {'remove_abnormal_lab': False},\n",
       " 'prep__remove_na_percent__percent_na': 0.34210526315789475,\n",
       " 'prep__urine_remove__kw_args': {'remove_urine': True}}"
      ]
     },
     "execution_count": 154,
     "metadata": {},
     "output_type": "execute_result"
    }
   ],
   "source": [
    "f1_best_param_downsample = grid_search.best_params_\n",
    "f1_best_param_downsample"
   ]
  },
  {
   "cell_type": "code",
   "execution_count": null,
   "metadata": {},
   "outputs": [],
   "source": []
  },
  {
   "cell_type": "code",
   "execution_count": 155,
   "metadata": {},
   "outputs": [
    {
     "name": "stderr",
     "output_type": "stream",
     "text": [
      "/Users/chriszhou/anaconda/envs/py37/lib/python3.7/site-packages/sklearn/utils/deprecation.py:125: FutureWarning: You are accessing a training score ('split0_train_score'), which will not be available by default any more in 0.21. If you need training scores, please set return_train_score=True\n",
      "  warnings.warn(*warn_args, **warn_kwargs)\n",
      "/Users/chriszhou/anaconda/envs/py37/lib/python3.7/site-packages/sklearn/utils/deprecation.py:125: FutureWarning: You are accessing a training score ('split1_train_score'), which will not be available by default any more in 0.21. If you need training scores, please set return_train_score=True\n",
      "  warnings.warn(*warn_args, **warn_kwargs)\n",
      "/Users/chriszhou/anaconda/envs/py37/lib/python3.7/site-packages/sklearn/utils/deprecation.py:125: FutureWarning: You are accessing a training score ('split2_train_score'), which will not be available by default any more in 0.21. If you need training scores, please set return_train_score=True\n",
      "  warnings.warn(*warn_args, **warn_kwargs)\n",
      "/Users/chriszhou/anaconda/envs/py37/lib/python3.7/site-packages/sklearn/utils/deprecation.py:125: FutureWarning: You are accessing a training score ('mean_train_score'), which will not be available by default any more in 0.21. If you need training scores, please set return_train_score=True\n",
      "  warnings.warn(*warn_args, **warn_kwargs)\n",
      "/Users/chriszhou/anaconda/envs/py37/lib/python3.7/site-packages/sklearn/utils/deprecation.py:125: FutureWarning: You are accessing a training score ('std_train_score'), which will not be available by default any more in 0.21. If you need training scores, please set return_train_score=True\n",
      "  warnings.warn(*warn_args, **warn_kwargs)\n"
     ]
    },
    {
     "data": {
      "text/html": [
       "<div>\n",
       "<style scoped>\n",
       "    .dataframe tbody tr th:only-of-type {\n",
       "        vertical-align: middle;\n",
       "    }\n",
       "\n",
       "    .dataframe tbody tr th {\n",
       "        vertical-align: top;\n",
       "    }\n",
       "\n",
       "    .dataframe thead th {\n",
       "        text-align: right;\n",
       "    }\n",
       "</style>\n",
       "<table border=\"1\" class=\"dataframe\">\n",
       "  <thead>\n",
       "    <tr style=\"text-align: right;\">\n",
       "      <th></th>\n",
       "      <th>mean_fit_time</th>\n",
       "      <th>std_fit_time</th>\n",
       "      <th>mean_score_time</th>\n",
       "      <th>std_score_time</th>\n",
       "      <th>param_prep__abnormal_sum__kw_args</th>\n",
       "      <th>param_prep__range_remove__kw_args</th>\n",
       "      <th>param_prep__remove_abnormal_labs__kw_args</th>\n",
       "      <th>param_prep__remove_na_percent__percent_na</th>\n",
       "      <th>param_prep__urine_remove__kw_args</th>\n",
       "      <th>params</th>\n",
       "      <th>...</th>\n",
       "      <th>split1_test_score</th>\n",
       "      <th>split2_test_score</th>\n",
       "      <th>mean_test_score</th>\n",
       "      <th>std_test_score</th>\n",
       "      <th>rank_test_score</th>\n",
       "      <th>split0_train_score</th>\n",
       "      <th>split1_train_score</th>\n",
       "      <th>split2_train_score</th>\n",
       "      <th>mean_train_score</th>\n",
       "      <th>std_train_score</th>\n",
       "    </tr>\n",
       "  </thead>\n",
       "  <tbody>\n",
       "    <tr>\n",
       "      <th>0</th>\n",
       "      <td>1.137500</td>\n",
       "      <td>0.006321</td>\n",
       "      <td>0.212318</td>\n",
       "      <td>0.006550</td>\n",
       "      <td>{'sum_abnormal_lab': True}</td>\n",
       "      <td>{'remove_range': False}</td>\n",
       "      <td>{'remove_abnormal_lab': False}</td>\n",
       "      <td>0.3</td>\n",
       "      <td>{'remove_urine': True}</td>\n",
       "      <td>{'prep__abnormal_sum__kw_args': {'sum_abnormal...</td>\n",
       "      <td>...</td>\n",
       "      <td>0.744410</td>\n",
       "      <td>0.741416</td>\n",
       "      <td>0.746562</td>\n",
       "      <td>0.005302</td>\n",
       "      <td>29</td>\n",
       "      <td>0.985361</td>\n",
       "      <td>0.988926</td>\n",
       "      <td>0.988440</td>\n",
       "      <td>0.987576</td>\n",
       "      <td>0.001579</td>\n",
       "    </tr>\n",
       "    <tr>\n",
       "      <th>1</th>\n",
       "      <td>1.171294</td>\n",
       "      <td>0.037142</td>\n",
       "      <td>0.181917</td>\n",
       "      <td>0.022383</td>\n",
       "      <td>{'sum_abnormal_lab': True}</td>\n",
       "      <td>{'remove_range': False}</td>\n",
       "      <td>{'remove_abnormal_lab': False}</td>\n",
       "      <td>0.310526</td>\n",
       "      <td>{'remove_urine': True}</td>\n",
       "      <td>{'prep__abnormal_sum__kw_args': {'sum_abnormal...</td>\n",
       "      <td>...</td>\n",
       "      <td>0.751393</td>\n",
       "      <td>0.751223</td>\n",
       "      <td>0.751255</td>\n",
       "      <td>0.000102</td>\n",
       "      <td>4</td>\n",
       "      <td>0.988926</td>\n",
       "      <td>0.987244</td>\n",
       "      <td>0.988271</td>\n",
       "      <td>0.988147</td>\n",
       "      <td>0.000692</td>\n",
       "    </tr>\n",
       "    <tr>\n",
       "      <th>2</th>\n",
       "      <td>1.070460</td>\n",
       "      <td>0.131942</td>\n",
       "      <td>0.215773</td>\n",
       "      <td>0.067600</td>\n",
       "      <td>{'sum_abnormal_lab': True}</td>\n",
       "      <td>{'remove_range': False}</td>\n",
       "      <td>{'remove_abnormal_lab': False}</td>\n",
       "      <td>0.321053</td>\n",
       "      <td>{'remove_urine': True}</td>\n",
       "      <td>{'prep__abnormal_sum__kw_args': {'sum_abnormal...</td>\n",
       "      <td>...</td>\n",
       "      <td>0.756625</td>\n",
       "      <td>0.744779</td>\n",
       "      <td>0.750966</td>\n",
       "      <td>0.004850</td>\n",
       "      <td>6</td>\n",
       "      <td>0.989767</td>\n",
       "      <td>0.987733</td>\n",
       "      <td>0.988930</td>\n",
       "      <td>0.988810</td>\n",
       "      <td>0.000835</td>\n",
       "    </tr>\n",
       "    <tr>\n",
       "      <th>3</th>\n",
       "      <td>1.018620</td>\n",
       "      <td>0.040075</td>\n",
       "      <td>0.231353</td>\n",
       "      <td>0.027403</td>\n",
       "      <td>{'sum_abnormal_lab': True}</td>\n",
       "      <td>{'remove_range': False}</td>\n",
       "      <td>{'remove_abnormal_lab': False}</td>\n",
       "      <td>0.331579</td>\n",
       "      <td>{'remove_urine': True}</td>\n",
       "      <td>{'prep__abnormal_sum__kw_args': {'sum_abnormal...</td>\n",
       "      <td>...</td>\n",
       "      <td>0.748166</td>\n",
       "      <td>0.744891</td>\n",
       "      <td>0.746565</td>\n",
       "      <td>0.001338</td>\n",
       "      <td>27</td>\n",
       "      <td>0.987410</td>\n",
       "      <td>0.986900</td>\n",
       "      <td>0.987248</td>\n",
       "      <td>0.987186</td>\n",
       "      <td>0.000213</td>\n",
       "    </tr>\n",
       "    <tr>\n",
       "      <th>4</th>\n",
       "      <td>1.087943</td>\n",
       "      <td>0.034242</td>\n",
       "      <td>0.181465</td>\n",
       "      <td>0.017718</td>\n",
       "      <td>{'sum_abnormal_lab': True}</td>\n",
       "      <td>{'remove_range': False}</td>\n",
       "      <td>{'remove_abnormal_lab': False}</td>\n",
       "      <td>0.342105</td>\n",
       "      <td>{'remove_urine': True}</td>\n",
       "      <td>{'prep__abnormal_sum__kw_args': {'sum_abnormal...</td>\n",
       "      <td>...</td>\n",
       "      <td>0.742261</td>\n",
       "      <td>0.752358</td>\n",
       "      <td>0.750490</td>\n",
       "      <td>0.006102</td>\n",
       "      <td>9</td>\n",
       "      <td>0.984864</td>\n",
       "      <td>0.987915</td>\n",
       "      <td>0.988779</td>\n",
       "      <td>0.987186</td>\n",
       "      <td>0.001680</td>\n",
       "    </tr>\n",
       "    <tr>\n",
       "      <th>5</th>\n",
       "      <td>0.955434</td>\n",
       "      <td>0.125532</td>\n",
       "      <td>0.217165</td>\n",
       "      <td>0.044865</td>\n",
       "      <td>{'sum_abnormal_lab': True}</td>\n",
       "      <td>{'remove_range': False}</td>\n",
       "      <td>{'remove_abnormal_lab': False}</td>\n",
       "      <td>0.352632</td>\n",
       "      <td>{'remove_urine': True}</td>\n",
       "      <td>{'prep__abnormal_sum__kw_args': {'sum_abnormal...</td>\n",
       "      <td>...</td>\n",
       "      <td>0.746425</td>\n",
       "      <td>0.742085</td>\n",
       "      <td>0.740943</td>\n",
       "      <td>0.005008</td>\n",
       "      <td>36</td>\n",
       "      <td>0.986891</td>\n",
       "      <td>0.988598</td>\n",
       "      <td>0.987567</td>\n",
       "      <td>0.987685</td>\n",
       "      <td>0.000702</td>\n",
       "    </tr>\n",
       "    <tr>\n",
       "      <th>6</th>\n",
       "      <td>0.982911</td>\n",
       "      <td>0.098988</td>\n",
       "      <td>0.249139</td>\n",
       "      <td>0.053878</td>\n",
       "      <td>{'sum_abnormal_lab': True}</td>\n",
       "      <td>{'remove_range': False}</td>\n",
       "      <td>{'remove_abnormal_lab': False}</td>\n",
       "      <td>0.363158</td>\n",
       "      <td>{'remove_urine': True}</td>\n",
       "      <td>{'prep__abnormal_sum__kw_args': {'sum_abnormal...</td>\n",
       "      <td>...</td>\n",
       "      <td>0.738227</td>\n",
       "      <td>0.733498</td>\n",
       "      <td>0.737963</td>\n",
       "      <td>0.003541</td>\n",
       "      <td>40</td>\n",
       "      <td>0.987576</td>\n",
       "      <td>0.987588</td>\n",
       "      <td>0.986886</td>\n",
       "      <td>0.987350</td>\n",
       "      <td>0.000328</td>\n",
       "    </tr>\n",
       "    <tr>\n",
       "      <th>7</th>\n",
       "      <td>1.118513</td>\n",
       "      <td>0.042608</td>\n",
       "      <td>0.180901</td>\n",
       "      <td>0.002954</td>\n",
       "      <td>{'sum_abnormal_lab': True}</td>\n",
       "      <td>{'remove_range': False}</td>\n",
       "      <td>{'remove_abnormal_lab': False}</td>\n",
       "      <td>0.373684</td>\n",
       "      <td>{'remove_urine': True}</td>\n",
       "      <td>{'prep__abnormal_sum__kw_args': {'sum_abnormal...</td>\n",
       "      <td>...</td>\n",
       "      <td>0.757000</td>\n",
       "      <td>0.734579</td>\n",
       "      <td>0.748410</td>\n",
       "      <td>0.009873</td>\n",
       "      <td>19</td>\n",
       "      <td>0.988575</td>\n",
       "      <td>0.987218</td>\n",
       "      <td>0.988753</td>\n",
       "      <td>0.988182</td>\n",
       "      <td>0.000685</td>\n",
       "    </tr>\n",
       "    <tr>\n",
       "      <th>8</th>\n",
       "      <td>0.835873</td>\n",
       "      <td>0.056908</td>\n",
       "      <td>0.215020</td>\n",
       "      <td>0.015352</td>\n",
       "      <td>{'sum_abnormal_lab': True}</td>\n",
       "      <td>{'remove_range': False}</td>\n",
       "      <td>{'remove_abnormal_lab': False}</td>\n",
       "      <td>0.384211</td>\n",
       "      <td>{'remove_urine': True}</td>\n",
       "      <td>{'prep__abnormal_sum__kw_args': {'sum_abnormal...</td>\n",
       "      <td>...</td>\n",
       "      <td>0.757054</td>\n",
       "      <td>0.747090</td>\n",
       "      <td>0.753497</td>\n",
       "      <td>0.004539</td>\n",
       "      <td>2</td>\n",
       "      <td>0.985400</td>\n",
       "      <td>0.987915</td>\n",
       "      <td>0.990776</td>\n",
       "      <td>0.988031</td>\n",
       "      <td>0.002196</td>\n",
       "    </tr>\n",
       "    <tr>\n",
       "      <th>9</th>\n",
       "      <td>1.003268</td>\n",
       "      <td>0.093463</td>\n",
       "      <td>0.209023</td>\n",
       "      <td>0.034101</td>\n",
       "      <td>{'sum_abnormal_lab': True}</td>\n",
       "      <td>{'remove_range': False}</td>\n",
       "      <td>{'remove_abnormal_lab': False}</td>\n",
       "      <td>0.394737</td>\n",
       "      <td>{'remove_urine': True}</td>\n",
       "      <td>{'prep__abnormal_sum__kw_args': {'sum_abnormal...</td>\n",
       "      <td>...</td>\n",
       "      <td>0.748782</td>\n",
       "      <td>0.738745</td>\n",
       "      <td>0.747072</td>\n",
       "      <td>0.006217</td>\n",
       "      <td>24</td>\n",
       "      <td>0.987074</td>\n",
       "      <td>0.987899</td>\n",
       "      <td>0.988919</td>\n",
       "      <td>0.987964</td>\n",
       "      <td>0.000754</td>\n",
       "    </tr>\n",
       "    <tr>\n",
       "      <th>10</th>\n",
       "      <td>0.993453</td>\n",
       "      <td>0.179280</td>\n",
       "      <td>0.175423</td>\n",
       "      <td>0.019674</td>\n",
       "      <td>{'sum_abnormal_lab': True}</td>\n",
       "      <td>{'remove_range': False}</td>\n",
       "      <td>{'remove_abnormal_lab': False}</td>\n",
       "      <td>0.405263</td>\n",
       "      <td>{'remove_urine': True}</td>\n",
       "      <td>{'prep__abnormal_sum__kw_args': {'sum_abnormal...</td>\n",
       "      <td>...</td>\n",
       "      <td>0.754470</td>\n",
       "      <td>0.737664</td>\n",
       "      <td>0.749988</td>\n",
       "      <td>0.008818</td>\n",
       "      <td>13</td>\n",
       "      <td>0.989431</td>\n",
       "      <td>0.990946</td>\n",
       "      <td>0.987052</td>\n",
       "      <td>0.989143</td>\n",
       "      <td>0.001602</td>\n",
       "    </tr>\n",
       "    <tr>\n",
       "      <th>11</th>\n",
       "      <td>0.866524</td>\n",
       "      <td>0.044931</td>\n",
       "      <td>0.196530</td>\n",
       "      <td>0.023065</td>\n",
       "      <td>{'sum_abnormal_lab': True}</td>\n",
       "      <td>{'remove_range': False}</td>\n",
       "      <td>{'remove_abnormal_lab': False}</td>\n",
       "      <td>0.415789</td>\n",
       "      <td>{'remove_urine': True}</td>\n",
       "      <td>{'prep__abnormal_sum__kw_args': {'sum_abnormal...</td>\n",
       "      <td>...</td>\n",
       "      <td>0.746844</td>\n",
       "      <td>0.747453</td>\n",
       "      <td>0.745543</td>\n",
       "      <td>0.002284</td>\n",
       "      <td>31</td>\n",
       "      <td>0.987427</td>\n",
       "      <td>0.985849</td>\n",
       "      <td>0.988085</td>\n",
       "      <td>0.987120</td>\n",
       "      <td>0.000938</td>\n",
       "    </tr>\n",
       "    <tr>\n",
       "      <th>12</th>\n",
       "      <td>1.037445</td>\n",
       "      <td>0.101139</td>\n",
       "      <td>0.223435</td>\n",
       "      <td>0.079887</td>\n",
       "      <td>{'sum_abnormal_lab': True}</td>\n",
       "      <td>{'remove_range': False}</td>\n",
       "      <td>{'remove_abnormal_lab': False}</td>\n",
       "      <td>0.426316</td>\n",
       "      <td>{'remove_urine': True}</td>\n",
       "      <td>{'prep__abnormal_sum__kw_args': {'sum_abnormal...</td>\n",
       "      <td>...</td>\n",
       "      <td>0.744962</td>\n",
       "      <td>0.737249</td>\n",
       "      <td>0.747051</td>\n",
       "      <td>0.008975</td>\n",
       "      <td>25</td>\n",
       "      <td>0.990949</td>\n",
       "      <td>0.987270</td>\n",
       "      <td>0.989943</td>\n",
       "      <td>0.989387</td>\n",
       "      <td>0.001553</td>\n",
       "    </tr>\n",
       "    <tr>\n",
       "      <th>13</th>\n",
       "      <td>0.970351</td>\n",
       "      <td>0.091700</td>\n",
       "      <td>0.210995</td>\n",
       "      <td>0.014818</td>\n",
       "      <td>{'sum_abnormal_lab': True}</td>\n",
       "      <td>{'remove_range': False}</td>\n",
       "      <td>{'remove_abnormal_lab': False}</td>\n",
       "      <td>0.436842</td>\n",
       "      <td>{'remove_urine': True}</td>\n",
       "      <td>{'prep__abnormal_sum__kw_args': {'sum_abnormal...</td>\n",
       "      <td>...</td>\n",
       "      <td>0.757113</td>\n",
       "      <td>0.740431</td>\n",
       "      <td>0.749477</td>\n",
       "      <td>0.006882</td>\n",
       "      <td>15</td>\n",
       "      <td>0.984212</td>\n",
       "      <td>0.986407</td>\n",
       "      <td>0.988263</td>\n",
       "      <td>0.986294</td>\n",
       "      <td>0.001656</td>\n",
       "    </tr>\n",
       "    <tr>\n",
       "      <th>14</th>\n",
       "      <td>0.877795</td>\n",
       "      <td>0.051537</td>\n",
       "      <td>0.185606</td>\n",
       "      <td>0.021407</td>\n",
       "      <td>{'sum_abnormal_lab': True}</td>\n",
       "      <td>{'remove_range': False}</td>\n",
       "      <td>{'remove_abnormal_lab': False}</td>\n",
       "      <td>0.447368</td>\n",
       "      <td>{'remove_urine': True}</td>\n",
       "      <td>{'prep__abnormal_sum__kw_args': {'sum_abnormal...</td>\n",
       "      <td>...</td>\n",
       "      <td>0.753292</td>\n",
       "      <td>0.733661</td>\n",
       "      <td>0.740247</td>\n",
       "      <td>0.009226</td>\n",
       "      <td>39</td>\n",
       "      <td>0.988602</td>\n",
       "      <td>0.987406</td>\n",
       "      <td>0.988960</td>\n",
       "      <td>0.988322</td>\n",
       "      <td>0.000665</td>\n",
       "    </tr>\n",
       "    <tr>\n",
       "      <th>15</th>\n",
       "      <td>1.027313</td>\n",
       "      <td>0.039946</td>\n",
       "      <td>0.183745</td>\n",
       "      <td>0.033445</td>\n",
       "      <td>{'sum_abnormal_lab': True}</td>\n",
       "      <td>{'remove_range': False}</td>\n",
       "      <td>{'remove_abnormal_lab': False}</td>\n",
       "      <td>0.457895</td>\n",
       "      <td>{'remove_urine': True}</td>\n",
       "      <td>{'prep__abnormal_sum__kw_args': {'sum_abnormal...</td>\n",
       "      <td>...</td>\n",
       "      <td>0.761348</td>\n",
       "      <td>0.737960</td>\n",
       "      <td>0.752291</td>\n",
       "      <td>0.010248</td>\n",
       "      <td>3</td>\n",
       "      <td>0.988606</td>\n",
       "      <td>0.987911</td>\n",
       "      <td>0.987741</td>\n",
       "      <td>0.988086</td>\n",
       "      <td>0.000374</td>\n",
       "    </tr>\n",
       "    <tr>\n",
       "      <th>16</th>\n",
       "      <td>0.922460</td>\n",
       "      <td>0.022576</td>\n",
       "      <td>0.193241</td>\n",
       "      <td>0.013317</td>\n",
       "      <td>{'sum_abnormal_lab': True}</td>\n",
       "      <td>{'remove_range': False}</td>\n",
       "      <td>{'remove_abnormal_lab': False}</td>\n",
       "      <td>0.468421</td>\n",
       "      <td>{'remove_urine': True}</td>\n",
       "      <td>{'prep__abnormal_sum__kw_args': {'sum_abnormal...</td>\n",
       "      <td>...</td>\n",
       "      <td>0.762301</td>\n",
       "      <td>0.735802</td>\n",
       "      <td>0.749108</td>\n",
       "      <td>0.010818</td>\n",
       "      <td>16</td>\n",
       "      <td>0.990428</td>\n",
       "      <td>0.987924</td>\n",
       "      <td>0.988259</td>\n",
       "      <td>0.988870</td>\n",
       "      <td>0.001110</td>\n",
       "    </tr>\n",
       "    <tr>\n",
       "      <th>17</th>\n",
       "      <td>0.971300</td>\n",
       "      <td>0.030895</td>\n",
       "      <td>0.198691</td>\n",
       "      <td>0.035119</td>\n",
       "      <td>{'sum_abnormal_lab': True}</td>\n",
       "      <td>{'remove_range': False}</td>\n",
       "      <td>{'remove_abnormal_lab': False}</td>\n",
       "      <td>0.478947</td>\n",
       "      <td>{'remove_urine': True}</td>\n",
       "      <td>{'prep__abnormal_sum__kw_args': {'sum_abnormal...</td>\n",
       "      <td>...</td>\n",
       "      <td>0.742182</td>\n",
       "      <td>0.753949</td>\n",
       "      <td>0.748504</td>\n",
       "      <td>0.004844</td>\n",
       "      <td>18</td>\n",
       "      <td>0.988065</td>\n",
       "      <td>0.989946</td>\n",
       "      <td>0.988937</td>\n",
       "      <td>0.988983</td>\n",
       "      <td>0.000769</td>\n",
       "    </tr>\n",
       "    <tr>\n",
       "      <th>18</th>\n",
       "      <td>1.085338</td>\n",
       "      <td>0.031187</td>\n",
       "      <td>0.178846</td>\n",
       "      <td>0.008563</td>\n",
       "      <td>{'sum_abnormal_lab': True}</td>\n",
       "      <td>{'remove_range': False}</td>\n",
       "      <td>{'remove_abnormal_lab': False}</td>\n",
       "      <td>0.489474</td>\n",
       "      <td>{'remove_urine': True}</td>\n",
       "      <td>{'prep__abnormal_sum__kw_args': {'sum_abnormal...</td>\n",
       "      <td>...</td>\n",
       "      <td>0.748166</td>\n",
       "      <td>0.741947</td>\n",
       "      <td>0.744974</td>\n",
       "      <td>0.002542</td>\n",
       "      <td>33</td>\n",
       "      <td>0.988085</td>\n",
       "      <td>0.989092</td>\n",
       "      <td>0.986389</td>\n",
       "      <td>0.987855</td>\n",
       "      <td>0.001116</td>\n",
       "    </tr>\n",
       "    <tr>\n",
       "      <th>19</th>\n",
       "      <td>1.032470</td>\n",
       "      <td>0.071796</td>\n",
       "      <td>0.190679</td>\n",
       "      <td>0.000401</td>\n",
       "      <td>{'sum_abnormal_lab': True}</td>\n",
       "      <td>{'remove_range': False}</td>\n",
       "      <td>{'remove_abnormal_lab': False}</td>\n",
       "      <td>0.5</td>\n",
       "      <td>{'remove_urine': True}</td>\n",
       "      <td>{'prep__abnormal_sum__kw_args': {'sum_abnormal...</td>\n",
       "      <td>...</td>\n",
       "      <td>0.752454</td>\n",
       "      <td>0.732722</td>\n",
       "      <td>0.743112</td>\n",
       "      <td>0.008089</td>\n",
       "      <td>35</td>\n",
       "      <td>0.985356</td>\n",
       "      <td>0.986716</td>\n",
       "      <td>0.987592</td>\n",
       "      <td>0.986555</td>\n",
       "      <td>0.000920</td>\n",
       "    </tr>\n",
       "    <tr>\n",
       "      <th>20</th>\n",
       "      <td>0.969510</td>\n",
       "      <td>0.053799</td>\n",
       "      <td>0.188795</td>\n",
       "      <td>0.025979</td>\n",
       "      <td>{'sum_abnormal_lab': True}</td>\n",
       "      <td>{'remove_range': True}</td>\n",
       "      <td>{'remove_abnormal_lab': False}</td>\n",
       "      <td>0.3</td>\n",
       "      <td>{'remove_urine': True}</td>\n",
       "      <td>{'prep__abnormal_sum__kw_args': {'sum_abnormal...</td>\n",
       "      <td>...</td>\n",
       "      <td>0.741731</td>\n",
       "      <td>0.746676</td>\n",
       "      <td>0.747510</td>\n",
       "      <td>0.005093</td>\n",
       "      <td>22</td>\n",
       "      <td>0.985376</td>\n",
       "      <td>0.986716</td>\n",
       "      <td>0.989615</td>\n",
       "      <td>0.987235</td>\n",
       "      <td>0.001769</td>\n",
       "    </tr>\n",
       "    <tr>\n",
       "      <th>21</th>\n",
       "      <td>1.014927</td>\n",
       "      <td>0.044642</td>\n",
       "      <td>0.171047</td>\n",
       "      <td>0.011692</td>\n",
       "      <td>{'sum_abnormal_lab': True}</td>\n",
       "      <td>{'remove_range': True}</td>\n",
       "      <td>{'remove_abnormal_lab': False}</td>\n",
       "      <td>0.310526</td>\n",
       "      <td>{'remove_urine': True}</td>\n",
       "      <td>{'prep__abnormal_sum__kw_args': {'sum_abnormal...</td>\n",
       "      <td>...</td>\n",
       "      <td>0.753543</td>\n",
       "      <td>0.733990</td>\n",
       "      <td>0.749771</td>\n",
       "      <td>0.011650</td>\n",
       "      <td>14</td>\n",
       "      <td>0.990096</td>\n",
       "      <td>0.988583</td>\n",
       "      <td>0.986205</td>\n",
       "      <td>0.988294</td>\n",
       "      <td>0.001602</td>\n",
       "    </tr>\n",
       "    <tr>\n",
       "      <th>22</th>\n",
       "      <td>0.962957</td>\n",
       "      <td>0.000928</td>\n",
       "      <td>0.178425</td>\n",
       "      <td>0.006085</td>\n",
       "      <td>{'sum_abnormal_lab': True}</td>\n",
       "      <td>{'remove_range': True}</td>\n",
       "      <td>{'remove_abnormal_lab': False}</td>\n",
       "      <td>0.321053</td>\n",
       "      <td>{'remove_urine': True}</td>\n",
       "      <td>{'prep__abnormal_sum__kw_args': {'sum_abnormal...</td>\n",
       "      <td>...</td>\n",
       "      <td>0.753382</td>\n",
       "      <td>0.735616</td>\n",
       "      <td>0.748010</td>\n",
       "      <td>0.008786</td>\n",
       "      <td>20</td>\n",
       "      <td>0.989590</td>\n",
       "      <td>0.985371</td>\n",
       "      <td>0.989781</td>\n",
       "      <td>0.988247</td>\n",
       "      <td>0.002035</td>\n",
       "    </tr>\n",
       "    <tr>\n",
       "      <th>23</th>\n",
       "      <td>0.942321</td>\n",
       "      <td>0.019179</td>\n",
       "      <td>0.171125</td>\n",
       "      <td>0.007428</td>\n",
       "      <td>{'sum_abnormal_lab': True}</td>\n",
       "      <td>{'remove_range': True}</td>\n",
       "      <td>{'remove_abnormal_lab': False}</td>\n",
       "      <td>0.331579</td>\n",
       "      <td>{'remove_urine': True}</td>\n",
       "      <td>{'prep__abnormal_sum__kw_args': {'sum_abnormal...</td>\n",
       "      <td>...</td>\n",
       "      <td>0.735284</td>\n",
       "      <td>0.747122</td>\n",
       "      <td>0.746622</td>\n",
       "      <td>0.009061</td>\n",
       "      <td>26</td>\n",
       "      <td>0.989604</td>\n",
       "      <td>0.987725</td>\n",
       "      <td>0.989774</td>\n",
       "      <td>0.989034</td>\n",
       "      <td>0.000928</td>\n",
       "    </tr>\n",
       "    <tr>\n",
       "      <th>24</th>\n",
       "      <td>0.921291</td>\n",
       "      <td>0.017881</td>\n",
       "      <td>0.188598</td>\n",
       "      <td>0.034915</td>\n",
       "      <td>{'sum_abnormal_lab': True}</td>\n",
       "      <td>{'remove_range': True}</td>\n",
       "      <td>{'remove_abnormal_lab': False}</td>\n",
       "      <td>0.342105</td>\n",
       "      <td>{'remove_urine': True}</td>\n",
       "      <td>{'prep__abnormal_sum__kw_args': {'sum_abnormal...</td>\n",
       "      <td>...</td>\n",
       "      <td>0.761241</td>\n",
       "      <td>0.760612</td>\n",
       "      <td>0.759568</td>\n",
       "      <td>0.001938</td>\n",
       "      <td>1</td>\n",
       "      <td>0.987750</td>\n",
       "      <td>0.987214</td>\n",
       "      <td>0.986756</td>\n",
       "      <td>0.987240</td>\n",
       "      <td>0.000406</td>\n",
       "    </tr>\n",
       "    <tr>\n",
       "      <th>25</th>\n",
       "      <td>0.985814</td>\n",
       "      <td>0.040187</td>\n",
       "      <td>0.181759</td>\n",
       "      <td>0.009173</td>\n",
       "      <td>{'sum_abnormal_lab': True}</td>\n",
       "      <td>{'remove_range': True}</td>\n",
       "      <td>{'remove_abnormal_lab': False}</td>\n",
       "      <td>0.352632</td>\n",
       "      <td>{'remove_urine': True}</td>\n",
       "      <td>{'prep__abnormal_sum__kw_args': {'sum_abnormal...</td>\n",
       "      <td>...</td>\n",
       "      <td>0.746879</td>\n",
       "      <td>0.734249</td>\n",
       "      <td>0.745112</td>\n",
       "      <td>0.008241</td>\n",
       "      <td>32</td>\n",
       "      <td>0.985532</td>\n",
       "      <td>0.988598</td>\n",
       "      <td>0.988768</td>\n",
       "      <td>0.987633</td>\n",
       "      <td>0.001487</td>\n",
       "    </tr>\n",
       "    <tr>\n",
       "      <th>26</th>\n",
       "      <td>1.022022</td>\n",
       "      <td>0.037832</td>\n",
       "      <td>0.195345</td>\n",
       "      <td>0.014321</td>\n",
       "      <td>{'sum_abnormal_lab': True}</td>\n",
       "      <td>{'remove_range': True}</td>\n",
       "      <td>{'remove_abnormal_lab': False}</td>\n",
       "      <td>0.363158</td>\n",
       "      <td>{'remove_urine': True}</td>\n",
       "      <td>{'prep__abnormal_sum__kw_args': {'sum_abnormal...</td>\n",
       "      <td>...</td>\n",
       "      <td>0.750771</td>\n",
       "      <td>0.745775</td>\n",
       "      <td>0.750591</td>\n",
       "      <td>0.003860</td>\n",
       "      <td>8</td>\n",
       "      <td>0.987248</td>\n",
       "      <td>0.988069</td>\n",
       "      <td>0.989431</td>\n",
       "      <td>0.988250</td>\n",
       "      <td>0.000900</td>\n",
       "    </tr>\n",
       "    <tr>\n",
       "      <th>27</th>\n",
       "      <td>1.084503</td>\n",
       "      <td>0.003892</td>\n",
       "      <td>0.185792</td>\n",
       "      <td>0.019719</td>\n",
       "      <td>{'sum_abnormal_lab': True}</td>\n",
       "      <td>{'remove_range': True}</td>\n",
       "      <td>{'remove_abnormal_lab': False}</td>\n",
       "      <td>0.373684</td>\n",
       "      <td>{'remove_urine': True}</td>\n",
       "      <td>{'prep__abnormal_sum__kw_args': {'sum_abnormal...</td>\n",
       "      <td>...</td>\n",
       "      <td>0.759406</td>\n",
       "      <td>0.736768</td>\n",
       "      <td>0.747793</td>\n",
       "      <td>0.009251</td>\n",
       "      <td>21</td>\n",
       "      <td>0.985707</td>\n",
       "      <td>0.986384</td>\n",
       "      <td>0.987899</td>\n",
       "      <td>0.986664</td>\n",
       "      <td>0.000916</td>\n",
       "    </tr>\n",
       "    <tr>\n",
       "      <th>28</th>\n",
       "      <td>1.080249</td>\n",
       "      <td>0.039955</td>\n",
       "      <td>0.196414</td>\n",
       "      <td>0.015444</td>\n",
       "      <td>{'sum_abnormal_lab': True}</td>\n",
       "      <td>{'remove_range': True}</td>\n",
       "      <td>{'remove_abnormal_lab': False}</td>\n",
       "      <td>0.384211</td>\n",
       "      <td>{'remove_urine': True}</td>\n",
       "      <td>{'prep__abnormal_sum__kw_args': {'sum_abnormal...</td>\n",
       "      <td>...</td>\n",
       "      <td>0.745810</td>\n",
       "      <td>0.748945</td>\n",
       "      <td>0.750213</td>\n",
       "      <td>0.004209</td>\n",
       "      <td>12</td>\n",
       "      <td>0.987725</td>\n",
       "      <td>0.987422</td>\n",
       "      <td>0.988267</td>\n",
       "      <td>0.987805</td>\n",
       "      <td>0.000349</td>\n",
       "    </tr>\n",
       "    <tr>\n",
       "      <th>29</th>\n",
       "      <td>1.038012</td>\n",
       "      <td>0.050470</td>\n",
       "      <td>0.176221</td>\n",
       "      <td>0.007556</td>\n",
       "      <td>{'sum_abnormal_lab': True}</td>\n",
       "      <td>{'remove_range': True}</td>\n",
       "      <td>{'remove_abnormal_lab': False}</td>\n",
       "      <td>0.394737</td>\n",
       "      <td>{'remove_urine': True}</td>\n",
       "      <td>{'prep__abnormal_sum__kw_args': {'sum_abnormal...</td>\n",
       "      <td>...</td>\n",
       "      <td>0.756983</td>\n",
       "      <td>0.746469</td>\n",
       "      <td>0.750233</td>\n",
       "      <td>0.004784</td>\n",
       "      <td>11</td>\n",
       "      <td>0.986053</td>\n",
       "      <td>0.986237</td>\n",
       "      <td>0.986738</td>\n",
       "      <td>0.986343</td>\n",
       "      <td>0.000290</td>\n",
       "    </tr>\n",
       "    <tr>\n",
       "      <th>30</th>\n",
       "      <td>1.092362</td>\n",
       "      <td>0.050009</td>\n",
       "      <td>0.203601</td>\n",
       "      <td>0.030698</td>\n",
       "      <td>{'sum_abnormal_lab': True}</td>\n",
       "      <td>{'remove_range': True}</td>\n",
       "      <td>{'remove_abnormal_lab': False}</td>\n",
       "      <td>0.405263</td>\n",
       "      <td>{'remove_urine': True}</td>\n",
       "      <td>{'prep__abnormal_sum__kw_args': {'sum_abnormal...</td>\n",
       "      <td>...</td>\n",
       "      <td>0.741924</td>\n",
       "      <td>0.746742</td>\n",
       "      <td>0.749088</td>\n",
       "      <td>0.007006</td>\n",
       "      <td>17</td>\n",
       "      <td>0.987410</td>\n",
       "      <td>0.988571</td>\n",
       "      <td>0.990607</td>\n",
       "      <td>0.988863</td>\n",
       "      <td>0.001321</td>\n",
       "    </tr>\n",
       "    <tr>\n",
       "      <th>31</th>\n",
       "      <td>1.032559</td>\n",
       "      <td>0.010264</td>\n",
       "      <td>0.193182</td>\n",
       "      <td>0.015257</td>\n",
       "      <td>{'sum_abnormal_lab': True}</td>\n",
       "      <td>{'remove_range': True}</td>\n",
       "      <td>{'remove_abnormal_lab': False}</td>\n",
       "      <td>0.415789</td>\n",
       "      <td>{'remove_urine': True}</td>\n",
       "      <td>{'prep__abnormal_sum__kw_args': {'sum_abnormal...</td>\n",
       "      <td>...</td>\n",
       "      <td>0.753202</td>\n",
       "      <td>0.731380</td>\n",
       "      <td>0.745714</td>\n",
       "      <td>0.010136</td>\n",
       "      <td>30</td>\n",
       "      <td>0.984180</td>\n",
       "      <td>0.987940</td>\n",
       "      <td>0.985863</td>\n",
       "      <td>0.985994</td>\n",
       "      <td>0.001538</td>\n",
       "    </tr>\n",
       "    <tr>\n",
       "      <th>32</th>\n",
       "      <td>1.015766</td>\n",
       "      <td>0.101423</td>\n",
       "      <td>0.200002</td>\n",
       "      <td>0.019400</td>\n",
       "      <td>{'sum_abnormal_lab': True}</td>\n",
       "      <td>{'remove_range': True}</td>\n",
       "      <td>{'remove_abnormal_lab': False}</td>\n",
       "      <td>0.426316</td>\n",
       "      <td>{'remove_urine': True}</td>\n",
       "      <td>{'prep__abnormal_sum__kw_args': {'sum_abnormal...</td>\n",
       "      <td>...</td>\n",
       "      <td>0.740818</td>\n",
       "      <td>0.738440</td>\n",
       "      <td>0.740679</td>\n",
       "      <td>0.001773</td>\n",
       "      <td>37</td>\n",
       "      <td>0.985341</td>\n",
       "      <td>0.987406</td>\n",
       "      <td>0.987750</td>\n",
       "      <td>0.986832</td>\n",
       "      <td>0.001064</td>\n",
       "    </tr>\n",
       "    <tr>\n",
       "      <th>33</th>\n",
       "      <td>1.057901</td>\n",
       "      <td>0.046640</td>\n",
       "      <td>0.168727</td>\n",
       "      <td>0.016573</td>\n",
       "      <td>{'sum_abnormal_lab': True}</td>\n",
       "      <td>{'remove_range': True}</td>\n",
       "      <td>{'remove_abnormal_lab': False}</td>\n",
       "      <td>0.436842</td>\n",
       "      <td>{'remove_urine': True}</td>\n",
       "      <td>{'prep__abnormal_sum__kw_args': {'sum_abnormal...</td>\n",
       "      <td>...</td>\n",
       "      <td>0.740972</td>\n",
       "      <td>0.741053</td>\n",
       "      <td>0.747272</td>\n",
       "      <td>0.008852</td>\n",
       "      <td>23</td>\n",
       "      <td>0.989590</td>\n",
       "      <td>0.990275</td>\n",
       "      <td>0.989085</td>\n",
       "      <td>0.989650</td>\n",
       "      <td>0.000488</td>\n",
       "    </tr>\n",
       "    <tr>\n",
       "      <th>34</th>\n",
       "      <td>0.949570</td>\n",
       "      <td>0.051312</td>\n",
       "      <td>0.180484</td>\n",
       "      <td>0.014769</td>\n",
       "      <td>{'sum_abnormal_lab': True}</td>\n",
       "      <td>{'remove_range': True}</td>\n",
       "      <td>{'remove_abnormal_lab': False}</td>\n",
       "      <td>0.447368</td>\n",
       "      <td>{'remove_urine': True}</td>\n",
       "      <td>{'prep__abnormal_sum__kw_args': {'sum_abnormal...</td>\n",
       "      <td>...</td>\n",
       "      <td>0.763951</td>\n",
       "      <td>0.730000</td>\n",
       "      <td>0.751023</td>\n",
       "      <td>0.014992</td>\n",
       "      <td>5</td>\n",
       "      <td>0.986725</td>\n",
       "      <td>0.987070</td>\n",
       "      <td>0.989760</td>\n",
       "      <td>0.987852</td>\n",
       "      <td>0.001357</td>\n",
       "    </tr>\n",
       "    <tr>\n",
       "      <th>35</th>\n",
       "      <td>0.876344</td>\n",
       "      <td>0.050265</td>\n",
       "      <td>0.195164</td>\n",
       "      <td>0.043854</td>\n",
       "      <td>{'sum_abnormal_lab': True}</td>\n",
       "      <td>{'remove_range': True}</td>\n",
       "      <td>{'remove_abnormal_lab': False}</td>\n",
       "      <td>0.457895</td>\n",
       "      <td>{'remove_urine': True}</td>\n",
       "      <td>{'prep__abnormal_sum__kw_args': {'sum_abnormal...</td>\n",
       "      <td>...</td>\n",
       "      <td>0.747644</td>\n",
       "      <td>0.735273</td>\n",
       "      <td>0.744132</td>\n",
       "      <td>0.006306</td>\n",
       "      <td>34</td>\n",
       "      <td>0.988417</td>\n",
       "      <td>0.989262</td>\n",
       "      <td>0.985873</td>\n",
       "      <td>0.987851</td>\n",
       "      <td>0.001440</td>\n",
       "    </tr>\n",
       "    <tr>\n",
       "      <th>36</th>\n",
       "      <td>0.943822</td>\n",
       "      <td>0.036709</td>\n",
       "      <td>0.202937</td>\n",
       "      <td>0.034109</td>\n",
       "      <td>{'sum_abnormal_lab': True}</td>\n",
       "      <td>{'remove_range': True}</td>\n",
       "      <td>{'remove_abnormal_lab': False}</td>\n",
       "      <td>0.468421</td>\n",
       "      <td>{'remove_urine': True}</td>\n",
       "      <td>{'prep__abnormal_sum__kw_args': {'sum_abnormal...</td>\n",
       "      <td>...</td>\n",
       "      <td>0.755235</td>\n",
       "      <td>0.741337</td>\n",
       "      <td>0.750785</td>\n",
       "      <td>0.006682</td>\n",
       "      <td>7</td>\n",
       "      <td>0.988069</td>\n",
       "      <td>0.988922</td>\n",
       "      <td>0.987231</td>\n",
       "      <td>0.988074</td>\n",
       "      <td>0.000690</td>\n",
       "    </tr>\n",
       "    <tr>\n",
       "      <th>37</th>\n",
       "      <td>0.993559</td>\n",
       "      <td>0.043303</td>\n",
       "      <td>0.182112</td>\n",
       "      <td>0.014229</td>\n",
       "      <td>{'sum_abnormal_lab': True}</td>\n",
       "      <td>{'remove_range': True}</td>\n",
       "      <td>{'remove_abnormal_lab': False}</td>\n",
       "      <td>0.478947</td>\n",
       "      <td>{'remove_urine': True}</td>\n",
       "      <td>{'prep__abnormal_sum__kw_args': {'sum_abnormal...</td>\n",
       "      <td>...</td>\n",
       "      <td>0.752688</td>\n",
       "      <td>0.731984</td>\n",
       "      <td>0.750450</td>\n",
       "      <td>0.014246</td>\n",
       "      <td>10</td>\n",
       "      <td>0.987559</td>\n",
       "      <td>0.987406</td>\n",
       "      <td>0.989428</td>\n",
       "      <td>0.988131</td>\n",
       "      <td>0.000919</td>\n",
       "    </tr>\n",
       "    <tr>\n",
       "      <th>38</th>\n",
       "      <td>0.916022</td>\n",
       "      <td>0.009555</td>\n",
       "      <td>0.183633</td>\n",
       "      <td>0.002253</td>\n",
       "      <td>{'sum_abnormal_lab': True}</td>\n",
       "      <td>{'remove_range': True}</td>\n",
       "      <td>{'remove_abnormal_lab': False}</td>\n",
       "      <td>0.489474</td>\n",
       "      <td>{'remove_urine': True}</td>\n",
       "      <td>{'prep__abnormal_sum__kw_args': {'sum_abnormal...</td>\n",
       "      <td>...</td>\n",
       "      <td>0.745739</td>\n",
       "      <td>0.739407</td>\n",
       "      <td>0.746565</td>\n",
       "      <td>0.006208</td>\n",
       "      <td>28</td>\n",
       "      <td>0.989431</td>\n",
       "      <td>0.989781</td>\n",
       "      <td>0.990610</td>\n",
       "      <td>0.989941</td>\n",
       "      <td>0.000494</td>\n",
       "    </tr>\n",
       "    <tr>\n",
       "      <th>39</th>\n",
       "      <td>0.863008</td>\n",
       "      <td>0.004468</td>\n",
       "      <td>0.155461</td>\n",
       "      <td>0.004695</td>\n",
       "      <td>{'sum_abnormal_lab': True}</td>\n",
       "      <td>{'remove_range': True}</td>\n",
       "      <td>{'remove_abnormal_lab': False}</td>\n",
       "      <td>0.5</td>\n",
       "      <td>{'remove_urine': True}</td>\n",
       "      <td>{'prep__abnormal_sum__kw_args': {'sum_abnormal...</td>\n",
       "      <td>...</td>\n",
       "      <td>0.750953</td>\n",
       "      <td>0.725863</td>\n",
       "      <td>0.740507</td>\n",
       "      <td>0.010662</td>\n",
       "      <td>38</td>\n",
       "      <td>0.988919</td>\n",
       "      <td>0.988444</td>\n",
       "      <td>0.985045</td>\n",
       "      <td>0.987469</td>\n",
       "      <td>0.001725</td>\n",
       "    </tr>\n",
       "  </tbody>\n",
       "</table>\n",
       "<p>40 rows × 21 columns</p>\n",
       "</div>"
      ],
      "text/plain": [
       "    mean_fit_time  std_fit_time  mean_score_time  std_score_time  \\\n",
       "0        1.137500      0.006321         0.212318        0.006550   \n",
       "1        1.171294      0.037142         0.181917        0.022383   \n",
       "2        1.070460      0.131942         0.215773        0.067600   \n",
       "3        1.018620      0.040075         0.231353        0.027403   \n",
       "4        1.087943      0.034242         0.181465        0.017718   \n",
       "5        0.955434      0.125532         0.217165        0.044865   \n",
       "6        0.982911      0.098988         0.249139        0.053878   \n",
       "7        1.118513      0.042608         0.180901        0.002954   \n",
       "8        0.835873      0.056908         0.215020        0.015352   \n",
       "9        1.003268      0.093463         0.209023        0.034101   \n",
       "10       0.993453      0.179280         0.175423        0.019674   \n",
       "11       0.866524      0.044931         0.196530        0.023065   \n",
       "12       1.037445      0.101139         0.223435        0.079887   \n",
       "13       0.970351      0.091700         0.210995        0.014818   \n",
       "14       0.877795      0.051537         0.185606        0.021407   \n",
       "15       1.027313      0.039946         0.183745        0.033445   \n",
       "16       0.922460      0.022576         0.193241        0.013317   \n",
       "17       0.971300      0.030895         0.198691        0.035119   \n",
       "18       1.085338      0.031187         0.178846        0.008563   \n",
       "19       1.032470      0.071796         0.190679        0.000401   \n",
       "20       0.969510      0.053799         0.188795        0.025979   \n",
       "21       1.014927      0.044642         0.171047        0.011692   \n",
       "22       0.962957      0.000928         0.178425        0.006085   \n",
       "23       0.942321      0.019179         0.171125        0.007428   \n",
       "24       0.921291      0.017881         0.188598        0.034915   \n",
       "25       0.985814      0.040187         0.181759        0.009173   \n",
       "26       1.022022      0.037832         0.195345        0.014321   \n",
       "27       1.084503      0.003892         0.185792        0.019719   \n",
       "28       1.080249      0.039955         0.196414        0.015444   \n",
       "29       1.038012      0.050470         0.176221        0.007556   \n",
       "30       1.092362      0.050009         0.203601        0.030698   \n",
       "31       1.032559      0.010264         0.193182        0.015257   \n",
       "32       1.015766      0.101423         0.200002        0.019400   \n",
       "33       1.057901      0.046640         0.168727        0.016573   \n",
       "34       0.949570      0.051312         0.180484        0.014769   \n",
       "35       0.876344      0.050265         0.195164        0.043854   \n",
       "36       0.943822      0.036709         0.202937        0.034109   \n",
       "37       0.993559      0.043303         0.182112        0.014229   \n",
       "38       0.916022      0.009555         0.183633        0.002253   \n",
       "39       0.863008      0.004468         0.155461        0.004695   \n",
       "\n",
       "   param_prep__abnormal_sum__kw_args param_prep__range_remove__kw_args  \\\n",
       "0         {'sum_abnormal_lab': True}           {'remove_range': False}   \n",
       "1         {'sum_abnormal_lab': True}           {'remove_range': False}   \n",
       "2         {'sum_abnormal_lab': True}           {'remove_range': False}   \n",
       "3         {'sum_abnormal_lab': True}           {'remove_range': False}   \n",
       "4         {'sum_abnormal_lab': True}           {'remove_range': False}   \n",
       "5         {'sum_abnormal_lab': True}           {'remove_range': False}   \n",
       "6         {'sum_abnormal_lab': True}           {'remove_range': False}   \n",
       "7         {'sum_abnormal_lab': True}           {'remove_range': False}   \n",
       "8         {'sum_abnormal_lab': True}           {'remove_range': False}   \n",
       "9         {'sum_abnormal_lab': True}           {'remove_range': False}   \n",
       "10        {'sum_abnormal_lab': True}           {'remove_range': False}   \n",
       "11        {'sum_abnormal_lab': True}           {'remove_range': False}   \n",
       "12        {'sum_abnormal_lab': True}           {'remove_range': False}   \n",
       "13        {'sum_abnormal_lab': True}           {'remove_range': False}   \n",
       "14        {'sum_abnormal_lab': True}           {'remove_range': False}   \n",
       "15        {'sum_abnormal_lab': True}           {'remove_range': False}   \n",
       "16        {'sum_abnormal_lab': True}           {'remove_range': False}   \n",
       "17        {'sum_abnormal_lab': True}           {'remove_range': False}   \n",
       "18        {'sum_abnormal_lab': True}           {'remove_range': False}   \n",
       "19        {'sum_abnormal_lab': True}           {'remove_range': False}   \n",
       "20        {'sum_abnormal_lab': True}            {'remove_range': True}   \n",
       "21        {'sum_abnormal_lab': True}            {'remove_range': True}   \n",
       "22        {'sum_abnormal_lab': True}            {'remove_range': True}   \n",
       "23        {'sum_abnormal_lab': True}            {'remove_range': True}   \n",
       "24        {'sum_abnormal_lab': True}            {'remove_range': True}   \n",
       "25        {'sum_abnormal_lab': True}            {'remove_range': True}   \n",
       "26        {'sum_abnormal_lab': True}            {'remove_range': True}   \n",
       "27        {'sum_abnormal_lab': True}            {'remove_range': True}   \n",
       "28        {'sum_abnormal_lab': True}            {'remove_range': True}   \n",
       "29        {'sum_abnormal_lab': True}            {'remove_range': True}   \n",
       "30        {'sum_abnormal_lab': True}            {'remove_range': True}   \n",
       "31        {'sum_abnormal_lab': True}            {'remove_range': True}   \n",
       "32        {'sum_abnormal_lab': True}            {'remove_range': True}   \n",
       "33        {'sum_abnormal_lab': True}            {'remove_range': True}   \n",
       "34        {'sum_abnormal_lab': True}            {'remove_range': True}   \n",
       "35        {'sum_abnormal_lab': True}            {'remove_range': True}   \n",
       "36        {'sum_abnormal_lab': True}            {'remove_range': True}   \n",
       "37        {'sum_abnormal_lab': True}            {'remove_range': True}   \n",
       "38        {'sum_abnormal_lab': True}            {'remove_range': True}   \n",
       "39        {'sum_abnormal_lab': True}            {'remove_range': True}   \n",
       "\n",
       "   param_prep__remove_abnormal_labs__kw_args  \\\n",
       "0             {'remove_abnormal_lab': False}   \n",
       "1             {'remove_abnormal_lab': False}   \n",
       "2             {'remove_abnormal_lab': False}   \n",
       "3             {'remove_abnormal_lab': False}   \n",
       "4             {'remove_abnormal_lab': False}   \n",
       "5             {'remove_abnormal_lab': False}   \n",
       "6             {'remove_abnormal_lab': False}   \n",
       "7             {'remove_abnormal_lab': False}   \n",
       "8             {'remove_abnormal_lab': False}   \n",
       "9             {'remove_abnormal_lab': False}   \n",
       "10            {'remove_abnormal_lab': False}   \n",
       "11            {'remove_abnormal_lab': False}   \n",
       "12            {'remove_abnormal_lab': False}   \n",
       "13            {'remove_abnormal_lab': False}   \n",
       "14            {'remove_abnormal_lab': False}   \n",
       "15            {'remove_abnormal_lab': False}   \n",
       "16            {'remove_abnormal_lab': False}   \n",
       "17            {'remove_abnormal_lab': False}   \n",
       "18            {'remove_abnormal_lab': False}   \n",
       "19            {'remove_abnormal_lab': False}   \n",
       "20            {'remove_abnormal_lab': False}   \n",
       "21            {'remove_abnormal_lab': False}   \n",
       "22            {'remove_abnormal_lab': False}   \n",
       "23            {'remove_abnormal_lab': False}   \n",
       "24            {'remove_abnormal_lab': False}   \n",
       "25            {'remove_abnormal_lab': False}   \n",
       "26            {'remove_abnormal_lab': False}   \n",
       "27            {'remove_abnormal_lab': False}   \n",
       "28            {'remove_abnormal_lab': False}   \n",
       "29            {'remove_abnormal_lab': False}   \n",
       "30            {'remove_abnormal_lab': False}   \n",
       "31            {'remove_abnormal_lab': False}   \n",
       "32            {'remove_abnormal_lab': False}   \n",
       "33            {'remove_abnormal_lab': False}   \n",
       "34            {'remove_abnormal_lab': False}   \n",
       "35            {'remove_abnormal_lab': False}   \n",
       "36            {'remove_abnormal_lab': False}   \n",
       "37            {'remove_abnormal_lab': False}   \n",
       "38            {'remove_abnormal_lab': False}   \n",
       "39            {'remove_abnormal_lab': False}   \n",
       "\n",
       "   param_prep__remove_na_percent__percent_na  \\\n",
       "0                                        0.3   \n",
       "1                                   0.310526   \n",
       "2                                   0.321053   \n",
       "3                                   0.331579   \n",
       "4                                   0.342105   \n",
       "5                                   0.352632   \n",
       "6                                   0.363158   \n",
       "7                                   0.373684   \n",
       "8                                   0.384211   \n",
       "9                                   0.394737   \n",
       "10                                  0.405263   \n",
       "11                                  0.415789   \n",
       "12                                  0.426316   \n",
       "13                                  0.436842   \n",
       "14                                  0.447368   \n",
       "15                                  0.457895   \n",
       "16                                  0.468421   \n",
       "17                                  0.478947   \n",
       "18                                  0.489474   \n",
       "19                                       0.5   \n",
       "20                                       0.3   \n",
       "21                                  0.310526   \n",
       "22                                  0.321053   \n",
       "23                                  0.331579   \n",
       "24                                  0.342105   \n",
       "25                                  0.352632   \n",
       "26                                  0.363158   \n",
       "27                                  0.373684   \n",
       "28                                  0.384211   \n",
       "29                                  0.394737   \n",
       "30                                  0.405263   \n",
       "31                                  0.415789   \n",
       "32                                  0.426316   \n",
       "33                                  0.436842   \n",
       "34                                  0.447368   \n",
       "35                                  0.457895   \n",
       "36                                  0.468421   \n",
       "37                                  0.478947   \n",
       "38                                  0.489474   \n",
       "39                                       0.5   \n",
       "\n",
       "   param_prep__urine_remove__kw_args  \\\n",
       "0             {'remove_urine': True}   \n",
       "1             {'remove_urine': True}   \n",
       "2             {'remove_urine': True}   \n",
       "3             {'remove_urine': True}   \n",
       "4             {'remove_urine': True}   \n",
       "5             {'remove_urine': True}   \n",
       "6             {'remove_urine': True}   \n",
       "7             {'remove_urine': True}   \n",
       "8             {'remove_urine': True}   \n",
       "9             {'remove_urine': True}   \n",
       "10            {'remove_urine': True}   \n",
       "11            {'remove_urine': True}   \n",
       "12            {'remove_urine': True}   \n",
       "13            {'remove_urine': True}   \n",
       "14            {'remove_urine': True}   \n",
       "15            {'remove_urine': True}   \n",
       "16            {'remove_urine': True}   \n",
       "17            {'remove_urine': True}   \n",
       "18            {'remove_urine': True}   \n",
       "19            {'remove_urine': True}   \n",
       "20            {'remove_urine': True}   \n",
       "21            {'remove_urine': True}   \n",
       "22            {'remove_urine': True}   \n",
       "23            {'remove_urine': True}   \n",
       "24            {'remove_urine': True}   \n",
       "25            {'remove_urine': True}   \n",
       "26            {'remove_urine': True}   \n",
       "27            {'remove_urine': True}   \n",
       "28            {'remove_urine': True}   \n",
       "29            {'remove_urine': True}   \n",
       "30            {'remove_urine': True}   \n",
       "31            {'remove_urine': True}   \n",
       "32            {'remove_urine': True}   \n",
       "33            {'remove_urine': True}   \n",
       "34            {'remove_urine': True}   \n",
       "35            {'remove_urine': True}   \n",
       "36            {'remove_urine': True}   \n",
       "37            {'remove_urine': True}   \n",
       "38            {'remove_urine': True}   \n",
       "39            {'remove_urine': True}   \n",
       "\n",
       "                                               params  ...  split1_test_score  \\\n",
       "0   {'prep__abnormal_sum__kw_args': {'sum_abnormal...  ...           0.744410   \n",
       "1   {'prep__abnormal_sum__kw_args': {'sum_abnormal...  ...           0.751393   \n",
       "2   {'prep__abnormal_sum__kw_args': {'sum_abnormal...  ...           0.756625   \n",
       "3   {'prep__abnormal_sum__kw_args': {'sum_abnormal...  ...           0.748166   \n",
       "4   {'prep__abnormal_sum__kw_args': {'sum_abnormal...  ...           0.742261   \n",
       "5   {'prep__abnormal_sum__kw_args': {'sum_abnormal...  ...           0.746425   \n",
       "6   {'prep__abnormal_sum__kw_args': {'sum_abnormal...  ...           0.738227   \n",
       "7   {'prep__abnormal_sum__kw_args': {'sum_abnormal...  ...           0.757000   \n",
       "8   {'prep__abnormal_sum__kw_args': {'sum_abnormal...  ...           0.757054   \n",
       "9   {'prep__abnormal_sum__kw_args': {'sum_abnormal...  ...           0.748782   \n",
       "10  {'prep__abnormal_sum__kw_args': {'sum_abnormal...  ...           0.754470   \n",
       "11  {'prep__abnormal_sum__kw_args': {'sum_abnormal...  ...           0.746844   \n",
       "12  {'prep__abnormal_sum__kw_args': {'sum_abnormal...  ...           0.744962   \n",
       "13  {'prep__abnormal_sum__kw_args': {'sum_abnormal...  ...           0.757113   \n",
       "14  {'prep__abnormal_sum__kw_args': {'sum_abnormal...  ...           0.753292   \n",
       "15  {'prep__abnormal_sum__kw_args': {'sum_abnormal...  ...           0.761348   \n",
       "16  {'prep__abnormal_sum__kw_args': {'sum_abnormal...  ...           0.762301   \n",
       "17  {'prep__abnormal_sum__kw_args': {'sum_abnormal...  ...           0.742182   \n",
       "18  {'prep__abnormal_sum__kw_args': {'sum_abnormal...  ...           0.748166   \n",
       "19  {'prep__abnormal_sum__kw_args': {'sum_abnormal...  ...           0.752454   \n",
       "20  {'prep__abnormal_sum__kw_args': {'sum_abnormal...  ...           0.741731   \n",
       "21  {'prep__abnormal_sum__kw_args': {'sum_abnormal...  ...           0.753543   \n",
       "22  {'prep__abnormal_sum__kw_args': {'sum_abnormal...  ...           0.753382   \n",
       "23  {'prep__abnormal_sum__kw_args': {'sum_abnormal...  ...           0.735284   \n",
       "24  {'prep__abnormal_sum__kw_args': {'sum_abnormal...  ...           0.761241   \n",
       "25  {'prep__abnormal_sum__kw_args': {'sum_abnormal...  ...           0.746879   \n",
       "26  {'prep__abnormal_sum__kw_args': {'sum_abnormal...  ...           0.750771   \n",
       "27  {'prep__abnormal_sum__kw_args': {'sum_abnormal...  ...           0.759406   \n",
       "28  {'prep__abnormal_sum__kw_args': {'sum_abnormal...  ...           0.745810   \n",
       "29  {'prep__abnormal_sum__kw_args': {'sum_abnormal...  ...           0.756983   \n",
       "30  {'prep__abnormal_sum__kw_args': {'sum_abnormal...  ...           0.741924   \n",
       "31  {'prep__abnormal_sum__kw_args': {'sum_abnormal...  ...           0.753202   \n",
       "32  {'prep__abnormal_sum__kw_args': {'sum_abnormal...  ...           0.740818   \n",
       "33  {'prep__abnormal_sum__kw_args': {'sum_abnormal...  ...           0.740972   \n",
       "34  {'prep__abnormal_sum__kw_args': {'sum_abnormal...  ...           0.763951   \n",
       "35  {'prep__abnormal_sum__kw_args': {'sum_abnormal...  ...           0.747644   \n",
       "36  {'prep__abnormal_sum__kw_args': {'sum_abnormal...  ...           0.755235   \n",
       "37  {'prep__abnormal_sum__kw_args': {'sum_abnormal...  ...           0.752688   \n",
       "38  {'prep__abnormal_sum__kw_args': {'sum_abnormal...  ...           0.745739   \n",
       "39  {'prep__abnormal_sum__kw_args': {'sum_abnormal...  ...           0.750953   \n",
       "\n",
       "    split2_test_score  mean_test_score  std_test_score  rank_test_score  \\\n",
       "0            0.741416         0.746562        0.005302               29   \n",
       "1            0.751223         0.751255        0.000102                4   \n",
       "2            0.744779         0.750966        0.004850                6   \n",
       "3            0.744891         0.746565        0.001338               27   \n",
       "4            0.752358         0.750490        0.006102                9   \n",
       "5            0.742085         0.740943        0.005008               36   \n",
       "6            0.733498         0.737963        0.003541               40   \n",
       "7            0.734579         0.748410        0.009873               19   \n",
       "8            0.747090         0.753497        0.004539                2   \n",
       "9            0.738745         0.747072        0.006217               24   \n",
       "10           0.737664         0.749988        0.008818               13   \n",
       "11           0.747453         0.745543        0.002284               31   \n",
       "12           0.737249         0.747051        0.008975               25   \n",
       "13           0.740431         0.749477        0.006882               15   \n",
       "14           0.733661         0.740247        0.009226               39   \n",
       "15           0.737960         0.752291        0.010248                3   \n",
       "16           0.735802         0.749108        0.010818               16   \n",
       "17           0.753949         0.748504        0.004844               18   \n",
       "18           0.741947         0.744974        0.002542               33   \n",
       "19           0.732722         0.743112        0.008089               35   \n",
       "20           0.746676         0.747510        0.005093               22   \n",
       "21           0.733990         0.749771        0.011650               14   \n",
       "22           0.735616         0.748010        0.008786               20   \n",
       "23           0.747122         0.746622        0.009061               26   \n",
       "24           0.760612         0.759568        0.001938                1   \n",
       "25           0.734249         0.745112        0.008241               32   \n",
       "26           0.745775         0.750591        0.003860                8   \n",
       "27           0.736768         0.747793        0.009251               21   \n",
       "28           0.748945         0.750213        0.004209               12   \n",
       "29           0.746469         0.750233        0.004784               11   \n",
       "30           0.746742         0.749088        0.007006               17   \n",
       "31           0.731380         0.745714        0.010136               30   \n",
       "32           0.738440         0.740679        0.001773               37   \n",
       "33           0.741053         0.747272        0.008852               23   \n",
       "34           0.730000         0.751023        0.014992                5   \n",
       "35           0.735273         0.744132        0.006306               34   \n",
       "36           0.741337         0.750785        0.006682                7   \n",
       "37           0.731984         0.750450        0.014246               10   \n",
       "38           0.739407         0.746565        0.006208               28   \n",
       "39           0.725863         0.740507        0.010662               38   \n",
       "\n",
       "    split0_train_score  split1_train_score  split2_train_score  \\\n",
       "0             0.985361            0.988926            0.988440   \n",
       "1             0.988926            0.987244            0.988271   \n",
       "2             0.989767            0.987733            0.988930   \n",
       "3             0.987410            0.986900            0.987248   \n",
       "4             0.984864            0.987915            0.988779   \n",
       "5             0.986891            0.988598            0.987567   \n",
       "6             0.987576            0.987588            0.986886   \n",
       "7             0.988575            0.987218            0.988753   \n",
       "8             0.985400            0.987915            0.990776   \n",
       "9             0.987074            0.987899            0.988919   \n",
       "10            0.989431            0.990946            0.987052   \n",
       "11            0.987427            0.985849            0.988085   \n",
       "12            0.990949            0.987270            0.989943   \n",
       "13            0.984212            0.986407            0.988263   \n",
       "14            0.988602            0.987406            0.988960   \n",
       "15            0.988606            0.987911            0.987741   \n",
       "16            0.990428            0.987924            0.988259   \n",
       "17            0.988065            0.989946            0.988937   \n",
       "18            0.988085            0.989092            0.986389   \n",
       "19            0.985356            0.986716            0.987592   \n",
       "20            0.985376            0.986716            0.989615   \n",
       "21            0.990096            0.988583            0.986205   \n",
       "22            0.989590            0.985371            0.989781   \n",
       "23            0.989604            0.987725            0.989774   \n",
       "24            0.987750            0.987214            0.986756   \n",
       "25            0.985532            0.988598            0.988768   \n",
       "26            0.987248            0.988069            0.989431   \n",
       "27            0.985707            0.986384            0.987899   \n",
       "28            0.987725            0.987422            0.988267   \n",
       "29            0.986053            0.986237            0.986738   \n",
       "30            0.987410            0.988571            0.990607   \n",
       "31            0.984180            0.987940            0.985863   \n",
       "32            0.985341            0.987406            0.987750   \n",
       "33            0.989590            0.990275            0.989085   \n",
       "34            0.986725            0.987070            0.989760   \n",
       "35            0.988417            0.989262            0.985873   \n",
       "36            0.988069            0.988922            0.987231   \n",
       "37            0.987559            0.987406            0.989428   \n",
       "38            0.989431            0.989781            0.990610   \n",
       "39            0.988919            0.988444            0.985045   \n",
       "\n",
       "    mean_train_score  std_train_score  \n",
       "0           0.987576         0.001579  \n",
       "1           0.988147         0.000692  \n",
       "2           0.988810         0.000835  \n",
       "3           0.987186         0.000213  \n",
       "4           0.987186         0.001680  \n",
       "5           0.987685         0.000702  \n",
       "6           0.987350         0.000328  \n",
       "7           0.988182         0.000685  \n",
       "8           0.988031         0.002196  \n",
       "9           0.987964         0.000754  \n",
       "10          0.989143         0.001602  \n",
       "11          0.987120         0.000938  \n",
       "12          0.989387         0.001553  \n",
       "13          0.986294         0.001656  \n",
       "14          0.988322         0.000665  \n",
       "15          0.988086         0.000374  \n",
       "16          0.988870         0.001110  \n",
       "17          0.988983         0.000769  \n",
       "18          0.987855         0.001116  \n",
       "19          0.986555         0.000920  \n",
       "20          0.987235         0.001769  \n",
       "21          0.988294         0.001602  \n",
       "22          0.988247         0.002035  \n",
       "23          0.989034         0.000928  \n",
       "24          0.987240         0.000406  \n",
       "25          0.987633         0.001487  \n",
       "26          0.988250         0.000900  \n",
       "27          0.986664         0.000916  \n",
       "28          0.987805         0.000349  \n",
       "29          0.986343         0.000290  \n",
       "30          0.988863         0.001321  \n",
       "31          0.985994         0.001538  \n",
       "32          0.986832         0.001064  \n",
       "33          0.989650         0.000488  \n",
       "34          0.987852         0.001357  \n",
       "35          0.987851         0.001440  \n",
       "36          0.988074         0.000690  \n",
       "37          0.988131         0.000919  \n",
       "38          0.989941         0.000494  \n",
       "39          0.987469         0.001725  \n",
       "\n",
       "[40 rows x 21 columns]"
      ]
     },
     "execution_count": 155,
     "metadata": {},
     "output_type": "execute_result"
    }
   ],
   "source": [
    "result = grid_search.cv_results_\n",
    "pd.DataFrame(result)"
   ]
  },
  {
   "cell_type": "code",
   "execution_count": 156,
   "metadata": {},
   "outputs": [
    {
     "data": {
      "text/plain": [
       "0.759568099943448"
      ]
     },
     "execution_count": 156,
     "metadata": {},
     "output_type": "execute_result"
    }
   ],
   "source": [
    "grid_search.best_score_"
   ]
  },
  {
   "cell_type": "markdown",
   "metadata": {},
   "source": [
    "### Feed best params into data prep pipline alone, no model"
   ]
  },
  {
   "cell_type": "code",
   "execution_count": 174,
   "metadata": {},
   "outputs": [],
   "source": [
    "best = {'range_remove__kw_args': {'remove_range': True},\n",
    "    'abnormal_sum__kw_args': {'sum_abnormal_lab': True},\n",
    " 'remove_abnormal_labs__kw_args': {'remove_abnormal_lab': False},\n",
    " 'remove_na_percent__percent_na': 0.4,\n",
    " 'urine_remove__kw_args': {'remove_urine': True}}"
   ]
  },
  {
   "cell_type": "code",
   "execution_count": 175,
   "metadata": {},
   "outputs": [
    {
     "data": {
      "text/plain": [
       "Pipeline(memory=None,\n",
       "     steps=[('range_remove', FunctionTransformer(accept_sparse=False, check_inverse=True,\n",
       "          func=<function range_remover at 0x1a35ccd2f0>, inv_kw_args=None,\n",
       "          inverse_func=None, kw_args={'remove_range': True},\n",
       "          pass_y='deprecated', validate=False)), ('urine_remove', FunctionTrans...egy='median', verbose=0)), ('std_scalar', StandardScaler(copy=True, with_mean=True, with_std=True))])"
      ]
     },
     "execution_count": 175,
     "metadata": {},
     "output_type": "execute_result"
    }
   ],
   "source": [
    "prep_pipeline.set_params(**best)"
   ]
  },
  {
   "cell_type": "code",
   "execution_count": 176,
   "metadata": {},
   "outputs": [],
   "source": [
    "# Renaming upsampled data\n",
    "X_train = df_upsampled_train.values\n",
    "X_test = df_upsampled_test.values\n",
    "y_train = label_upsampled_train.values\n",
    "y_test = label_upsampled_test.values"
   ]
  },
  {
   "cell_type": "code",
   "execution_count": 184,
   "metadata": {},
   "outputs": [],
   "source": [
    "# Splitting downsampled data\n",
    "final_model = grid_search.best_estimator_\n",
    "split = StratifiedKFold(n_splits=4, random_state=42)\n",
    "for train_index, test_index in split.split(df_downsampled, label_downsampled):\n",
    "    X_train = df_downsampled.iloc[train_index, :].values\n",
    "    X_test = df_downsampled.iloc[test_index, :].values\n",
    "    y_train = label_downsampled.iloc[train_index].values\n",
    "    y_test = label_downsampled.iloc[test_index].values"
   ]
  },
  {
   "cell_type": "code",
   "execution_count": 322,
   "metadata": {},
   "outputs": [],
   "source": [
    "# Splitting original data\n",
    "final_model = grid_search.best_estimator_\n",
    "split = StratifiedKFold(n_splits=4, random_state=42)\n",
    "for train_index, test_index in split.split(df_og, label_og):\n",
    "    X_train = df_og.iloc[train_index, :].values\n",
    "    X_test = df_og.iloc[test_index, :].values\n",
    "    y_train = label_og.iloc[train_index].values\n",
    "    y_test = label_og.iloc[test_index].values"
   ]
  },
  {
   "cell_type": "markdown",
   "metadata": {},
   "source": [
    "### Fitting final model with training set"
   ]
  },
  {
   "cell_type": "code",
   "execution_count": 185,
   "metadata": {},
   "outputs": [],
   "source": [
    "X_train_prepped = prep_pipeline.fit_transform(X_train)\n",
    "X_test_prepped = prep_pipeline.transform(X_test)"
   ]
  },
  {
   "cell_type": "code",
   "execution_count": 186,
   "metadata": {},
   "outputs": [
    {
     "data": {
      "text/plain": [
       "(7127, 294)"
      ]
     },
     "execution_count": 186,
     "metadata": {},
     "output_type": "execute_result"
    }
   ],
   "source": [
    "X_train_prepped.shape"
   ]
  },
  {
   "cell_type": "code",
   "execution_count": 187,
   "metadata": {},
   "outputs": [],
   "source": [
    "rnd_clf = RandomForestClassifier(n_estimators=100, n_jobs=-1, verbose=2)"
   ]
  },
  {
   "cell_type": "code",
   "execution_count": 188,
   "metadata": {},
   "outputs": [
    {
     "name": "stderr",
     "output_type": "stream",
     "text": [
      "[Parallel(n_jobs=-1)]: Using backend ThreadingBackend with 8 concurrent workers.\n",
      "[Parallel(n_jobs=-1)]: Done  25 tasks      | elapsed:    0.2s\n"
     ]
    },
    {
     "name": "stdout",
     "output_type": "stream",
     "text": [
      "building tree 1 of 100building tree 2 of 100building tree 3 of 100\n",
      "\n",
      "\n",
      "building tree 4 of 100building tree 5 of 100\n",
      "\n",
      "building tree 6 of 100\n",
      "building tree 7 of 100building tree 8 of 100\n",
      "\n",
      "building tree 9 of 100\n",
      "building tree 10 of 100\n",
      "building tree 11 of 100building tree 12 of 100building tree 13 of 100\n",
      "\n",
      "\n",
      "building tree 14 of 100\n",
      "building tree 15 of 100\n",
      "building tree 16 of 100\n",
      "building tree 17 of 100\n",
      "building tree 18 of 100\n",
      "building tree 19 of 100\n",
      "building tree 20 of 100\n",
      "building tree 21 of 100\n",
      "building tree 22 of 100\n",
      "building tree 23 of 100\n",
      "building tree 24 of 100\n",
      "building tree 25 of 100\n",
      "building tree 26 of 100\n",
      "building tree 27 of 100\n",
      "building tree 28 of 100building tree 29 of 100\n",
      "\n",
      "building tree 30 of 100building tree 31 of 100\n",
      "\n",
      "building tree 32 of 100\n",
      "building tree 33 of 100\n",
      "building tree 34 of 100\n",
      "building tree 35 of 100\n",
      "building tree 36 of 100\n",
      "building tree 37 of 100\n",
      "building tree 38 of 100\n",
      "building tree 39 of 100\n",
      "building tree 40 of 100\n",
      "building tree 41 of 100\n",
      "building tree 42 of 100\n",
      "building tree 43 of 100building tree 44 of 100\n",
      "\n",
      "building tree 45 of 100\n",
      "building tree 46 of 100\n",
      "building tree 47 of 100\n",
      "building tree 48 of 100\n",
      "building tree 49 of 100\n",
      "building tree 50 of 100\n",
      "building tree 51 of 100\n",
      "building tree 52 of 100\n",
      "building tree 53 of 100\n",
      "building tree 54 of 100\n",
      "building tree 55 of 100\n",
      "building tree 56 of 100\n",
      "building tree 57 of 100\n",
      "building tree 58 of 100\n",
      "building tree 59 of 100\n",
      "building tree 60 of 100\n",
      "building tree 61 of 100\n",
      "building tree 62 of 100\n",
      "building tree 63 of 100\n",
      "building tree 64 of 100\n",
      "building tree 65 of 100\n",
      "building tree 66 of 100\n",
      "building tree 67 of 100\n",
      "building tree 68 of 100\n",
      "building tree 69 of 100\n",
      "building tree 70 of 100\n",
      "building tree 71 of 100\n",
      "building tree 72 of 100\n",
      "building tree 73 of 100\n",
      "building tree 74 of 100\n",
      "building tree 75 of 100\n",
      "building tree 76 of 100\n",
      "building tree 77 of 100\n",
      "building tree 78 of 100building tree 79 of 100\n",
      "\n",
      "building tree 80 of 100\n",
      "building tree 81 of 100\n",
      "building tree 82 of 100\n",
      "building tree 83 of 100\n",
      "building tree 84 of 100\n",
      "building tree 85 of 100\n",
      "building tree 86 of 100building tree 87 of 100\n",
      "\n",
      "building tree 88 of 100\n",
      "building tree 89 of 100\n",
      "building tree 90 of 100\n",
      "building tree 91 of 100\n",
      "building tree 92 of 100\n",
      "building tree 93 of 100\n",
      "building tree 94 of 100\n",
      "building tree 95 of 100\n",
      "building tree 96 of 100\n",
      "building tree 97 of 100\n",
      "building tree 98 of 100\n",
      "building tree 99 of 100\n",
      "building tree 100 of 100\n"
     ]
    },
    {
     "name": "stderr",
     "output_type": "stream",
     "text": [
      "[Parallel(n_jobs=-1)]: Done 100 out of 100 | elapsed:    0.5s finished\n"
     ]
    },
    {
     "data": {
      "text/plain": [
       "RandomForestClassifier(bootstrap=True, class_weight=None, criterion='gini',\n",
       "            max_depth=None, max_features='auto', max_leaf_nodes=None,\n",
       "            min_impurity_decrease=0.0, min_impurity_split=None,\n",
       "            min_samples_leaf=1, min_samples_split=2,\n",
       "            min_weight_fraction_leaf=0.0, n_estimators=100, n_jobs=-1,\n",
       "            oob_score=False, random_state=None, verbose=2,\n",
       "            warm_start=False)"
      ]
     },
     "execution_count": 188,
     "metadata": {},
     "output_type": "execute_result"
    }
   ],
   "source": [
    "rnd_clf.fit(X_train_prepped, y_train)"
   ]
  },
  {
   "cell_type": "code",
   "execution_count": 189,
   "metadata": {},
   "outputs": [
    {
     "name": "stderr",
     "output_type": "stream",
     "text": [
      "[Parallel(n_jobs=8)]: Using backend ThreadingBackend with 8 concurrent workers.\n",
      "[Parallel(n_jobs=8)]: Done  25 tasks      | elapsed:    0.0s\n",
      "[Parallel(n_jobs=8)]: Done 100 out of 100 | elapsed:    0.0s finished\n"
     ]
    }
   ],
   "source": [
    "from sklearn import metrics\n",
    "y_pred = rnd_clf.predict_proba(X_test_prepped)[:, 1]\n",
    "prec_n, rec_n, _ = metrics.precision_recall_curve(y_test, y_pred)"
   ]
  },
  {
   "cell_type": "code",
   "execution_count": 190,
   "metadata": {},
   "outputs": [
    {
     "data": {
      "image/png": "[encoded data removed]",
      "text/plain": [
       "<Figure size 432x288 with 1 Axes>"
      ]
     },
     "metadata": {
      "needs_background": "light"
     },
     "output_type": "display_data"
    }
   ],
   "source": [
    "plt.plot(prec_n, rec_n, label = \"Model1\")\n",
    "# plt.plot(prec2, rec2, label = \"Model2\")\n",
    "plt.xlabel(\"Recall\")\n",
    "plt.ylabel(\"Precision\")\n",
    "plt.title(\"Precision-Recall Curves\")\n",
    "plt.legend()\n",
    "plt.show()"
   ]
  },
  {
   "cell_type": "code",
   "execution_count": 168,
   "metadata": {},
   "outputs": [],
   "source": [
    "y_pred_binary = final_model.predict(X_test)"
   ]
  },
  {
   "cell_type": "code",
   "execution_count": 169,
   "metadata": {},
   "outputs": [
    {
     "data": {
      "text/plain": [
       "array([[1243,    7],\n",
       "       [  23, 1102]])"
      ]
     },
     "execution_count": 169,
     "metadata": {},
     "output_type": "execute_result"
    }
   ],
   "source": [
    "from sklearn.metrics import confusion_matrix\n",
    "confusion_matrix(y_test, y_pred_binary)\n"
   ]
  },
  {
   "cell_type": "code",
   "execution_count": 170,
   "metadata": {},
   "outputs": [
    {
     "data": {
      "image/png": "[encoded data removed]",
      "text/plain": [
       "<Figure size 432x288 with 1 Axes>"
      ]
     },
     "metadata": {
      "needs_background": "light"
     },
     "output_type": "display_data"
    }
   ],
   "source": [
    "fpr, tpr, thresholds = metrics.roc_curve(y_test, y_pred)\n",
    "def plot_roc_curve(fpr, tpr, label=None):\n",
    "    plt.plot(fpr, tpr, linewidth=5, label=label)\n",
    "    plt.plot([0, 1], [0,1], 'k--')\n",
    "    plt.axis([0, 1, 0, 1])\n",
    "    \n",
    "plot_roc_curve(fpr, tpr)"
   ]
  },
  {
   "cell_type": "markdown",
   "metadata": {},
   "source": [
    "### For fun, try a classifier that always predicts alive"
   ]
  },
  {
   "cell_type": "code",
   "execution_count": 352,
   "metadata": {},
   "outputs": [],
   "source": [
    "class AliveClassifier(BaseEstimator):\n",
    "    def fit(self, X, y=None):\n",
    "        pass\n",
    "    def predict(self, X):\n",
    "        return np.zeros((X.shape[0], 1), dtype=bool)"
   ]
  },
  {
   "cell_type": "code",
   "execution_count": 354,
   "metadata": {},
   "outputs": [],
   "source": [
    "alive_predictor = AliveClassifier()\n",
    "zeros = alive_predictor.predict(X_test)\n",
    "prec_zero, rec_zero, _ = metrics.precision_recall_curve(y_test, zeros)\n"
   ]
  },
  {
   "cell_type": "code",
   "execution_count": 355,
   "metadata": {},
   "outputs": [
    {
     "data": {
      "image/png": "[encoded data removed]",
      "text/plain": [
       "<Figure size 432x288 with 1 Axes>"
      ]
     },
     "metadata": {
      "needs_background": "light"
     },
     "output_type": "display_data"
    }
   ],
   "source": [
    "plt.plot(prec_zero, rec_zero, label = \"Model1\")\n",
    "# plt.plot(prec2, rec2, label = \"Model2\")\n",
    "plt.xlabel(\"Recall\")\n",
    "plt.ylabel(\"Precision\")\n",
    "plt.title(\"Precision-Recall Curves\")\n",
    "plt.legend()\n",
    "plt.show()"
   ]
  },
  {
   "cell_type": "markdown",
   "metadata": {},
   "source": [
    "# Anything below this is scratch work\n",
    "### One option is to drop all rows containing any na"
   ]
  },
  {
   "cell_type": "code",
   "execution_count": 13,
   "metadata": {},
   "outputs": [],
   "source": [
    "df_dropped_any = df_filtered_time.dropna()"
   ]
  },
  {
   "cell_type": "code",
   "execution_count": 14,
   "metadata": {},
   "outputs": [
    {
     "data": {
      "text/plain": [
       "0    12897\n",
       "1     3488\n",
       "Name: label, dtype: int64"
      ]
     },
     "execution_count": 14,
     "metadata": {},
     "output_type": "execute_result"
    }
   ],
   "source": [
    "df_dropped_any['label'].value_counts()"
   ]
  },
  {
   "cell_type": "code",
   "execution_count": 15,
   "metadata": {},
   "outputs": [],
   "source": [
    "labels = df_dropped_any.pop('label').values\n",
    "df_dropped_any = df_dropped_any.values"
   ]
  },
  {
   "cell_type": "code",
   "execution_count": 16,
   "metadata": {},
   "outputs": [
    {
     "name": "stderr",
     "output_type": "stream",
     "text": [
      "/Users/chriszhou/anaconda/envs/py37/lib/python3.7/site-packages/sklearn/utils/deprecation.py:58: DeprecationWarning: Class Imputer is deprecated; Imputer was deprecated in version 0.20 and will be removed in 0.22. Import impute.SimpleImputer from sklearn instead.\n",
      "  warnings.warn(msg, category=DeprecationWarning)\n"
     ]
    }
   ],
   "source": [
    "from sklearn.model_selection import StratifiedKFold\n",
    "skf = StratifiedKFold(n_splits=5, random_state=42)\n",
    "\n",
    "for train_index, test_index in skf.split(df_dropped_any, labels):\n",
    "    X_train, X_test = df_dropped_any[train_index],df_dropped_any[test_index]\n",
    "    y_train, y_test = labels[train_index], labels[test_index]\n",
    "from sklearn.preprocessing import Imputer, StandardScaler\n",
    "from sklearn.pipeline import Pipeline\n",
    "num_pipeline = Pipeline([\n",
    "    ('imputer', Imputer(strategy='median')),\n",
    "    ('std_scalar', StandardScaler())\n",
    "])\n",
    "X_train = num_pipeline.fit_transform(X_train)\n",
    "X_test = num_pipeline.transform(X_test)"
   ]
  },
  {
   "cell_type": "code",
   "execution_count": 43,
   "metadata": {},
   "outputs": [],
   "source": [
    "from sklearn.ensemble import RandomForestClassifier\n",
    "rnd_clf = RandomForestClassifier(n_estimators=100, n_jobs=-1)"
   ]
  },
  {
   "cell_type": "code",
   "execution_count": 44,
   "metadata": {},
   "outputs": [
    {
     "data": {
      "text/plain": [
       "RandomForestClassifier(bootstrap=True, class_weight=None, criterion='gini',\n",
       "            max_depth=None, max_features='auto', max_leaf_nodes=None,\n",
       "            min_impurity_decrease=0.0, min_impurity_split=None,\n",
       "            min_samples_leaf=1, min_samples_split=2,\n",
       "            min_weight_fraction_leaf=0.0, n_estimators=100, n_jobs=-1,\n",
       "            oob_score=False, random_state=None, verbose=0,\n",
       "            warm_start=False)"
      ]
     },
     "execution_count": 44,
     "metadata": {},
     "output_type": "execute_result"
    }
   ],
   "source": [
    "rnd_clf.fit(X_train, y_train)"
   ]
  },
  {
   "cell_type": "code",
   "execution_count": 49,
   "metadata": {},
   "outputs": [],
   "source": [
    "y_pred = rnd_clf.predict_proba(X_test)[:, 1]"
   ]
  },
  {
   "cell_type": "code",
   "execution_count": 50,
   "metadata": {},
   "outputs": [
    {
     "ename": "ValueError",
     "evalue": "Classification metrics can't handle a mix of binary and continuous targets",
     "output_type": "error",
     "traceback": [
      "\u001b[0;31m---------------------------------------------------------------------------\u001b[0m",
      "\u001b[0;31mValueError\u001b[0m                                Traceback (most recent call last)",
      "\u001b[0;32m<ipython-input-50-0b01f6afb7b2>\u001b[0m in \u001b[0;36m<module>\u001b[0;34m\u001b[0m\n\u001b[1;32m      1\u001b[0m \u001b[0;32mfrom\u001b[0m \u001b[0msklearn\u001b[0m\u001b[0;34m.\u001b[0m\u001b[0mmetrics\u001b[0m \u001b[0;32mimport\u001b[0m \u001b[0mconfusion_matrix\u001b[0m\u001b[0;34m\u001b[0m\u001b[0;34m\u001b[0m\u001b[0m\n\u001b[0;32m----> 2\u001b[0;31m \u001b[0mconfusion_matrix\u001b[0m\u001b[0;34m(\u001b[0m\u001b[0my_test\u001b[0m\u001b[0;34m,\u001b[0m \u001b[0my_pred\u001b[0m\u001b[0;34m)\u001b[0m\u001b[0;34m\u001b[0m\u001b[0;34m\u001b[0m\u001b[0m\n\u001b[0m",
      "\u001b[0;32m~/anaconda/envs/py37/lib/python3.7/site-packages/sklearn/metrics/classification.py\u001b[0m in \u001b[0;36mconfusion_matrix\u001b[0;34m(y_true, y_pred, labels, sample_weight)\u001b[0m\n\u001b[1;32m    251\u001b[0m \u001b[0;34m\u001b[0m\u001b[0m\n\u001b[1;32m    252\u001b[0m     \"\"\"\n\u001b[0;32m--> 253\u001b[0;31m     \u001b[0my_type\u001b[0m\u001b[0;34m,\u001b[0m \u001b[0my_true\u001b[0m\u001b[0;34m,\u001b[0m \u001b[0my_pred\u001b[0m \u001b[0;34m=\u001b[0m \u001b[0m_check_targets\u001b[0m\u001b[0;34m(\u001b[0m\u001b[0my_true\u001b[0m\u001b[0;34m,\u001b[0m \u001b[0my_pred\u001b[0m\u001b[0;34m)\u001b[0m\u001b[0;34m\u001b[0m\u001b[0;34m\u001b[0m\u001b[0m\n\u001b[0m\u001b[1;32m    254\u001b[0m     \u001b[0;32mif\u001b[0m \u001b[0my_type\u001b[0m \u001b[0;32mnot\u001b[0m \u001b[0;32min\u001b[0m \u001b[0;34m(\u001b[0m\u001b[0;34m\"binary\"\u001b[0m\u001b[0;34m,\u001b[0m \u001b[0;34m\"multiclass\"\u001b[0m\u001b[0;34m)\u001b[0m\u001b[0;34m:\u001b[0m\u001b[0;34m\u001b[0m\u001b[0;34m\u001b[0m\u001b[0m\n\u001b[1;32m    255\u001b[0m         \u001b[0;32mraise\u001b[0m \u001b[0mValueError\u001b[0m\u001b[0;34m(\u001b[0m\u001b[0;34m\"%s is not supported\"\u001b[0m \u001b[0;34m%\u001b[0m \u001b[0my_type\u001b[0m\u001b[0;34m)\u001b[0m\u001b[0;34m\u001b[0m\u001b[0;34m\u001b[0m\u001b[0m\n",
      "\u001b[0;32m~/anaconda/envs/py37/lib/python3.7/site-packages/sklearn/metrics/classification.py\u001b[0m in \u001b[0;36m_check_targets\u001b[0;34m(y_true, y_pred)\u001b[0m\n\u001b[1;32m     79\u001b[0m     \u001b[0;32mif\u001b[0m \u001b[0mlen\u001b[0m\u001b[0;34m(\u001b[0m\u001b[0my_type\u001b[0m\u001b[0;34m)\u001b[0m \u001b[0;34m>\u001b[0m \u001b[0;36m1\u001b[0m\u001b[0;34m:\u001b[0m\u001b[0;34m\u001b[0m\u001b[0;34m\u001b[0m\u001b[0m\n\u001b[1;32m     80\u001b[0m         raise ValueError(\"Classification metrics can't handle a mix of {0} \"\n\u001b[0;32m---> 81\u001b[0;31m                          \"and {1} targets\".format(type_true, type_pred))\n\u001b[0m\u001b[1;32m     82\u001b[0m \u001b[0;34m\u001b[0m\u001b[0m\n\u001b[1;32m     83\u001b[0m     \u001b[0;31m# We can't have more than one value on y_type => The set is no more needed\u001b[0m\u001b[0;34m\u001b[0m\u001b[0;34m\u001b[0m\u001b[0;34m\u001b[0m\u001b[0m\n",
      "\u001b[0;31mValueError\u001b[0m: Classification metrics can't handle a mix of binary and continuous targets"
     ]
    }
   ],
   "source": [
    "from sklearn.metrics import confusion_matrix\n",
    "confusion_matrix(y_test, y_pred)"
   ]
  },
  {
   "cell_type": "code",
   "execution_count": 51,
   "metadata": {},
   "outputs": [
    {
     "data": {
      "image/png": "[encoded data removed]",
      "text/plain": [
       "<Figure size 432x288 with 1 Axes>"
      ]
     },
     "metadata": {
      "needs_background": "light"
     },
     "output_type": "display_data"
    }
   ],
   "source": [
    "from sklearn import metrics\n",
    "fpr, tpr, thresholds = metrics.roc_curve(y_test, y_pred)\n",
    "def plot_roc_curve(fpr, tpr, label=None):\n",
    "    plt.plot(fpr, tpr, linewidth=5, label=label)\n",
    "    plt.plot([0, 1], [0,1], 'k--')\n",
    "    plt.axis([0, 1, 0, 1])\n",
    "    \n",
    "plot_roc_curve(fpr, tpr)"
   ]
  },
  {
   "cell_type": "code",
   "execution_count": 52,
   "metadata": {},
   "outputs": [],
   "source": [
    "prec1, rec1, thresholds1 = metrics.precision_recall_curve(y_test, y_pred)"
   ]
  },
  {
   "cell_type": "markdown",
   "metadata": {},
   "source": [
    "### If we only drop urine and use median imputation"
   ]
  },
  {
   "cell_type": "code",
   "execution_count": 53,
   "metadata": {},
   "outputs": [
    {
     "ename": "AttributeError",
     "evalue": "'numpy.ndarray' object has no attribute 'drop'",
     "output_type": "error",
     "traceback": [
      "\u001b[0;31m---------------------------------------------------------------------------\u001b[0m",
      "\u001b[0;31mAttributeError\u001b[0m                            Traceback (most recent call last)",
      "\u001b[0;32m<ipython-input-53-27310e15c2a0>\u001b[0m in \u001b[0;36m<module>\u001b[0;34m\u001b[0m\n\u001b[0;32m----> 1\u001b[0;31m \u001b[0mdf_filtered_time\u001b[0m\u001b[0;34m.\u001b[0m\u001b[0mdrop\u001b[0m\u001b[0;34m(\u001b[0m\u001b[0mcolumns\u001b[0m\u001b[0;34m=\u001b[0m\u001b[0;34m[\u001b[0m\u001b[0;34m'Urine output_sum'\u001b[0m\u001b[0;34m]\u001b[0m\u001b[0;34m,\u001b[0m \u001b[0minplace\u001b[0m\u001b[0;34m=\u001b[0m\u001b[0;32mTrue\u001b[0m\u001b[0;34m)\u001b[0m\u001b[0;34m\u001b[0m\u001b[0;34m\u001b[0m\u001b[0m\n\u001b[0m\u001b[1;32m      2\u001b[0m \u001b[0mlabels\u001b[0m \u001b[0;34m=\u001b[0m \u001b[0mdf_filtered_time\u001b[0m\u001b[0;34m.\u001b[0m\u001b[0mpop\u001b[0m\u001b[0;34m(\u001b[0m\u001b[0;34m'label'\u001b[0m\u001b[0;34m)\u001b[0m\u001b[0;34m.\u001b[0m\u001b[0mvalues\u001b[0m\u001b[0;34m\u001b[0m\u001b[0;34m\u001b[0m\u001b[0m\n\u001b[1;32m      3\u001b[0m \u001b[0mdf_filtered_time\u001b[0m \u001b[0;34m=\u001b[0m \u001b[0mdf_filtered_time\u001b[0m\u001b[0;34m.\u001b[0m\u001b[0mvalues\u001b[0m\u001b[0;34m\u001b[0m\u001b[0;34m\u001b[0m\u001b[0m\n",
      "\u001b[0;31mAttributeError\u001b[0m: 'numpy.ndarray' object has no attribute 'drop'"
     ]
    }
   ],
   "source": [
    "df_filtered_time.drop(columns=['Urine output_sum'], inplace=True)\n",
    "labels = df_filtered_time.pop('label').values\n",
    "df_filtered_time = df_filtered_time.values"
   ]
  },
  {
   "cell_type": "code",
   "execution_count": 54,
   "metadata": {},
   "outputs": [],
   "source": [
    "from sklearn.model_selection import StratifiedKFold\n",
    "skf = StratifiedKFold(n_splits=5, random_state=42)\n",
    "\n",
    "for train_index, test_index in skf.split(df_filtered_time, labels):\n",
    "    X_train, X_test = df_filtered_time[train_index],df_filtered_time[test_index]\n",
    "    y_train, y_test = labels[train_index], labels[test_index]"
   ]
  },
  {
   "cell_type": "code",
   "execution_count": 55,
   "metadata": {},
   "outputs": [],
   "source": [
    "X_train = num_pipeline.fit_transform(X_train)\n",
    "X_test = num_pipeline.transform(X_test)"
   ]
  },
  {
   "cell_type": "code",
   "execution_count": 56,
   "metadata": {},
   "outputs": [],
   "source": [
    "y_pred = rnd_clf.fit(X_train, y_train).predict_proba(X_test)[:, 1]"
   ]
  },
  {
   "cell_type": "code",
   "execution_count": 57,
   "metadata": {},
   "outputs": [],
   "source": [
    "prec2, rec2, thresholds2 = metrics.precision_recall_curve(y_test, y_pred)"
   ]
  },
  {
   "cell_type": "code",
   "execution_count": 58,
   "metadata": {},
   "outputs": [
    {
     "data": {
      "image/png": "[encoded data removed]",
      "text/plain": [
       "<Figure size 432x288 with 1 Axes>"
      ]
     },
     "metadata": {
      "needs_background": "light"
     },
     "output_type": "display_data"
    }
   ],
   "source": [
    "plt.plot(prec1, rec1, label = \"Model1\")\n",
    "plt.plot(prec2, rec2, label = \"Model2\")\n",
    "plt.xlabel(\"Recall\")\n",
    "plt.ylabel(\"Precision\")\n",
    "plt.title(\"Precision-Recall Curves\")\n",
    "plt.legend()\n",
    "plt.show()"
   ]
  },
  {
   "cell_type": "markdown",
   "metadata": {},
   "source": [
    "### SVMs"
   ]
  },
  {
   "cell_type": "code",
   "execution_count": 59,
   "metadata": {},
   "outputs": [],
   "source": [
    "from sklearn.svm import LinearSVC\n",
    "svm = LinearSVC(class_weight='balanced', C=1.0, verbose=2, max_iter=5000)"
   ]
  },
  {
   "cell_type": "code",
   "execution_count": 61,
   "metadata": {},
   "outputs": [
    {
     "name": "stdout",
     "output_type": "stream",
     "text": [
      "[LibLinear]"
     ]
    },
    {
     "name": "stderr",
     "output_type": "stream",
     "text": [
      "/Users/chriszhou/anaconda/envs/py37/lib/python3.7/site-packages/sklearn/svm/base.py:931: ConvergenceWarning: Liblinear failed to converge, increase the number of iterations.\n",
      "  \"the number of iterations.\", ConvergenceWarning)\n"
     ]
    },
    {
     "data": {
      "text/plain": [
       "LinearSVC(C=1.0, class_weight='balanced', dual=True, fit_intercept=True,\n",
       "     intercept_scaling=1, loss='squared_hinge', max_iter=5000,\n",
       "     multi_class='ovr', penalty='l2', random_state=None, tol=0.0001,\n",
       "     verbose=2)"
      ]
     },
     "execution_count": 61,
     "metadata": {},
     "output_type": "execute_result"
    }
   ],
   "source": [
    "svm.fit(X_train, y_train)"
   ]
  },
  {
   "cell_type": "code",
   "execution_count": 62,
   "metadata": {},
   "outputs": [],
   "source": [
    "y_pred = svm.decision_function(X_test)\n",
    "prec3, rec3, thresholds3 = metrics.precision_recall_curve(y_test, y_pred)"
   ]
  },
  {
   "cell_type": "code",
   "execution_count": 63,
   "metadata": {},
   "outputs": [
    {
     "data": {
      "image/png": "[encoded data removed]",
      "text/plain": [
       "<Figure size 432x288 with 1 Axes>"
      ]
     },
     "metadata": {
      "needs_background": "light"
     },
     "output_type": "display_data"
    }
   ],
   "source": [
    "plt.plot(prec1, rec1, label = \"Forest Drop all na\")\n",
    "plt.plot(prec2, rec2, label = \"Forest impute median\")\n",
    "plt.plot(prec3, rec3, label = \"SVM\")\n",
    "plt.xlabel(\"Recall\")\n",
    "plt.ylabel(\"Precision\")\n",
    "plt.title(\"Precision-Recall Curves\")\n",
    "plt.legend()\n",
    "plt.show()"
   ]
  },
  {
   "cell_type": "markdown",
   "metadata": {},
   "source": [
    "### Simple Neural Network"
   ]
  },
  {
   "cell_type": "code",
   "execution_count": 64,
   "metadata": {},
   "outputs": [],
   "source": [
    "from sklearn.model_selection import StratifiedKFold, GridSearchCV\n",
    "from sklearn.neural_network import MLPClassifier\n",
    "cv = StratifiedKFold(n_splits = 4)\n",
    "\n",
    "param_grid = {\n",
    "    'hidden_layer_sizes': [(50,), (50, 50), (50, 50, 50), (100, 100)]\n",
    "}"
   ]
  },
  {
   "cell_type": "code",
   "execution_count": 65,
   "metadata": {},
   "outputs": [
    {
     "name": "stdout",
     "output_type": "stream",
     "text": [
      "Fitting 4 folds for each of 4 candidates, totalling 16 fits\n"
     ]
    },
    {
     "name": "stderr",
     "output_type": "stream",
     "text": [
      "[Parallel(n_jobs=-1)]: Using backend LokyBackend with 8 concurrent workers.\n",
      "[Parallel(n_jobs=-1)]: Done   7 out of  16 | elapsed:   56.5s remaining:  1.2min\n",
      "[Parallel(n_jobs=-1)]: Done  13 out of  16 | elapsed:  1.7min remaining:   23.2s\n",
      "[Parallel(n_jobs=-1)]: Done  16 out of  16 | elapsed:  1.8min finished\n"
     ]
    },
    {
     "data": {
      "text/plain": [
       "GridSearchCV(cv=StratifiedKFold(n_splits=4, random_state=None, shuffle=False),\n",
       "       error_score='raise-deprecating',\n",
       "       estimator=MLPClassifier(activation='relu', alpha=0.0001, batch_size='auto', beta_1=0.9,\n",
       "       beta_2=0.999, early_stopping=False, epsilon=1e-08,\n",
       "       hidden_layer_sizes=(100,), learning_rate='constant',\n",
       "       learning_rate_init=0.001, max_iter=200, momentum=0.9,\n",
       "       n_iter_no_change=10, nesterovs_momentum=True, power_t=0.5,\n",
       "       random_state=None, shuffle=True, solver='adam', tol=0.0001,\n",
       "       validation_fraction=0.1, verbose=False, warm_start=False),\n",
       "       fit_params=None, iid='warn', n_jobs=-1,\n",
       "       param_grid={'hidden_layer_sizes': [(50,), (50, 50), (50, 50, 50), (100, 100)]},\n",
       "       pre_dispatch='2*n_jobs', refit=True, return_train_score='warn',\n",
       "       scoring='f1', verbose=3)"
      ]
     },
     "execution_count": 65,
     "metadata": {},
     "output_type": "execute_result"
    }
   ],
   "source": [
    "bst_grid = GridSearchCV(\n",
    "    estimator = MLPClassifier(),\n",
    "    param_grid = param_grid,\n",
    "    cv = cv,\n",
    "    scoring = 'f1', \n",
    "    verbose = 3,\n",
    "    n_jobs = -1)\n",
    "bst_grid.fit(X_train, y_train)"
   ]
  },
  {
   "cell_type": "code",
   "execution_count": 66,
   "metadata": {},
   "outputs": [
    {
     "data": {
      "image/png": "[encoded data removed]",
      "text/plain": [
       "<Figure size 432x288 with 1 Axes>"
      ]
     },
     "metadata": {
      "needs_background": "light"
     },
     "output_type": "display_data"
    }
   ],
   "source": [
    "y_pred = bst_grid.best_estimator_.predict_proba(X_test)[:,1]\n",
    "prec4, rec4, thresholds4 = metrics.precision_recall_curve(y_test, y_pred)\n",
    "plt.plot(prec1, rec1, label = \"Forest Drop all na\")\n",
    "plt.plot(prec2, rec2, label = \"Forest impute median\")\n",
    "plt.plot(prec3, rec3, label = \"SVM\")\n",
    "plt.plot(prec4, rec4, label = \"Neural Network\")\n",
    "plt.xlabel(\"Recall\")\n",
    "plt.ylabel(\"Precision\")\n",
    "plt.title(\"Precision-Recall Curves\")\n",
    "plt.legend()\n",
    "plt.show()\n"
   ]
  },
  {
   "cell_type": "markdown",
   "metadata": {},
   "source": [
    "### Adaboost"
   ]
  },
  {
   "cell_type": "code",
   "execution_count": 74,
   "metadata": {},
   "outputs": [],
   "source": [
    "from sklearn.ensemble import AdaBoostClassifier\n",
    "rnd_clf = RandomForestClassifier(n_estimators=50, n_jobs=-1)\n",
    "ada_clf = AdaBoostClassifier(learning_rate=.5)"
   ]
  },
  {
   "cell_type": "code",
   "execution_count": 75,
   "metadata": {},
   "outputs": [
    {
     "data": {
      "text/plain": [
       "AdaBoostClassifier(algorithm='SAMME.R', base_estimator=None,\n",
       "          learning_rate=0.5, n_estimators=50, random_state=None)"
      ]
     },
     "execution_count": 75,
     "metadata": {},
     "output_type": "execute_result"
    }
   ],
   "source": [
    "ada_clf.fit(X_train, y_train)"
   ]
  },
  {
   "cell_type": "code",
   "execution_count": 76,
   "metadata": {},
   "outputs": [
    {
     "data": {
      "image/png": "[encoded data removed]",
      "text/plain": [
       "<Figure size 432x288 with 1 Axes>"
      ]
     },
     "metadata": {
      "needs_background": "light"
     },
     "output_type": "display_data"
    }
   ],
   "source": [
    "y_pred = ada_clf.predict_proba(X_test)[:, 1]\n",
    "prec5, rec5, thresholds5 = metrics.precision_recall_curve(y_test, y_pred)\n",
    "plt.plot(prec1, rec1, label = \"Forest Drop all na\")\n",
    "plt.plot(prec2, rec2, label = \"Forest impute median\")\n",
    "plt.plot(prec3, rec3, label = \"SVM\")\n",
    "plt.plot(prec4, rec4, label = \"Neural Network\")\n",
    "plt.plot(prec5, rec5, label = \"Adaboost\")\n",
    "plt.xlabel(\"Recall\")\n",
    "plt.ylabel(\"Precision\")\n",
    "plt.title(\"Precision-Recall Curves\")\n",
    "plt.legend()\n",
    "plt.show()"
   ]
  },
  {
   "cell_type": "markdown",
   "metadata": {},
   "source": [
    "### Removed Abnormal Labs"
   ]
  },
  {
   "cell_type": "code",
   "execution_count": 77,
   "metadata": {},
   "outputs": [],
   "source": [
    "df_filtered_time_only_abnormal_sum.drop(columns=['Urine output_sum'], inplace=True)\n",
    "labels = df_filtered_time_only_abnormal_sum.pop('label').values\n",
    "df_filtered_time_only_abnormal_sum = df_filtered_time_only_abnormal_sum.values"
   ]
  },
  {
   "cell_type": "code",
   "execution_count": 78,
   "metadata": {},
   "outputs": [],
   "source": [
    "for train_index, test_index in skf.split(df_filtered_time, labels):\n",
    "    X_train, X_test = df_filtered_time_only_abnormal_sum[train_index],df_filtered_time_only_abnormal_sum[test_index]\n",
    "    y_train, y_test = labels[train_index], labels[test_index]"
   ]
  },
  {
   "cell_type": "code",
   "execution_count": 79,
   "metadata": {},
   "outputs": [],
   "source": [
    "X_train = num_pipeline.fit_transform(X_train)\n",
    "X_test = num_pipeline.transform(X_test)\n",
    "y_pred = rnd_clf.fit(X_train, y_train).predict_proba(X_test)[:, 1]"
   ]
  },
  {
   "cell_type": "code",
   "execution_count": 80,
   "metadata": {},
   "outputs": [],
   "source": [
    "prec7, rec7, thresholds7 = metrics.precision_recall_curve(y_test, y_pred)"
   ]
  },
  {
   "cell_type": "code",
   "execution_count": 81,
   "metadata": {},
   "outputs": [
    {
     "data": {
      "image/png": "[encoded data removed]",
      "text/plain": [
       "<Figure size 432x288 with 1 Axes>"
      ]
     },
     "metadata": {
      "needs_background": "light"
     },
     "output_type": "display_data"
    }
   ],
   "source": [
    "plt.plot(prec2, rec2, label = \"Full features\")\n",
    "plt.plot(prec7, rec7, label = \"Dropped abnormal labs\")\n",
    "plt.xlabel(\"Recall\")\n",
    "plt.ylabel(\"Precision\")\n",
    "plt.title(\"Precision-Recall Curves\")\n",
    "plt.legend()\n",
    "plt.show()"
   ]
  },
  {
   "cell_type": "code",
   "execution_count": 82,
   "metadata": {},
   "outputs": [
    {
     "data": {
      "text/plain": [
       "(23013, 71)"
      ]
     },
     "execution_count": 82,
     "metadata": {},
     "output_type": "execute_result"
    }
   ],
   "source": [
    "X_train.shape"
   ]
  },
  {
   "cell_type": "code",
   "execution_count": null,
   "metadata": {},
   "outputs": [],
   "source": []
  }
 ],
 "metadata": {
  "kernelspec": {
   "display_name": "Python 3",
   "language": "python",
   "name": "python3"
  },
  "language_info": {
   "codemirror_mode": {
    "name": "ipython",
    "version": 3
   },
   "file_extension": ".py",
   "mimetype": "text/x-python",
   "name": "python",
   "nbconvert_exporter": "python",
   "pygments_lexer": "ipython3",
   "version": "3.7.3"
  }
 },
 "nbformat": 4,
 "nbformat_minor": 2
}
