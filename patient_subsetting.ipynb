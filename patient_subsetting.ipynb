{
 "cells": [
  {
   "cell_type": "code",
   "execution_count": 45,
   "metadata": {},
   "outputs": [],
   "source": [
    "import pandas as pd\n",
    "import numpy as np\n",
    "import seaborn as sns\n",
    "%matplotlib inline\n",
    "import statistics\n",
    "import matplotlib.pyplot as plt\n",
    "import sqlite3 # library for working with sqlite database\n",
    "conn = sqlite3.connect(\"./data/MIMIC.db\") # Create a connection to the on-disk database"
   ]
  },
  {
   "cell_type": "code",
   "execution_count": 18,
   "metadata": {},
   "outputs": [],
   "source": [
    "chartevents_life = pd.read_csv('./data/live_patient.csv')\n",
    "chartevents_life.drop(columns='Unnamed: 0', inplace=True)\n",
    "chartevents_dead = pd.read_csv('./data/dead_patient_merged.csv')\n"
   ]
  },
  {
   "cell_type": "code",
   "execution_count": 33,
   "metadata": {},
   "outputs": [],
   "source": [
    "bad_rows = chartevents_dead['ROW_ID'] == 'ROW_ID'\n",
    "chartevents_dead = chartevents_dead[~bad_rows]"
   ]
  },
  {
   "cell_type": "code",
   "execution_count": 41,
   "metadata": {},
   "outputs": [],
   "source": [
    "chartevents_dead = chartevents_dead.apply(pd.to_numeric, errors='ignore')\n",
    "chartevents_life = chartevents_life.apply(pd.to_numeric, errors='ignore')\n",
    "chartevents_subset = pd.concat([chartevents_dead, chartevents_life])\n",
    "chartevents_subset.to_csv('./subsets/chartevents_subset.csv')"
   ]
  },
  {
   "cell_type": "code",
   "execution_count": 56,
   "metadata": {},
   "outputs": [
    {
     "data": {
      "text/plain": [
       "array([102390, 105348, 116543, 117382, 118776, 122406, 124326, 128770,\n",
       "       129210, 133081, 133162, 135502, 144424, 150548, 150832, 151162,\n",
       "       151408, 151881, 154543, 155418, 158150, 160370, 160709, 160781,\n",
       "       163132, 163415, 165931, 166581, 174225, 174377, 175419, 175645,\n",
       "       176453, 182705, 183200, 183330, 184273, 186199, 186278, 190494,\n",
       "       192441, 194592, 196076])"
      ]
     },
     "execution_count": 56,
     "metadata": {},
     "output_type": "execute_result"
    }
   ],
   "source": [
    "uniques = chartevents_subset.HADM_ID.unique()\n",
    "uniques.sort()\n",
    "uniques"
   ]
  },
  {
   "cell_type": "code",
   "execution_count": 71,
   "metadata": {},
   "outputs": [],
   "source": [
    "admissions_subset = pd.read_sql(\"\"\"SELECT *\n",
    "                            FROM admissions\n",
    "                            WHERE hadm_id IN (183200, 163132, 184273, 118776, 183330, 129210, 196076, 174225,\n",
    "       182705, 186199, 133081, 160781, 160370, 151408, 122406, 150548,\n",
    "       166581, 135502, 102390, 165931, 133162, 150832, 158150, 116543,\n",
    "       151162, 175645, 105348, 186278, 160709, 190494, 194592, 117382,\n",
    "       192441, 128770, 176453, 154543, 124326, 151881, 175419, 163415,\n",
    "       144424, 174377, 155418)\n",
    "                            \"\"\", conn)\n",
    "admissions_subset.to_csv('./subsets/admissions_subset.csv')"
   ]
  },
  {
   "cell_type": "code",
   "execution_count": 72,
   "metadata": {},
   "outputs": [],
   "source": [
    "cptevents_subset = pd.read_sql(\"\"\"SELECT *\n",
    "                            FROM cptevents\n",
    "                            WHERE hadm_id IN (183200, 163132, 184273, 118776, 183330, 129210, 196076, 174225,\n",
    "       182705, 186199, 133081, 160781, 160370, 151408, 122406, 150548,\n",
    "       166581, 135502, 102390, 165931, 133162, 150832, 158150, 116543,\n",
    "       151162, 175645, 105348, 186278, 160709, 190494, 194592, 117382,\n",
    "       192441, 128770, 176453, 154543, 124326, 151881, 175419, 163415,\n",
    "       144424, 174377, 155418)\n",
    "                            \"\"\", conn)\n",
    "cptevents_subset.to_csv('./subsets/cptevents_subset.csv')"
   ]
  },
  {
   "cell_type": "code",
   "execution_count": 73,
   "metadata": {},
   "outputs": [],
   "source": [
    "datetimeevents_subset = pd.read_sql(\"\"\"SELECT *\n",
    "                            FROM datetimeevents\n",
    "                            WHERE hadm_id IN (183200, 163132, 184273, 118776, 183330, 129210, 196076, 174225,\n",
    "       182705, 186199, 133081, 160781, 160370, 151408, 122406, 150548,\n",
    "       166581, 135502, 102390, 165931, 133162, 150832, 158150, 116543,\n",
    "       151162, 175645, 105348, 186278, 160709, 190494, 194592, 117382,\n",
    "       192441, 128770, 176453, 154543, 124326, 151881, 175419, 163415,\n",
    "       144424, 174377, 155418)\n",
    "                            \"\"\", conn)\n",
    "datetimeevents_subset.to_csv('./subsets/datetime_subset.csv')"
   ]
  },
  {
   "cell_type": "code",
   "execution_count": 74,
   "metadata": {},
   "outputs": [],
   "source": [
    "diagnoses_icd_subset = pd.read_sql(\"\"\"SELECT *\n",
    "                            FROM diagnoses_icd\n",
    "                            WHERE hadm_id IN (183200, 163132, 184273, 118776, 183330, 129210, 196076, 174225,\n",
    "       182705, 186199, 133081, 160781, 160370, 151408, 122406, 150548,\n",
    "       166581, 135502, 102390, 165931, 133162, 150832, 158150, 116543,\n",
    "       151162, 175645, 105348, 186278, 160709, 190494, 194592, 117382,\n",
    "       192441, 128770, 176453, 154543, 124326, 151881, 175419, 163415,\n",
    "       144424, 174377, 155418)\n",
    "                            \"\"\", conn)\n",
    "diagnoses_icd_subset.to_csv('./subsets/diagnoses_icd_subset.csv')"
   ]
  },
  {
   "cell_type": "code",
   "execution_count": 75,
   "metadata": {},
   "outputs": [],
   "source": [
    "drgcodes_subset = pd.read_sql(\"\"\"SELECT *\n",
    "                            FROM drgcodes\n",
    "                            WHERE hadm_id IN (183200, 163132, 184273, 118776, 183330, 129210, 196076, 174225,\n",
    "       182705, 186199, 133081, 160781, 160370, 151408, 122406, 150548,\n",
    "       166581, 135502, 102390, 165931, 133162, 150832, 158150, 116543,\n",
    "       151162, 175645, 105348, 186278, 160709, 190494, 194592, 117382,\n",
    "       192441, 128770, 176453, 154543, 124326, 151881, 175419, 163415,\n",
    "       144424, 174377, 155418)\n",
    "                            \"\"\", conn)\n",
    "drgcodes_subset.to_csv('./subsets/drgcodes_subset.csv')"
   ]
  },
  {
   "cell_type": "code",
   "execution_count": 76,
   "metadata": {},
   "outputs": [],
   "source": [
    "icustays_subset = pd.read_sql(\"\"\"SELECT *\n",
    "                            FROM icustays\n",
    "                            WHERE hadm_id IN (183200, 163132, 184273, 118776, 183330, 129210, 196076, 174225,\n",
    "       182705, 186199, 133081, 160781, 160370, 151408, 122406, 150548,\n",
    "       166581, 135502, 102390, 165931, 133162, 150832, 158150, 116543,\n",
    "       151162, 175645, 105348, 186278, 160709, 190494, 194592, 117382,\n",
    "       192441, 128770, 176453, 154543, 124326, 151881, 175419, 163415,\n",
    "       144424, 174377, 155418)\n",
    "                            \"\"\", conn)\n",
    "icustays_subset.to_csv('./subsets/icustays_subset.csv')"
   ]
  },
  {
   "cell_type": "code",
   "execution_count": 77,
   "metadata": {},
   "outputs": [],
   "source": [
    "inputevents_cv_subset = pd.read_sql(\"\"\"SELECT *\n",
    "                            FROM inputevents_cv\n",
    "                            WHERE hadm_id IN (183200, 163132, 184273, 118776, 183330, 129210, 196076, 174225,\n",
    "       182705, 186199, 133081, 160781, 160370, 151408, 122406, 150548,\n",
    "       166581, 135502, 102390, 165931, 133162, 150832, 158150, 116543,\n",
    "       151162, 175645, 105348, 186278, 160709, 190494, 194592, 117382,\n",
    "       192441, 128770, 176453, 154543, 124326, 151881, 175419, 163415,\n",
    "       144424, 174377, 155418)\n",
    "                            \"\"\", conn)\n",
    "inputevents_cv_subset.to_csv('./subsets/inputevents_cv_subset.csv')"
   ]
  },
  {
   "cell_type": "code",
   "execution_count": 78,
   "metadata": {},
   "outputs": [],
   "source": [
    "inputevents_mv_subset = pd.read_sql(\"\"\"SELECT *\n",
    "                            FROM inputevents_mv\n",
    "                            WHERE hadm_id IN (183200, 163132, 184273, 118776, 183330, 129210, 196076, 174225,\n",
    "       182705, 186199, 133081, 160781, 160370, 151408, 122406, 150548,\n",
    "       166581, 135502, 102390, 165931, 133162, 150832, 158150, 116543,\n",
    "       151162, 175645, 105348, 186278, 160709, 190494, 194592, 117382,\n",
    "       192441, 128770, 176453, 154543, 124326, 151881, 175419, 163415,\n",
    "       144424, 174377, 155418)\n",
    "                            \"\"\", conn)\n",
    "inputevents_mv_subset.to_csv('./subsets/inputevents_mv_subset.csv')"
   ]
  },
  {
   "cell_type": "code",
   "execution_count": 79,
   "metadata": {},
   "outputs": [],
   "source": [
    "labevents_subset = pd.read_sql(\"\"\"SELECT *\n",
    "                            FROM labevents\n",
    "                            WHERE hadm_id IN (183200, 163132, 184273, 118776, 183330, 129210, 196076, 174225,\n",
    "       182705, 186199, 133081, 160781, 160370, 151408, 122406, 150548,\n",
    "       166581, 135502, 102390, 165931, 133162, 150832, 158150, 116543,\n",
    "       151162, 175645, 105348, 186278, 160709, 190494, 194592, 117382,\n",
    "       192441, 128770, 176453, 154543, 124326, 151881, 175419, 163415,\n",
    "       144424, 174377, 155418)\n",
    "                            \"\"\", conn)\n",
    "labevents_subset.to_csv('./subsets/labevents_subset.csv')"
   ]
  },
  {
   "cell_type": "code",
   "execution_count": 80,
   "metadata": {},
   "outputs": [],
   "source": [
    "microbiologyevents_subset = pd.read_sql(\"\"\"SELECT *\n",
    "                            FROM microbiologyevents\n",
    "                            WHERE hadm_id IN (183200, 163132, 184273, 118776, 183330, 129210, 196076, 174225,\n",
    "       182705, 186199, 133081, 160781, 160370, 151408, 122406, 150548,\n",
    "       166581, 135502, 102390, 165931, 133162, 150832, 158150, 116543,\n",
    "       151162, 175645, 105348, 186278, 160709, 190494, 194592, 117382,\n",
    "       192441, 128770, 176453, 154543, 124326, 151881, 175419, 163415,\n",
    "       144424, 174377, 155418)\n",
    "                            \"\"\", conn)\n",
    "microbiologyevents_subset.to_csv('./subsets/microbiologyevents_subset.csv')"
   ]
  },
  {
   "cell_type": "code",
   "execution_count": 81,
   "metadata": {},
   "outputs": [],
   "source": [
    "outputevents_subset = pd.read_sql(\"\"\"SELECT *\n",
    "                            FROM outputevents\n",
    "                            WHERE hadm_id IN (183200, 163132, 184273, 118776, 183330, 129210, 196076, 174225,\n",
    "       182705, 186199, 133081, 160781, 160370, 151408, 122406, 150548,\n",
    "       166581, 135502, 102390, 165931, 133162, 150832, 158150, 116543,\n",
    "       151162, 175645, 105348, 186278, 160709, 190494, 194592, 117382,\n",
    "       192441, 128770, 176453, 154543, 124326, 151881, 175419, 163415,\n",
    "       144424, 174377, 155418)\n",
    "                            \"\"\", conn)\n",
    "outputevents_subset.to_csv('./subsets/outputevents_subset.csv')"
   ]
  },
  {
   "cell_type": "code",
   "execution_count": 82,
   "metadata": {},
   "outputs": [],
   "source": [
    "prescriptions_subset = pd.read_sql(\"\"\"SELECT *\n",
    "                            FROM prescriptions\n",
    "                            WHERE hadm_id IN (183200, 163132, 184273, 118776, 183330, 129210, 196076, 174225,\n",
    "       182705, 186199, 133081, 160781, 160370, 151408, 122406, 150548,\n",
    "       166581, 135502, 102390, 165931, 133162, 150832, 158150, 116543,\n",
    "       151162, 175645, 105348, 186278, 160709, 190494, 194592, 117382,\n",
    "       192441, 128770, 176453, 154543, 124326, 151881, 175419, 163415,\n",
    "       144424, 174377, 155418)\n",
    "                            \"\"\", conn)\n",
    "prescriptions_subset.to_csv('./subsets/prescriptions_subset.csv')"
   ]
  },
  {
   "cell_type": "code",
   "execution_count": 83,
   "metadata": {},
   "outputs": [],
   "source": [
    "procedureevents_mv_subset = pd.read_sql(\"\"\"SELECT *\n",
    "                            FROM procedureevents_mv\n",
    "                            WHERE hadm_id IN (183200, 163132, 184273, 118776, 183330, 129210, 196076, 174225,\n",
    "       182705, 186199, 133081, 160781, 160370, 151408, 122406, 150548,\n",
    "       166581, 135502, 102390, 165931, 133162, 150832, 158150, 116543,\n",
    "       151162, 175645, 105348, 186278, 160709, 190494, 194592, 117382,\n",
    "       192441, 128770, 176453, 154543, 124326, 151881, 175419, 163415,\n",
    "       144424, 174377, 155418)\n",
    "                            \"\"\", conn)\n",
    "procedureevents_mv_subset.to_csv('./subsets/procedureevents_mv_subset.csv')"
   ]
  },
  {
   "cell_type": "code",
   "execution_count": 84,
   "metadata": {},
   "outputs": [],
   "source": [
    "procedures_icd_subset = pd.read_sql(\"\"\"SELECT *\n",
    "                            FROM procedures_icd\n",
    "                            WHERE hadm_id IN (183200, 163132, 184273, 118776, 183330, 129210, 196076, 174225,\n",
    "       182705, 186199, 133081, 160781, 160370, 151408, 122406, 150548,\n",
    "       166581, 135502, 102390, 165931, 133162, 150832, 158150, 116543,\n",
    "       151162, 175645, 105348, 186278, 160709, 190494, 194592, 117382,\n",
    "       192441, 128770, 176453, 154543, 124326, 151881, 175419, 163415,\n",
    "       144424, 174377, 155418)\n",
    "                            \"\"\", conn)\n",
    "procedures_icd_subset.to_csv('./subsets/procedures_icd_subset.csv')"
   ]
  },
  {
   "cell_type": "code",
   "execution_count": null,
   "metadata": {},
   "outputs": [],
   "source": []
  }
 ],
 "metadata": {
  "kernelspec": {
   "display_name": "Python 3",
   "language": "python",
   "name": "python3"
  },
  "language_info": {
   "codemirror_mode": {
    "name": "ipython",
    "version": 3
   },
   "file_extension": ".py",
   "mimetype": "text/x-python",
   "name": "python",
   "nbconvert_exporter": "python",
   "pygments_lexer": "ipython3",
   "version": "3.7.3"
  }
 },
 "nbformat": 4,
 "nbformat_minor": 2
}
